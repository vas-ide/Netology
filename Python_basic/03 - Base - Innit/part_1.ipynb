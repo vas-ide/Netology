{
 "cells": [
  {
   "cell_type": "markdown",
   "metadata": {},
   "source": [
    "# Простые типы данных"
   ]
  },
  {
   "cell_type": "code",
   "execution_count": null,
   "metadata": {},
   "outputs": [],
   "source": [
    "my_integer = 10\n",
    "type(my_integer)"
   ]
  },
  {
   "cell_type": "code",
   "execution_count": null,
   "metadata": {},
   "outputs": [],
   "source": [
    "my_float = 5.5\n",
    "type(my_float)"
   ]
  },
  {
   "cell_type": "code",
   "execution_count": null,
   "metadata": {},
   "outputs": [],
   "source": [
    "my_string = 'Hello World!'\n",
    "my_string_2 = \"Hello World\"\n",
    "type(my_string)"
   ]
  },
  {
   "cell_type": "code",
   "execution_count": null,
   "metadata": {},
   "outputs": [],
   "source": [
    "# my_bool = True\n",
    "my_bool = False\n",
    "type(my_bool)"
   ]
  },
  {
   "cell_type": "code",
   "execution_count": null,
   "metadata": {},
   "outputs": [],
   "source": [
    "x = 5\n",
    "y = 1\n",
    "type(x > y)"
   ]
  },
  {
   "cell_type": "code",
   "execution_count": null,
   "metadata": {},
   "outputs": [],
   "source": [
    "# преобразование типов\n",
    "salary = 1000\n",
    "print('Ваша годовая зарплата составляет ' + salary + ' условных единиц')"
   ]
  },
  {
   "cell_type": "code",
   "execution_count": null,
   "metadata": {},
   "outputs": [],
   "source": [
    "print('Ваша годовая зарплата составляет ' + str(salary) + ' условных единиц')"
   ]
  },
  {
   "cell_type": "code",
   "execution_count": null,
   "metadata": {},
   "outputs": [],
   "source": [
    "# неявное преобразование типов\n",
    "# print(1 + False)\n",
    "# print(20 / 5.0)"
   ]
  },
  {
   "cell_type": "markdown",
   "metadata": {},
   "source": [
    "## Строки"
   ]
  },
  {
   "cell_type": "code",
   "execution_count": null,
   "metadata": {},
   "outputs": [],
   "source": [
    "'Hi, ' + 'Oleg'"
   ]
  },
  {
   "cell_type": "code",
   "execution_count": null,
   "metadata": {},
   "outputs": [],
   "source": [
    "my_string.upper()"
   ]
  },
  {
   "cell_type": "code",
   "execution_count": null,
   "metadata": {},
   "outputs": [],
   "source": [
    "my_string.lower()"
   ]
  },
  {
   "cell_type": "code",
   "execution_count": null,
   "metadata": {},
   "outputs": [],
   "source": [
    "my_string.capitalize()"
   ]
  },
  {
   "cell_type": "code",
   "execution_count": null,
   "metadata": {},
   "outputs": [],
   "source": [
    "my_string.replace('Hello', 'Goodbye')"
   ]
  },
  {
   "cell_type": "code",
   "execution_count": null,
   "metadata": {},
   "outputs": [],
   "source": [
    "len(my_string)"
   ]
  },
  {
   "cell_type": "markdown",
   "metadata": {},
   "source": [
    "## Индексация и срезы"
   ]
  },
  {
   "cell_type": "code",
   "execution_count": 2,
   "metadata": {},
   "outputs": [],
   "source": [
    "my_string = 'Hello World'"
   ]
  },
  {
   "cell_type": "code",
   "execution_count": 3,
   "metadata": {},
   "outputs": [
    {
     "data": {
      "text/plain": "'l'"
     },
     "execution_count": 3,
     "metadata": {},
     "output_type": "execute_result"
    }
   ],
   "source": [
    "my_string[2]"
   ]
  },
  {
   "cell_type": "code",
   "execution_count": null,
   "metadata": {},
   "outputs": [],
   "source": [
    "my_string[-4]"
   ]
  },
  {
   "cell_type": "code",
   "execution_count": null,
   "metadata": {},
   "outputs": [],
   "source": [
    "my_string[0:5]"
   ]
  },
  {
   "cell_type": "code",
   "execution_count": null,
   "metadata": {},
   "outputs": [],
   "source": [
    "my_string = 'Hello World'\n",
    "my_string[0:8:2]"
   ]
  },
  {
   "cell_type": "code",
   "execution_count": null,
   "metadata": {},
   "outputs": [],
   "source": [
    "my_string[6:]"
   ]
  },
  {
   "cell_type": "code",
   "execution_count": 1,
   "metadata": {},
   "outputs": [
    {
     "ename": "NameError",
     "evalue": "name 'my_string' is not defined",
     "output_type": "error",
     "traceback": [
      "\u001B[1;31m---------------------------------------------------------------------------\u001B[0m",
      "\u001B[1;31mNameError\u001B[0m                                 Traceback (most recent call last)",
      "Cell \u001B[1;32mIn[1], line 1\u001B[0m\n\u001B[1;32m----> 1\u001B[0m \u001B[43mmy_string\u001B[49m[:\u001B[38;5;241m5\u001B[39m]\n",
      "\u001B[1;31mNameError\u001B[0m: name 'my_string' is not defined"
     ]
    }
   ],
   "source": [
    "my_string[:5]"
   ]
  },
  {
   "cell_type": "markdown",
   "metadata": {},
   "source": [
    "## Упражнение\n",
    "Выделите номер часа из даты следующего формата"
   ]
  },
  {
   "cell_type": "code",
   "execution_count": null,
   "metadata": {},
   "outputs": [],
   "source": [
    "date = '2019-08-27T23:59:00.932'"
   ]
  },
  {
   "cell_type": "code",
   "execution_count": null,
   "metadata": {},
   "outputs": [],
   "source": []
  },
  {
   "cell_type": "markdown",
   "metadata": {},
   "source": [
    "## Проверка на вхождение элемента в объект"
   ]
  },
  {
   "cell_type": "code",
   "execution_count": null,
   "metadata": {},
   "outputs": [],
   "source": [
    "my_string = 'Hello World'\n",
    "target_string = 'World'\n",
    "if target_string not in my_string:\n",
    "    print('not find!')"
   ]
  },
  {
   "cell_type": "markdown",
   "metadata": {},
   "source": [
    "## f-строки"
   ]
  },
  {
   "cell_type": "code",
   "execution_count": 4,
   "metadata": {},
   "outputs": [
    {
     "name": "stdout",
     "output_type": "stream",
     "text": [
      "Hello, Oleg, i know python a bit\n",
      "<class 'str'>\n"
     ]
    }
   ],
   "source": [
    "name = 'oleg'\n",
    "lang = 'python'\n",
    "t = f\"Hello, {name.capitalize()}, i know {lang} a bit\"\n",
    "print(t)\n",
    "print(type(t))"
   ]
  },
  {
   "cell_type": "markdown",
   "metadata": {},
   "source": [
    "# Списки"
   ]
  },
  {
   "cell_type": "code",
   "execution_count": null,
   "metadata": {},
   "outputs": [],
   "source": [
    "month_list = ['Jan', 'Feb', 'Mar', 'Apr', 'May', 'Jun', 'Jul', 'Aug', 'Sep']\n",
    "income_list = [13000, 14000, 14300, 15000, 13800, 13000, 14900, 15200, 15300]\n",
    "income_by_months = [['Jan', 13000], ['Feb', 14000], ['Mar', 14300], ['Apr', 15000], ['May', 13800], ['Jun', 13000], ['Jul', 14900], ['Aug', 15200], ['Sep', 15300]]"
   ]
  },
  {
   "cell_type": "code",
   "execution_count": null,
   "metadata": {},
   "outputs": [],
   "source": [
    "print(type(month_list))\n",
    "print(type(income_list))\n",
    "print(type(income_by_months))"
   ]
  },
  {
   "cell_type": "code",
   "execution_count": null,
   "metadata": {},
   "outputs": [],
   "source": [
    "# индексация элементов в списке\n",
    "print(month_list[0])\n",
    "print(month_list[-1])\n",
    "print(income_by_months[-4])"
   ]
  },
  {
   "cell_type": "code",
   "execution_count": null,
   "metadata": {},
   "outputs": [],
   "source": [
    "# срезы\n",
    "print(income_by_months[0:2])\n",
    "print('--------------')\n",
    "print(income_by_months[-8:-6])\n",
    "print('--------------')\n",
    "print(income_by_months[2:])\n",
    "print('--------------')\n",
    "print(income_by_months[:3])"
   ]
  },
  {
   "cell_type": "code",
   "execution_count": null,
   "metadata": {},
   "outputs": [],
   "source": [
    "# можно обращаться к любому уровню вложенности\n",
    "income_by_months = [['Jan', 13000], ['Feb', 14000], ['Mar', 14300], ['Apr', 15000], ['May', 13800], ['Jun', 13000], ['Jul', 14900], ['Aug', 15200], ['Sep', 15300]]\n",
    "income_by_months[0][0]"
   ]
  },
  {
   "cell_type": "code",
   "execution_count": null,
   "metadata": {},
   "outputs": [],
   "source": [
    "# изменение списков\n",
    "income_by_months[0][1] = 13100\n",
    "print(income_by_months)"
   ]
  },
  {
   "cell_type": "code",
   "execution_count": null,
   "metadata": {},
   "outputs": [],
   "source": [
    "income_by_months[0:2] = [['Jan', 13200], ['Feb', 13900]]\n",
    "print(income_by_months)"
   ]
  },
  {
   "cell_type": "code",
   "execution_count": null,
   "metadata": {},
   "outputs": [],
   "source": [
    "income_by_months_2 = [['Nov', 15400], ['Dec', 17000]]\n",
    "income_by_month = income_by_months + income_by_months_2\n",
    "print(income_by_month)"
   ]
  },
  {
   "cell_type": "markdown",
   "metadata": {},
   "source": [
    "## Распаковка списков"
   ]
  },
  {
   "cell_type": "code",
   "execution_count": null,
   "metadata": {},
   "outputs": [],
   "source": [
    "first, second, third = ['первый', 'второй', 'третий']"
   ]
  },
  {
   "cell_type": "code",
   "execution_count": null,
   "metadata": {},
   "outputs": [],
   "source": [
    "# когда число элементов неизвестно\n",
    "first, *other = ['первый', 'второй', 'третий']\n",
    "other"
   ]
  },
  {
   "cell_type": "code",
   "execution_count": null,
   "metadata": {},
   "outputs": [],
   "source": [
    "first, *other, last =  ['первый', 'второй', 'третий', 'четвертый']"
   ]
  },
  {
   "cell_type": "code",
   "execution_count": null,
   "metadata": {},
   "outputs": [],
   "source": [
    "first, last"
   ]
  },
  {
   "cell_type": "markdown",
   "metadata": {},
   "source": [
    "## Операции со списками"
   ]
  },
  {
   "cell_type": "code",
   "execution_count": null,
   "metadata": {},
   "outputs": [],
   "source": [
    "income_by_months"
   ]
  },
  {
   "cell_type": "code",
   "execution_count": null,
   "metadata": {},
   "outputs": [],
   "source": [
    "# Удаляем элемент по индексу\n",
    "del(income_by_months[-1])\n",
    "income_by_months"
   ]
  },
  {
   "cell_type": "code",
   "execution_count": null,
   "metadata": {},
   "outputs": [],
   "source": [
    "# удаляем элемент по значению\n",
    "month_list.remove('Sep')\n",
    "print(month_list)"
   ]
  },
  {
   "cell_type": "code",
   "execution_count": null,
   "metadata": {},
   "outputs": [],
   "source": [
    "# добавляем элемент в конец списка\n",
    "income_by_months.append(['Dec', 17000])\n",
    "income_by_months"
   ]
  },
  {
   "cell_type": "code",
   "execution_count": null,
   "metadata": {},
   "outputs": [],
   "source": [
    "# добавляем элемент по нужному индексу\n",
    "income_list.insert(2, 1111111)\n",
    "print(income_list)"
   ]
  },
  {
   "cell_type": "code",
   "execution_count": null,
   "metadata": {},
   "outputs": [],
   "source": [
    "# считаем количество вхождений элемента в список\n",
    "income_list.count(13000)"
   ]
  },
  {
   "cell_type": "code",
   "execution_count": null,
   "metadata": {},
   "outputs": [],
   "source": [
    "# узнаем индекс элемента в списка (только первое вхождение!)\n",
    "income_list.index(13000, 1)"
   ]
  },
  {
   "cell_type": "code",
   "execution_count": null,
   "metadata": {},
   "outputs": [],
   "source": [
    "# разворачиваем список\n",
    "month_list.reverse()\n",
    "month_list"
   ]
  },
  {
   "cell_type": "code",
   "execution_count": null,
   "metadata": {},
   "outputs": [],
   "source": [
    "# узнаем длину списка\n",
    "len(income_list)"
   ]
  },
  {
   "cell_type": "code",
   "execution_count": null,
   "metadata": {},
   "outputs": [],
   "source": [
    "# сумма элементов\n",
    "sum(income_list)"
   ]
  },
  {
   "cell_type": "code",
   "execution_count": null,
   "metadata": {},
   "outputs": [],
   "source": [
    "# максимальный элемент элементов\n",
    "max(income_list)"
   ]
  },
  {
   "cell_type": "code",
   "execution_count": null,
   "metadata": {},
   "outputs": [],
   "source": [
    "# минимальный элемент элементов\n",
    "min(income_list)"
   ]
  },
  {
   "cell_type": "code",
   "execution_count": null,
   "metadata": {},
   "outputs": [],
   "source": [
    "# сортировка по возрастанию\n",
    "sorted(income_list)"
   ]
  },
  {
   "cell_type": "code",
   "execution_count": null,
   "metadata": {},
   "outputs": [],
   "source": [
    "# изменить порядок сортировки\n",
    "sorted(income_list, reverse=True)"
   ]
  },
  {
   "cell_type": "code",
   "execution_count": null,
   "metadata": {},
   "outputs": [],
   "source": [
    "# а это сортировка строк по алфавиту\n",
    "sorted(month_list)"
   ]
  },
  {
   "cell_type": "markdown",
   "metadata": {},
   "source": [
    "## Изменение списков\n",
    "\n",
    "В примере ниже переменная a и b на самом деле указывают на один и тот же объект. В результате, при добавлении в b очередного элемента этот элемент добавляется и в исходном листе a"
   ]
  },
  {
   "cell_type": "code",
   "execution_count": null,
   "metadata": {},
   "outputs": [],
   "source": [
    "a = [1, 2, 3]\n",
    "b = a"
   ]
  },
  {
   "cell_type": "code",
   "execution_count": null,
   "metadata": {},
   "outputs": [],
   "source": [
    "b.append(4)\n",
    "f'a = {a}'"
   ]
  },
  {
   "cell_type": "code",
   "execution_count": null,
   "metadata": {},
   "outputs": [],
   "source": [
    "id(a), id(b)"
   ]
  },
  {
   "cell_type": "markdown",
   "metadata": {},
   "source": [
    "Используем модуль copy"
   ]
  },
  {
   "cell_type": "code",
   "execution_count": 5,
   "metadata": {},
   "outputs": [],
   "source": [
    "import copy"
   ]
  },
  {
   "cell_type": "code",
   "execution_count": 6,
   "metadata": {},
   "outputs": [],
   "source": [
    "a = [1, 2, 3]\n",
    "b = copy.copy(a)"
   ]
  },
  {
   "cell_type": "code",
   "execution_count": 7,
   "metadata": {},
   "outputs": [
    {
     "data": {
      "text/plain": "(2621024705280, 2621024768576)"
     },
     "execution_count": 7,
     "metadata": {},
     "output_type": "execute_result"
    }
   ],
   "source": [
    "id(a), id(b)"
   ]
  },
  {
   "cell_type": "code",
   "execution_count": 8,
   "metadata": {},
   "outputs": [
    {
     "name": "stdout",
     "output_type": "stream",
     "text": [
      "a = [1, 2, 3]\n",
      "b = [1, 2, 3, 4]\n"
     ]
    }
   ],
   "source": [
    "b.append(4)\n",
    "print('a = {}'.format(a))\n",
    "\n",
    "print('b = {}'.format(b))"
   ]
  },
  {
   "cell_type": "markdown",
   "metadata": {},
   "source": [
    "## Списки и строки"
   ]
  },
  {
   "cell_type": "code",
   "execution_count": null,
   "metadata": {},
   "outputs": [],
   "source": [
    "queries_string = \"смотреть сериалы онлайн,новости спорта,афиша кино,курс доллара,сериалы этим летом,курс по питону,сериалы про спорт\""
   ]
  },
  {
   "cell_type": "code",
   "execution_count": null,
   "metadata": {},
   "outputs": [],
   "source": [
    "# преобразование строки в список (например, из CSV-файла)\n",
    "queries_string.split(',')"
   ]
  },
  {
   "cell_type": "code",
   "execution_count": null,
   "metadata": {},
   "outputs": [],
   "source": [
    "# Преобразование списка в строку\n",
    "\n",
    "','.join(['Столбец 1', 'Столбец 2', 'Столбец 3'])"
   ]
  },
  {
   "cell_type": "code",
   "execution_count": null,
   "metadata": {},
   "outputs": [],
   "source": [
    "# проверка вхождения элемента в список:\n",
    "\n",
    "# 'Москва' in ['Ленинград', 'Одесса', 'Севастополь', 'Москва']\n",
    "'Москва' not in ['Ленинград', 'Одесса', 'Севастополь', 'Москва']"
   ]
  },
  {
   "cell_type": "markdown",
   "metadata": {},
   "source": [
    "# Tuple (кортежы)"
   ]
  },
  {
   "cell_type": "code",
   "execution_count": null,
   "metadata": {},
   "outputs": [],
   "source": [
    "salary_tuple = (1000, 1200, 1300, 900, 800)\n",
    "type(salary_tuple)\n",
    "# type(list(salary_tuple))"
   ]
  },
  {
   "cell_type": "code",
   "execution_count": null,
   "metadata": {},
   "outputs": [],
   "source": [
    "# print(salary_tuple[0])\n",
    "salary_tuple[0] = 500"
   ]
  },
  {
   "cell_type": "code",
   "execution_count": null,
   "metadata": {},
   "outputs": [],
   "source": [
    "# кортеж из одного элемента задается так:\n",
    "t = ('one', )\n",
    "type(t)"
   ]
  },
  {
   "cell_type": "code",
   "execution_count": null,
   "metadata": {},
   "outputs": [],
   "source": [
    "# без запятой получится строка\n",
    "type( ('one') )"
   ]
  },
  {
   "cell_type": "code",
   "execution_count": null,
   "metadata": {},
   "outputs": [],
   "source": [
    "# функция zip\n",
    "salaries = [1000, 1200, 1300, 900, 800, 1000]\n",
    "names = ['Robert', 'Jane', 'Liza', 'Richard', 'John']\n",
    "salaries_by_names = zip(names, salaries)\n",
    "# print(salaries_by_names)\n",
    "print(list(salaries_by_names))"
   ]
  },
  {
   "cell_type": "markdown",
   "metadata": {},
   "source": [
    "# Циклы"
   ]
  },
  {
   "cell_type": "markdown",
   "metadata": {},
   "source": [
    "## Цикл while"
   ]
  },
  {
   "cell_type": "code",
   "execution_count": null,
   "metadata": {},
   "outputs": [],
   "source": [
    "x = 5\n",
    "while x != 0:\n",
    "    x -= 1\n",
    "    print(x)\n",
    "    "
   ]
  },
  {
   "cell_type": "code",
   "execution_count": null,
   "metadata": {},
   "outputs": [],
   "source": [
    "x = 6\n",
    "while x != 0:\n",
    "    if x % 2 == 0:\n",
    "        print(x, '- четное число')\n",
    "    else:\n",
    "        print(x, '- нечетное число')\n",
    "    x -= 1"
   ]
  },
  {
   "cell_type": "markdown",
   "metadata": {},
   "source": [
    "## Цикл for"
   ]
  },
  {
   "cell_type": "code",
   "execution_count": null,
   "metadata": {},
   "outputs": [],
   "source": [
    "# итерация по строкам\n",
    "company_name = 'Orange'\n",
    "for letter in company_name:\n",
    "#     print(letter)\n",
    "    letter = letter.capitalize()\n",
    "    print(letter)"
   ]
  },
  {
   "cell_type": "code",
   "execution_count": null,
   "metadata": {},
   "outputs": [],
   "source": [
    "# итерация по спискам\n",
    "companies_capitalization = [\n",
    " ['Orange', 1.3],\n",
    " ['Maxisoft', 1.5],\n",
    " ['Headbook', 0.8],\n",
    " ['Nicola', 2.2]\n",
    "]\n",
    "\n",
    "for company in companies_capitalization:\n",
    "#     print(company)\n",
    "    print(company[0], 'capitalization is', company[1])\n",
    "#     print('end of iteration')"
   ]
  },
  {
   "cell_type": "markdown",
   "metadata": {},
   "source": [
    "### Функции range и enumerate"
   ]
  },
  {
   "cell_type": "code",
   "execution_count": null,
   "metadata": {},
   "outputs": [],
   "source": [
    "# range(10)\n",
    "type(range(10))"
   ]
  },
  {
   "cell_type": "code",
   "execution_count": null,
   "metadata": {},
   "outputs": [],
   "source": [
    "list(range(1, 10))"
   ]
  },
  {
   "cell_type": "code",
   "execution_count": null,
   "metadata": {},
   "outputs": [],
   "source": [
    "for i in range(10):\n",
    "    print(i)"
   ]
  },
  {
   "cell_type": "code",
   "execution_count": null,
   "metadata": {},
   "outputs": [],
   "source": [
    "# с указанием левой и правой границы\n",
    "for i in range(3, 20):\n",
    "    print(i)"
   ]
  },
  {
   "cell_type": "code",
   "execution_count": null,
   "metadata": {},
   "outputs": [],
   "source": [
    "# третий аргумент - шаг\n",
    "for i in range(3, 20, 5):\n",
    "    print(i)"
   ]
  },
  {
   "cell_type": "code",
   "execution_count": null,
   "metadata": {},
   "outputs": [],
   "source": [
    "# enumerate позволяет получить индекс каждого элемента\n",
    "enumerate([144, 244, 344, 444, 544])\n",
    "list(enumerate([144, 244, 344, 444, 544]))"
   ]
  },
  {
   "cell_type": "code",
   "execution_count": null,
   "metadata": {},
   "outputs": [],
   "source": [
    "companies_capitalization = [\n",
    " ['Orange', 1.3],\n",
    " ['Maxisoft', 1.5],\n",
    " ['Headbook', 0.8],\n",
    " ['Nicola', 2.2]\n",
    "]\n",
    "for i, company in enumerate(companies_capitalization):\n",
    "    print(i+1, company[0], 'capitalization is', company[1])"
   ]
  },
  {
   "cell_type": "markdown",
   "metadata": {},
   "source": [
    "## break, pass, continue"
   ]
  },
  {
   "cell_type": "code",
   "execution_count": null,
   "metadata": {},
   "outputs": [],
   "source": [
    "phrase = '640Кб должно хватить для любых задач. Билл Гейтс (по легенде)'"
   ]
  },
  {
   "cell_type": "code",
   "execution_count": null,
   "metadata": {},
   "outputs": [],
   "source": [
    "for letter in phrase:\n",
    "    if letter == ' ':\n",
    "        break\n",
    "    print(letter, end='')"
   ]
  },
  {
   "cell_type": "code",
   "execution_count": null,
   "metadata": {},
   "outputs": [],
   "source": [
    "for letter in phrase:\n",
    "    if letter == ' ':\n",
    "        continue\n",
    "    print(letter, end='')"
   ]
  },
  {
   "cell_type": "code",
   "execution_count": null,
   "metadata": {},
   "outputs": [],
   "source": [
    "for letter in phrase:\n",
    "    if letter == ' ':\n",
    "        pass\n",
    "    print(letter, end='')"
   ]
  },
  {
   "cell_type": "markdown",
   "metadata": {},
   "source": [
    "## Попрактикуемся"
   ]
  },
  {
   "cell_type": "markdown",
   "metadata": {},
   "source": [
    "Имеется структура данных cook_book, в которой хранится информация об ингредиентах блюд и их количестве в расчете на одну порцию и переменная, в которой хранится количество людей, на которых необходимо приготовить данные блюда:"
   ]
  },
  {
   "cell_type": "code",
   "execution_count": 10,
   "metadata": {},
   "outputs": [],
   "source": [
    "cook_book = [\n",
    "  ['салат',\n",
    "      [\n",
    "        ['картофель', 100, 'гр.'],\n",
    "        ['морковь', 50, 'гр.'],\n",
    "        ['огурцы', 50, 'гр.'],\n",
    "        ['горошек', 30, 'гр.'],\n",
    "        ['майонез', 70, 'мл.'],\n",
    "      ]\n",
    "  ],\n",
    "  ['пицца',  \n",
    "      [\n",
    "        ['сыр', 50, 'гр.'],\n",
    "        ['томаты', 50, 'гр.'],\n",
    "        ['тесто', 100, 'гр.'],\n",
    "        ['бекон', 30, 'гр.'],\n",
    "        ['колбаса', 30, 'гр.'],\n",
    "        ['грибы', 20, 'гр.'],\n",
    "      ],\n",
    "  ],\n",
    "  ['фруктовый десерт',\n",
    "      [\n",
    "        ['хурма', 60, 'гр.'],\n",
    "        ['киви', 60, 'гр.'],\n",
    "        ['творог', 60, 'гр.'],\n",
    "        ['сахар', 10, 'гр.'],\n",
    "        ['мед', 50, 'мл.'],  \n",
    "      ]\n",
    "  ]\n",
    "]\n"
   ]
  },
  {
   "cell_type": "code",
   "execution_count": 36,
   "metadata": {},
   "outputs": [
    {
     "name": "stdout",
     "output_type": "stream",
     "text": [
      "Салат:\n",
      "Картофель, 500гр.\n",
      "Морковь, 250гр.\n",
      "Огурцы, 250гр.\n",
      "Горошек, 150гр.\n",
      "Майонез, 350мл.\n",
      "\n",
      "Пицца:\n",
      "Сыр, 250гр.\n",
      "Томаты, 250гр.\n",
      "Тесто, 500гр.\n",
      "Бекон, 150гр.\n",
      "Колбаса, 150гр.\n",
      "Грибы, 100гр.\n",
      "\n",
      "Фруктовый десерт:\n",
      "Хурма, 300гр.\n",
      "Киви, 300гр.\n",
      "Творог, 300гр.\n",
      "Сахар, 50гр.\n",
      "Мед, 250мл.\n",
      "\n"
     ]
    }
   ],
   "source": [
    "person = 5\n",
    "\n",
    "print(f\"{cook_book[0][0].capitalize()}:\\n\"\n",
    "      f\"{cook_book[0][1][0][0].capitalize()}, {cook_book[0][1][0][1] * person }{cook_book[0][1][0][2]}\\n\"\n",
    "      f\"{cook_book[0][1][1][0].capitalize()}, {cook_book[0][1][1][1] * person }{cook_book[0][1][1][2]}\\n\"\n",
    "      f\"{cook_book[0][1][2][0].capitalize()}, {cook_book[0][1][2][1] * person }{cook_book[0][1][2][2]}\\n\"\n",
    "      f\"{cook_book[0][1][3][0].capitalize()}, {cook_book[0][1][3][1] * person }{cook_book[0][1][3][2]}\\n\"\n",
    "      f\"{cook_book[0][1][4][0].capitalize()}, {cook_book[0][1][4][1] * person }{cook_book[0][1][4][2]}\\n\"\n",
    "      f\"\\n\"\n",
    "      f\"{cook_book[1][0].capitalize()}:\\n\"\n",
    "      f\"{cook_book[1][1][0][0].capitalize()}, {cook_book[1][1][0][1] * person }{cook_book[1][1][0][2]}\\n\"\n",
    "      f\"{cook_book[1][1][1][0].capitalize()}, {cook_book[1][1][1][1] * person }{cook_book[1][1][1][2]}\\n\"\n",
    "      f\"{cook_book[1][1][2][0].capitalize()}, {cook_book[1][1][2][1] * person }{cook_book[1][1][2][2]}\\n\"\n",
    "      f\"{cook_book[1][1][3][0].capitalize()}, {cook_book[1][1][3][1] * person }{cook_book[1][1][3][2]}\\n\"\n",
    "      f\"{cook_book[1][1][4][0].capitalize()}, {cook_book[1][1][4][1] * person }{cook_book[1][1][4][2]}\\n\"\n",
    "      f\"{cook_book[1][1][5][0].capitalize()}, {cook_book[1][1][5][1] * person }{cook_book[1][1][5][2]}\\n\"\n",
    "      f\"\\n\"\n",
    "      f\"{cook_book[2][0].capitalize()}:\\n\"\n",
    "      f\"{cook_book[2][1][0][0].capitalize()}, {cook_book[2][1][0][1] * person }{cook_book[2][1][0][2]}\\n\"\n",
    "      f\"{cook_book[2][1][1][0].capitalize()}, {cook_book[2][1][1][1] * person }{cook_book[2][1][1][2]}\\n\"\n",
    "      f\"{cook_book[2][1][2][0].capitalize()}, {cook_book[2][1][2][1] * person }{cook_book[2][1][2][2]}\\n\"\n",
    "      f\"{cook_book[2][1][3][0].capitalize()}, {cook_book[2][1][3][1] * person }{cook_book[2][1][3][2]}\\n\"\n",
    "      f\"{cook_book[2][1][4][0].capitalize()}, {cook_book[2][1][4][1] * person }{cook_book[2][1][4][2]}\\n\")\n",
    "\n"
   ]
  },
  {
   "cell_type": "markdown",
   "metadata": {},
   "source": [
    "Необходимо вывести пользователю список покупок необходимого количества ингредиентов для приготовления блюд на определенное число персон в следующем виде:"
   ]
  },
  {
   "cell_type": "markdown",
   "metadata": {},
   "source": [
    "Салат:  \n",
    "картофель, 500гр.  \n",
    "морковь, 250гр.  \n",
    "огурцы, 250гр.  \n",
    "горошек, 150гр.  \n",
    "майонез, 350мл.  \n",
    "\n",
    "Пицца:  \n",
    "сыр, 250гр.  \n",
    "томаты, 250гр.  \n",
    "тесто, 500гр.  \n",
    "бекон, 150гр.  \n",
    "колбаса, 150гр.  \n",
    "грибы, 100гр.  \n",
    "\n",
    "Фруктовый десерт:  \n",
    "хурма, 300гр.  \n",
    "киви, 300гр.  \n",
    "творог, 300гр.  \n",
    "сахар, 50гр.  \n",
    "мед, 250мл.  "
   ]
  },
  {
   "cell_type": "markdown",
   "metadata": {},
   "source": [
    "## List comprehension"
   ]
  },
  {
   "cell_type": "code",
   "execution_count": 37,
   "metadata": {},
   "outputs": [
    {
     "data": {
      "text/plain": "[0, 3, 6, 9, 12, 15, 18, 21, 24, 27, 30, 33, 36, 39]"
     },
     "execution_count": 37,
     "metadata": {},
     "output_type": "execute_result"
    }
   ],
   "source": [
    "# Дана последовательность чисел. Мы хотим оставить только те, что делятся на 5\n",
    "sequence = range(0, 40, 3)\n",
    "list(sequence)"
   ]
  },
  {
   "cell_type": "code",
   "execution_count": 38,
   "metadata": {},
   "outputs": [
    {
     "name": "stdout",
     "output_type": "stream",
     "text": [
      "0\n",
      "15\n",
      "30\n"
     ]
    }
   ],
   "source": [
    "# решение в лоб\n",
    "for num in sequence:\n",
    "    if num % 5 == 0:\n",
    "        print(num)"
   ]
  },
  {
   "cell_type": "code",
   "execution_count": 39,
   "metadata": {},
   "outputs": [
    {
     "name": "stdout",
     "output_type": "stream",
     "text": [
      "[0, 15, 30]\n"
     ]
    }
   ],
   "source": [
    "# если хотим получить отфильтрованный лист, то будет даже так\n",
    "filtered_sequence = []\n",
    "\n",
    "for num in sequence:\n",
    "    if num % 5 == 0:\n",
    "        filtered_sequence.append(num)\n",
    "\n",
    "print(filtered_sequence)"
   ]
  },
  {
   "cell_type": "code",
   "execution_count": 40,
   "metadata": {},
   "outputs": [
    {
     "data": {
      "text/plain": "[0, 15, 30]"
     },
     "execution_count": 40,
     "metadata": {},
     "output_type": "execute_result"
    }
   ],
   "source": [
    "[num for num in sequence if num % 5 == 0]"
   ]
  },
  {
   "cell_type": "code",
   "execution_count": 41,
   "metadata": {},
   "outputs": [
    {
     "data": {
      "text/plain": "[0, 15, 30]"
     },
     "execution_count": 41,
     "metadata": {},
     "output_type": "execute_result"
    }
   ],
   "source": [
    "[w for w in sequence if w % 5 == 0]"
   ]
  },
  {
   "cell_type": "code",
   "execution_count": 42,
   "metadata": {},
   "outputs": [
    {
     "data": {
      "text/plain": "[0, 225, 900]"
     },
     "execution_count": 42,
     "metadata": {},
     "output_type": "execute_result"
    }
   ],
   "source": [
    "# с list comprehension получается покороче\n",
    "\n",
    "[x**2 for x in sequence if x % 5 == 0]"
   ]
  },
  {
   "cell_type": "markdown",
   "metadata": {},
   "source": [
    "Пример вычисления метрики из набора списков. Столбцы в каждой строке:\n",
    "- дата\n",
    "- номер счетчика\n",
    "- количество визитов\n",
    "\n",
    "Найдем среднее количество визитов по нашим данным"
   ]
  },
  {
   "cell_type": "code",
   "execution_count": 43,
   "metadata": {},
   "outputs": [],
   "source": [
    "api_response = [\n",
    "    ['2017-12-26', '777', 184],\n",
    "    ['2017-12-27', '111', 146],\n",
    "    ['2017-12-28', '777', 98],\n",
    "    ['2017-12-29', '777', 206],\n",
    "    ['2017-12-30', '111', 254],\n",
    "    ['2017-12-31', '777', 89],\n",
    "    ['2018-01-01', '111', 54],\n",
    "    ['2018-01-02', '777', 68],\n",
    "    ['2018-01-03', '777', 74],\n",
    "    ['2018-01-04', '111', 89],\n",
    "    ['2018-01-05', '777', 104],\n",
    "    ['2018-01-06', '777', 99],\n",
    "    ['2018-01-07', '777', 145],\n",
    "    ['2018-01-08', '111', 184],\n",
    "]"
   ]
  },
  {
   "cell_type": "code",
   "execution_count": 44,
   "metadata": {},
   "outputs": [
    {
     "name": "stdout",
     "output_type": "stream",
     "text": [
      "184\n",
      "146\n",
      "98\n",
      "206\n",
      "254\n",
      "89\n",
      "54\n",
      "68\n",
      "74\n",
      "89\n",
      "104\n",
      "99\n",
      "145\n",
      "184\n"
     ]
    }
   ],
   "source": [
    "for element in api_response:\n",
    "    print(element[2])"
   ]
  },
  {
   "cell_type": "code",
   "execution_count": 45,
   "metadata": {},
   "outputs": [
    {
     "data": {
      "text/plain": "128.14285714285714"
     },
     "execution_count": 45,
     "metadata": {},
     "output_type": "execute_result"
    }
   ],
   "source": [
    "sum([x[2] for x in api_response])/len(api_response)"
   ]
  },
  {
   "cell_type": "markdown",
   "metadata": {},
   "source": [
    "## Попрактикуемся\n",
    "\n",
    "Имеется поток данных о ценах товаров (считайте, что цена всегда больше 0). Необходимо написать алгоритм определения минимального четного числа в этом потоке."
   ]
  },
  {
   "cell_type": "code",
   "execution_count": 47,
   "metadata": {},
   "outputs": [],
   "source": [
    "# sys_stdin сейчас просто название переменной\n",
    "sys_stdin = [78, 68, 484, 3, 254, 90, 143, 78, 43, 42, 3053, 473, 5, 8593, 16, 3, 1454, 37, 96, 8547]"
   ]
  },
  {
   "cell_type": "code",
   "execution_count": 48,
   "metadata": {},
   "outputs": [
    {
     "data": {
      "text/plain": "3"
     },
     "execution_count": 48,
     "metadata": {},
     "output_type": "execute_result"
    }
   ],
   "source": [
    "min(_ for _ in sys_stdin)"
   ]
  },
  {
   "cell_type": "markdown",
   "metadata": {},
   "source": [
    "## Множества (set)\n",
    "Набор неповторяющихся элементов в случайном порядке"
   ]
  },
  {
   "cell_type": "code",
   "execution_count": 50,
   "metadata": {},
   "outputs": [],
   "source": [
    "data_scientist_skills = set(['Python', 'R', 'SQL', 'Tableau', 'SAS', 'Git'])\n",
    "data_engineer_skills = set(['Python', 'Java', 'Scala', 'Git', 'SQL', 'Hadoop'])"
   ]
  },
  {
   "cell_type": "code",
   "execution_count": 51,
   "metadata": {},
   "outputs": [
    {
     "name": "stdout",
     "output_type": "stream",
     "text": [
      "{'SAS', 'SQL', 'Tableau', 'Git', 'Scala', 'Java', 'R', 'Hadoop', 'Python'}\n",
      "{'SAS', 'SQL', 'Tableau', 'Git', 'Scala', 'Java', 'R', 'Hadoop', 'Python'}\n"
     ]
    }
   ],
   "source": [
    "# логическое ИЛИ – что нужно знать data-scientst, который по совместительству data-engineer\n",
    "print(data_scientist_skills.union(data_engineer_skills))\n",
    "print(data_scientist_skills | data_engineer_skills)"
   ]
  },
  {
   "cell_type": "code",
   "execution_count": 52,
   "metadata": {},
   "outputs": [
    {
     "name": "stdout",
     "output_type": "stream",
     "text": [
      "{'SQL', 'Python', 'Git'}\n",
      "{'SQL', 'Python', 'Git'}\n"
     ]
    }
   ],
   "source": [
    "# логическое И – что нужно знать и data-scientist и data-engineer\n",
    "print(data_scientist_skills.intersection(data_engineer_skills))\n",
    "print(data_scientist_skills & data_engineer_skills)"
   ]
  },
  {
   "cell_type": "code",
   "execution_count": 53,
   "metadata": {},
   "outputs": [
    {
     "name": "stdout",
     "output_type": "stream",
     "text": [
      "{'Scala', 'Java', 'Hadoop'}\n",
      "{'Scala', 'Java', 'Hadoop'}\n"
     ]
    }
   ],
   "source": [
    "# разность множеств – что знает data-scientist, но не знает data-engineer (и наоборот)\n",
    "# print(data_scientist_skills.difference(data_engineer_skills))\n",
    "# print(data_scientist_skills - data_engineer_skills)\n",
    "print(data_engineer_skills.difference(data_scientist_skills))\n",
    "print(data_engineer_skills - data_scientist_skills)"
   ]
  },
  {
   "cell_type": "code",
   "execution_count": 54,
   "metadata": {
    "scrolled": true
   },
   "outputs": [
    {
     "name": "stdout",
     "output_type": "stream",
     "text": [
      "{'SAS', 'Tableau', 'Scala', 'Java', 'R', 'Hadoop'}\n",
      "{'SAS', 'Tableau', 'Scala', 'Java', 'R', 'Hadoop'}\n"
     ]
    }
   ],
   "source": [
    "# симметричная разность множеств – что такого знают data-scientist и data-engineer, чего не знают они оба\n",
    "# print(data_scientist_skills.symmetric_difference(data_engineer_skills))\n",
    "# print(data_scientist_skills ^ data_engineer_skills)\n",
    "print(data_engineer_skills.symmetric_difference(data_scientist_skills))\n",
    "print(data_engineer_skills ^ data_scientist_skills)"
   ]
  },
  {
   "cell_type": "code",
   "execution_count": null,
   "metadata": {},
   "outputs": [],
   "source": [
    "# Из списка можно убрать все повторения просто обратив его в set!"
   ]
  },
  {
   "cell_type": "markdown",
   "metadata": {},
   "source": [
    "# Словари"
   ]
  },
  {
   "cell_type": "code",
   "execution_count": 55,
   "metadata": {},
   "outputs": [],
   "source": [
    "salaries = {\n",
    "    'John': 1200,\n",
    "    'Mary': 500,\n",
    "    'Steven': 1000,\n",
    "    'Liza': 1500\n",
    "}"
   ]
  },
  {
   "cell_type": "code",
   "execution_count": 56,
   "metadata": {},
   "outputs": [
    {
     "data": {
      "text/plain": "1200"
     },
     "execution_count": 56,
     "metadata": {},
     "output_type": "execute_result"
    }
   ],
   "source": [
    "# обращение к элементу словаря\n",
    "salaries['John']"
   ]
  },
  {
   "cell_type": "code",
   "execution_count": 57,
   "metadata": {},
   "outputs": [
    {
     "ename": "NameError",
     "evalue": "name 'staff_dict' is not defined",
     "output_type": "error",
     "traceback": [
      "\u001B[1;31m---------------------------------------------------------------------------\u001B[0m",
      "\u001B[1;31mNameError\u001B[0m                                 Traceback (most recent call last)",
      "Cell \u001B[1;32mIn[57], line 2\u001B[0m\n\u001B[0;32m      1\u001B[0m \u001B[38;5;66;03m# удаляем элемент из словаря\u001B[39;00m\n\u001B[1;32m----> 2\u001B[0m \u001B[38;5;28;01mdel\u001B[39;00m(\u001B[43mstaff_dict\u001B[49m[\u001B[38;5;124m'\u001B[39m\u001B[38;5;124mLiza\u001B[39m\u001B[38;5;124m'\u001B[39m])\n\u001B[0;32m      3\u001B[0m staff_dict\n",
      "\u001B[1;31mNameError\u001B[0m: name 'staff_dict' is not defined"
     ]
    }
   ],
   "source": [
    "# удаляем элемент из словаря\n",
    "del(staff_dict['Liza'])\n",
    "staff_dict"
   ]
  },
  {
   "cell_type": "code",
   "execution_count": 58,
   "metadata": {},
   "outputs": [
    {
     "data": {
      "text/plain": "{'John': 1200, 'Mary': 2000, 'Steven': 1000, 'Liza': 1500}"
     },
     "execution_count": 58,
     "metadata": {},
     "output_type": "execute_result"
    }
   ],
   "source": [
    "# добавляем элемент в словарь\n",
    "salaries['Mary'] = 2000\n",
    "salaries"
   ]
  },
  {
   "cell_type": "code",
   "execution_count": 59,
   "metadata": {},
   "outputs": [
    {
     "ename": "KeyError",
     "evalue": "'Oleg'",
     "output_type": "error",
     "traceback": [
      "\u001B[1;31m---------------------------------------------------------------------------\u001B[0m",
      "\u001B[1;31mKeyError\u001B[0m                                  Traceback (most recent call last)",
      "Cell \u001B[1;32mIn[59], line 2\u001B[0m\n\u001B[0;32m      1\u001B[0m \u001B[38;5;66;03m# безопасно получаем значение по ключу\u001B[39;00m\n\u001B[1;32m----> 2\u001B[0m \u001B[43msalaries\u001B[49m\u001B[43m[\u001B[49m\u001B[38;5;124;43m'\u001B[39;49m\u001B[38;5;124;43mOleg\u001B[39;49m\u001B[38;5;124;43m'\u001B[39;49m\u001B[43m]\u001B[49m\n\u001B[0;32m      3\u001B[0m \u001B[38;5;66;03m# salaries.get('Oleg', 'Not Found')\u001B[39;00m\n\u001B[0;32m      4\u001B[0m salaries\u001B[38;5;241m.\u001B[39mget(\u001B[38;5;124m'\u001B[39m\u001B[38;5;124mMary\u001B[39m\u001B[38;5;124m'\u001B[39m, \u001B[38;5;124m'\u001B[39m\u001B[38;5;124mNot Found\u001B[39m\u001B[38;5;124m'\u001B[39m)\n",
      "\u001B[1;31mKeyError\u001B[0m: 'Oleg'"
     ]
    }
   ],
   "source": [
    "# безопасно получаем значение по ключу\n",
    "salaries['Oleg']\n",
    "# salaries.get('Oleg', 'Not Found')\n",
    "salaries.get('Mary', 'Not Found')"
   ]
  },
  {
   "cell_type": "code",
   "execution_count": 60,
   "metadata": {},
   "outputs": [
    {
     "name": "stdout",
     "output_type": "stream",
     "text": [
      "Добавляю новый ключ\n",
      "{'John': 1200, 'Mary': 2000, 'Steven': 1000, 'Liza': 1500, 'Amanda': 2200}\n"
     ]
    }
   ],
   "source": [
    "# проверка на наличие ключа в словаре\n",
    "recruit = 'Amanda'\n",
    "\n",
    "if recruit in salaries:\n",
    "    print('Значение для ключа уже существует')\n",
    "else:\n",
    "    print('Добавляю новый ключ')\n",
    "    salaries[recruit] = 2200\n",
    "\n",
    "print(salaries)"
   ]
  },
  {
   "cell_type": "code",
   "execution_count": 61,
   "metadata": {},
   "outputs": [
    {
     "data": {
      "text/plain": "{'John': 1200, 'Mary': 2000, 'Steven': 1000, 'Liza': 1500, 'Amanda': 2200}"
     },
     "execution_count": 61,
     "metadata": {},
     "output_type": "execute_result"
    }
   ],
   "source": [
    "# Можно использовать метод setdefault\n",
    "# setdefault не изменяет значение, если ключ уже был в словаре\n",
    "\n",
    "salaries.setdefault('Mary', 3000)\n",
    "salaries\n",
    "# salaries.setdefault('Paul', 3000)\n",
    "# salaries"
   ]
  },
  {
   "cell_type": "code",
   "execution_count": 62,
   "metadata": {},
   "outputs": [],
   "source": [
    "# перейдем к более сложному словарю\n",
    "staff_dict = {\n",
    "    'Robert': {'salary': 800, 'bonus': 200}, \n",
    "    'Jane': {'salary': 200, 'bonus': 300}, \n",
    "    'Liza': {'salary': 1300, 'bonus': 200}, \n",
    "    'Richard': {'salary': 500, 'bonus': 1200}\n",
    "}"
   ]
  },
  {
   "cell_type": "code",
   "execution_count": 63,
   "metadata": {},
   "outputs": [
    {
     "data": {
      "text/plain": "800"
     },
     "execution_count": 63,
     "metadata": {},
     "output_type": "execute_result"
    }
   ],
   "source": [
    "staff_dict['Robert']['salary']"
   ]
  },
  {
   "cell_type": "code",
   "execution_count": 64,
   "metadata": {},
   "outputs": [
    {
     "data": {
      "text/plain": "{'Robert': {'salary': 800, 'bonus': 200},\n 'Jane': {'salary': 200, 'bonus': 300},\n 'Liza': {'salary': 1300, 'bonus': 200},\n 'Richard': {'salary': 500, 'bonus': 1200},\n 'Oleg': {'salary': 1000000, 'bonus': 300}}"
     },
     "execution_count": 64,
     "metadata": {},
     "output_type": "execute_result"
    }
   ],
   "source": [
    "staff_dict['Oleg'] = {'salary': 1000000, 'bonus': 300}\n",
    "staff_dict"
   ]
  },
  {
   "cell_type": "code",
   "execution_count": 65,
   "metadata": {},
   "outputs": [
    {
     "name": "stdout",
     "output_type": "stream",
     "text": [
      "dict_items([('Robert', {'salary': 800, 'bonus': 200}), ('Jane', {'salary': 200, 'bonus': 300}), ('Liza', {'salary': 1300, 'bonus': 200}), ('Richard', {'salary': 500, 'bonus': 1200}), ('Oleg', {'salary': 1000000, 'bonus': 300})])\n",
      "[('Robert', {'salary': 800, 'bonus': 200}), ('Jane', {'salary': 200, 'bonus': 300}), ('Liza', {'salary': 1300, 'bonus': 200}), ('Richard', {'salary': 500, 'bonus': 1200}), ('Oleg', {'salary': 1000000, 'bonus': 300})]\n"
     ]
    }
   ],
   "source": [
    "# получаем только ключи/значения из словаря (очень пригодиться в циклах)\n",
    "# print(staff_dict.keys())\n",
    "# print(staff_dict.values())\n",
    "print(staff_dict.items())\n",
    "\n",
    "# print(list(staff_dict.keys()))\n",
    "# print(list(staff_dict.values()))\n",
    "print(list(staff_dict.items()))"
   ]
  },
  {
   "cell_type": "code",
   "execution_count": null,
   "metadata": {},
   "outputs": [],
   "source": [
    "# итерация по словарям\n",
    "# так бы было без цикла\n",
    "print(\"Robert's salary:\", staff_dict['Robert']['salary'])\n",
    "print(\"Jane's salary:\", staff_dict['Jane']['salary'])\n",
    "print(\"Richard's salary:\", staff_dict['Richard']['salary'])"
   ]
  },
  {
   "cell_type": "code",
   "execution_count": 66,
   "metadata": {},
   "outputs": [
    {
     "name": "stdout",
     "output_type": "stream",
     "text": [
      "Robert\n",
      "Jane\n",
      "Liza\n",
      "Richard\n",
      "Oleg\n"
     ]
    }
   ],
   "source": [
    "for person in staff_dict:\n",
    "    print(person)"
   ]
  },
  {
   "cell_type": "code",
   "execution_count": 67,
   "metadata": {},
   "outputs": [
    {
     "name": "stdout",
     "output_type": "stream",
     "text": [
      "Robert\n",
      "Jane\n",
      "Liza\n",
      "Richard\n",
      "Oleg\n"
     ]
    }
   ],
   "source": [
    "for key in staff_dict.keys():\n",
    "    print(key)"
   ]
  },
  {
   "cell_type": "code",
   "execution_count": 68,
   "metadata": {},
   "outputs": [
    {
     "name": "stdout",
     "output_type": "stream",
     "text": [
      "{'salary': 800, 'bonus': 200}\n",
      "{'salary': 200, 'bonus': 300}\n",
      "{'salary': 1300, 'bonus': 200}\n",
      "{'salary': 500, 'bonus': 1200}\n",
      "{'salary': 1000000, 'bonus': 300}\n"
     ]
    }
   ],
   "source": [
    "for value in staff_dict.values():\n",
    "    print(value)"
   ]
  },
  {
   "cell_type": "code",
   "execution_count": 69,
   "metadata": {},
   "outputs": [
    {
     "name": "stdout",
     "output_type": "stream",
     "text": [
      "Robert {'salary': 800, 'bonus': 200}\n",
      "Jane {'salary': 200, 'bonus': 300}\n",
      "Liza {'salary': 1300, 'bonus': 200}\n",
      "Richard {'salary': 500, 'bonus': 1200}\n",
      "Oleg {'salary': 1000000, 'bonus': 300}\n"
     ]
    }
   ],
   "source": [
    "for key, value in staff_dict.items():\n",
    "    print(key, value)"
   ]
  },
  {
   "cell_type": "code",
   "execution_count": 70,
   "metadata": {},
   "outputs": [
    {
     "name": "stdout",
     "output_type": "stream",
     "text": [
      "1 Robert\n",
      "2 Jane\n",
      "3 Liza\n",
      "4 Richard\n",
      "5 Oleg\n"
     ]
    }
   ],
   "source": [
    "for i, person in enumerate(staff_dict):\n",
    "    print(i+1, person)"
   ]
  },
  {
   "cell_type": "code",
   "execution_count": 71,
   "metadata": {},
   "outputs": [
    {
     "name": "stdout",
     "output_type": "stream",
     "text": [
      "Robert's salary: 800\n",
      "Jane's salary: 200\n",
      "Liza's salary: 1300\n",
      "Richard's salary: 500\n",
      "Oleg's salary: 1000000\n"
     ]
    }
   ],
   "source": [
    "# используем цикл\n",
    "for person, info in staff_dict.items():\n",
    "#     print(person, info)\n",
    "    print(person, \"'s salary: \", info['salary'], sep='')"
   ]
  },
  {
   "cell_type": "code",
   "execution_count": 72,
   "metadata": {},
   "outputs": [
    {
     "data": {
      "text/plain": "{'Robert': {'salary': 800, 'bonus': 200, 'status': 'below average'},\n 'Jane': {'salary': 200, 'bonus': 300, 'status': 'below average'},\n 'Liza': {'salary': 1300, 'bonus': 200, 'status': 'above average'},\n 'Richard': {'salary': 500, 'bonus': 1200, 'status': 'below average'},\n 'Oleg': {'salary': 1000000, 'bonus': 300, 'status': 'above average'}}"
     },
     "execution_count": 72,
     "metadata": {},
     "output_type": "execute_result"
    }
   ],
   "source": [
    "# добавим уровень з/п\n",
    "for person, info in staff_dict.items():\n",
    "#     print(person)\n",
    "    if info['salary'] > 1000:\n",
    "        info['status'] = 'above average'\n",
    "    else:\n",
    "        info['status'] = 'below average'\n",
    "#     print(f\"{person}'s salary: {info['salary']} ({status})\")\n",
    "\n",
    "staff_dict"
   ]
  },
  {
   "cell_type": "code",
   "execution_count": 73,
   "metadata": {},
   "outputs": [
    {
     "name": "stdout",
     "output_type": "stream",
     "text": [
      "{'Еда': 100, 'Авто': 200, 'Политика': 300}\n"
     ]
    }
   ],
   "source": [
    "# функция zip\n",
    "categories = ['Еда', 'Авто', 'Политика', '346346']\n",
    "audience = [100, 200, 300]\n",
    "\n",
    "categories_dict = dict(zip(categories, audience))\n",
    "print(categories_dict)"
   ]
  },
  {
   "cell_type": "markdown",
   "metadata": {},
   "source": [
    "## Dict comprehension\n",
    "Похоже на  list comprehension"
   ]
  },
  {
   "cell_type": "code",
   "execution_count": 74,
   "metadata": {},
   "outputs": [
    {
     "data": {
      "text/plain": "[0, 1, 4, 9, 16, 25, 36, 49, 64, 81]"
     },
     "execution_count": 74,
     "metadata": {},
     "output_type": "execute_result"
    }
   ],
   "source": [
    "[x**2 for x in range(10)]"
   ]
  },
  {
   "cell_type": "code",
   "execution_count": 75,
   "metadata": {},
   "outputs": [
    {
     "data": {
      "text/plain": "{0: 0, 1: 1, 2: 4, 3: 9, 4: 16, 5: 25, 6: 36, 7: 49, 8: 64, 9: 81}"
     },
     "execution_count": 75,
     "metadata": {},
     "output_type": "execute_result"
    }
   ],
   "source": [
    "{n: n**2 for n in range(10)}"
   ]
  },
  {
   "cell_type": "code",
   "execution_count": 76,
   "metadata": {},
   "outputs": [],
   "source": [
    "results = [('date', '2018-01-01'), ('counter', '777'), ('visits', 154)]"
   ]
  },
  {
   "cell_type": "code",
   "execution_count": 77,
   "metadata": {},
   "outputs": [
    {
     "data": {
      "text/plain": "{'date': '2018-01-01', 'counter': '777', 'visits': 154}"
     },
     "execution_count": 77,
     "metadata": {},
     "output_type": "execute_result"
    }
   ],
   "source": [
    "{metric: value for (metric, value) in results}"
   ]
  },
  {
   "cell_type": "markdown",
   "metadata": {},
   "source": [
    "## Попрактикуемся\n",
    "Для каждого источника посчитайте ROI (revenue / cost - 1)"
   ]
  },
  {
   "cell_type": "code",
   "execution_count": 78,
   "metadata": {},
   "outputs": [],
   "source": [
    "results = {\n",
    "    'vk': {'revenue': 103, 'cost': 98},\n",
    "    'yandex': {'revenue': 179, 'cost': 153},\n",
    "    'facebook': {'revenue': 103, 'cost': 110},\n",
    "    'adwords': {'revenue': 35, 'cost': 34},\n",
    "    'twitter': {'revenue': 11, 'cost': 24},\n",
    "}"
   ]
  },
  {
   "cell_type": "code",
   "execution_count": 110,
   "metadata": {},
   "outputs": [
    {
     "name": "stdout",
     "output_type": "stream",
     "text": [
      "Vk ROI is 1.0618556701030928\n",
      "Yandex ROI is 1.1776315789473684\n",
      "Facebook ROI is 0.944954128440367\n",
      "Adwords ROI is 1.0606060606060606\n",
      "Twitter ROI is 0.4782608695652174\n"
     ]
    }
   ],
   "source": [
    "rio = 0\n",
    "for _, __ in results.items():\n",
    "    print(f\"{_.capitalize()} ROI is {__['revenue'] / (__['cost'] - 1)}\")\n"
   ]
  },
  {
   "cell_type": "code",
   "execution_count": null,
   "metadata": {},
   "outputs": [],
   "source": [
    "\n"
   ]
  },
  {
   "cell_type": "code",
   "execution_count": 107,
   "metadata": {},
   "outputs": [],
   "source": [
    "cook_book = {\n",
    "  'салат': [\n",
    "     {'ingridient_name': 'сыр', 'quantity': 50, 'measure': 'гр'},\n",
    "     {'ingridient_name': 'томаты', 'quantity': 20, 'measure': 'гр'},\n",
    "     {'ingridient_name': 'огурцы', 'quantity': 20, 'measure': 'гр'},\n",
    "     {'ingridient_name': 'маслины', 'quantity': 10, 'measure': 'гр'},\n",
    "     {'ingridient_name': 'оливковое масло', 'quantity': 20, 'measure': 'мл'},\n",
    "     {'ingridient_name': 'салат', 'quantity': 10, 'measure': 'гр'},\n",
    "     {'ingridient_name': 'перец', 'quantity': 20, 'measure': 'гр'}\n",
    "    ],\n",
    "  'пицца': [\n",
    "     {'ingridient_name': 'сыр', 'quantity': 20, 'measure': 'гр'},\n",
    "     {'ingridient_name': 'колбаса', 'quantity': 30, 'measure': 'гр'},\n",
    "     {'ingridient_name': 'бекон', 'quantity': 30, 'measure': 'гр'},\n",
    "     {'ingridient_name': 'оливки', 'quantity': 10, 'measure': 'гр'},\n",
    "     {'ingridient_name': 'томаты', 'quantity': 20, 'measure': 'гр'},\n",
    "     {'ingridient_name': 'тесто', 'quantity': 100, 'measure': 'гр'},   \n",
    "    ],\n",
    "  'лимонад': [\n",
    "     {'ingridient_name': 'лимон', 'quantity': 1, 'measure': 'шт'},\n",
    "     {'ingridient_name': 'вода', 'quantity': 200, 'measure': 'мл'},\n",
    "     {'ingridient_name': 'сахар', 'quantity': 10, 'measure': 'гр'},\n",
    "     {'ingridient_name': 'лайм', 'quantity': 20, 'measure': 'гр'},    \n",
    "    ]\n",
    "}"
   ]
  },
  {
   "cell_type": "code",
   "execution_count": 166,
   "metadata": {
    "scrolled": true
   },
   "outputs": [
    {
     "name": "stdout",
     "output_type": "stream",
     "text": [
      "Для приготовления одной порции Салат необходимо: \n",
      "\n",
      "Сыр - 50 гр.\n",
      "Томаты - 20 гр.\n",
      "Огурцы - 20 гр.\n",
      "Маслины - 10 гр.\n",
      "Оливковое масло - 20 мл.\n",
      "Салат - 10 гр.\n",
      "Перец - 20 гр.\n",
      "\n",
      "Для приготовления одной порции Пицца необходимо: \n",
      "\n",
      "Сыр - 20 гр.\n",
      "Колбаса - 30 гр.\n",
      "Бекон - 30 гр.\n",
      "Оливки - 10 гр.\n",
      "Томаты - 20 гр.\n",
      "Тесто - 100 гр.\n",
      "\n",
      "Для приготовления одной порции Лимонад необходимо: \n",
      "\n",
      "Лимон - 1 шт.\n",
      "Вода - 200 мл.\n",
      "Сахар - 10 гр.\n",
      "Лайм - 20 гр.\n",
      "\n"
     ]
    }
   ],
   "source": [
    "for _, __ in cook_book.items():\n",
    "    print(f\"Для приготовления одной порции {_.capitalize()} необходимо: \\n\")\n",
    "    for ___ in __:\n",
    "        print(f\"{___['ingridient_name'].capitalize()} - {___['quantity']} {___['measure']}.\")\n",
    "    print(f\"\")\n"
   ]
  },
  {
   "cell_type": "code",
   "execution_count": 218,
   "outputs": [
    {
     "name": "stdout",
     "output_type": "stream",
     "text": [
      "Сыр - 700 гр\n",
      "Томаты - 400 гр\n",
      "Огурцы - 200 гр\n",
      "Маслины - 100 гр\n",
      "Оливковое масло - 200 мл\n",
      "Салат - 100 гр\n",
      "Перец - 200 гр\n",
      "Колбаса - 300 гр\n",
      "Бекон - 300 гр\n",
      "Оливки - 100 гр\n",
      "Тесто - 1000 гр\n",
      "Лимон - 10 шт\n",
      "Вода - 2000 мл\n",
      "Сахар - 100 гр\n",
      "Лайм - 200 гр\n"
     ]
    }
   ],
   "source": [
    "\n",
    "person = 10\n",
    "sal_dic= {}\n",
    "person_dic = {}\n",
    "\n",
    "for _, __ in cook_book.items():\n",
    "    for ___ in __:\n",
    "        if ___['ingridient_name'] not in sal_dic:\n",
    "            sal_dic[___['ingridient_name']] = [___['quantity'], ___['measure']]\n",
    "        else:\n",
    "            sal_dic[___['ingridient_name']][0] += ___['quantity']\n",
    "\n",
    "if person > 1:\n",
    "    for _, __ in sal_dic.items():\n",
    "        person_dic[_] = [__[0] * person, __[1]]\n",
    "        print(f\"{_.capitalize()} - {__[0] * person} {__[1]}\")\n",
    "else:\n",
    "    for _, __ in sal_dic.items():\n",
    "        person_dic[_] = [__[0], __[1]]\n",
    "        print(f\"{_.capitalize()} - {__[0] * person} {__[1]}\")\n",
    "\n",
    "\n",
    "\n",
    "\n",
    "\n",
    "\n",
    "\n",
    "\n"
   ],
   "metadata": {
    "collapsed": false
   }
  },
  {
   "cell_type": "markdown",
   "source": [],
   "metadata": {
    "collapsed": false
   }
  }
 ],
 "metadata": {
  "kernelspec": {
   "display_name": "Python 3",
   "language": "python",
   "name": "python3"
  },
  "language_info": {
   "codemirror_mode": {
    "name": "ipython",
    "version": 3
   },
   "file_extension": ".py",
   "mimetype": "text/x-python",
   "name": "python",
   "nbconvert_exporter": "python",
   "pygments_lexer": "ipython3",
   "version": "3.7.6"
  }
 },
 "nbformat": 4,
 "nbformat_minor": 2
}
