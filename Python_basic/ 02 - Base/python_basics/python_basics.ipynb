{
 "cells": [
  {
   "cell_type": "markdown",
   "metadata": {},
   "source": [
    "**Задание 1**. Даны 2 строки: *long_phrase* и *short_phrase*. \n",
    "Напишите код, который проверяет действительно ли длинная фраза *long_phrase* длиннее короткой *short_phrase*. И выводит *True* или *False* в зависимости от результата сравнения."
   ]
  },
  {
   "cell_type": "code",
   "execution_count": 8,
   "metadata": {},
   "outputs": [],
   "source": [
    "long_phrase = 'Насколько проще было бы писать программы, если бы не заказчики'\n",
    "short_phrase = '640Кб должно хватить для любых задач. Билл Гейтс (по легенде)'"
   ]
  },
  {
   "cell_type": "code",
   "execution_count": 10,
   "metadata": {},
   "outputs": [
    {
     "name": "stdout",
     "output_type": "stream",
     "text": [
      "False\n"
     ]
    }
   ],
   "source": [
    "\n",
    "if len(long_phrase) > len(short_phrase):\n",
    "    print(True)\n",
    "else:\n",
    "    print(False)"
   ]
  },
  {
   "cell_type": "markdown",
   "metadata": {},
   "source": [
    "**Задание 2**. Дано значение объема файла в байтах (*в мегабайте 2^20 байт*). Напишите перевод этого значения в мегабайты в формате: \"*Объем файла равен 213.68Mb*\"."
   ]
  },
  {
   "cell_type": "code",
   "execution_count": 19,
   "metadata": {},
   "outputs": [
    {
     "name": "stdout",
     "output_type": "stream",
     "text": [
      "0.063 Mb\n"
     ]
    }
   ],
   "source": [
    "size_b = int(input(f\"Введите значение размера файла в байтах\"))\n",
    "size_mb = size_b / (2 ** 20)\n",
    "print(f\"{round(size_mb,3)} Mb\")"
   ]
  },
  {
   "cell_type": "markdown",
   "metadata": {},
   "source": [
    "**Задание 3**. Разработать приложение для определения знака зодиака по дате рождения. Пример:\n",
    "\n",
    "Введите месяц: март\n",
    "\n",
    "Введите число: 6\n",
    "\n",
    "Вывод:\n",
    "Рыбы"
   ]
  },
  {
   "cell_type": "code",
   "execution_count": 5,
   "metadata": {},
   "outputs": [
    {
     "name": "stdout",
     "output_type": "stream",
     "text": [
      "Водолей\n"
     ]
    }
   ],
   "source": [
    "month = input(f\"Введите месяц рождения\")\n",
    "date = int(input(f\"Введите день рождения\"))\n",
    "\n",
    "if month.lower() == \"март\" and (21 <= date <= 31) or month.lower() == \"апрель\" and (1 <= date <= 20):\n",
    "    print(f\"Овен\")\n",
    "elif month.lower() == \"апрель\" and (21 <= date <= 30) or month.lower() == \"май\" and (1 <= date <= 21):\n",
    "    print(f\"Телец\")\n",
    "elif month.lower() == \"май\" and (22 <= date <= 31) or month.lower() == \"июнь\" and (1 <= date <= 21):\n",
    "    print(f\"Близнецы\")\n",
    "elif month.lower() == \"июнь\" and (23 <= date <= 30) or month.lower() == \"июль\" and (1 <= date <= 22):\n",
    "    print(f\"Рак\")\n",
    "elif month.lower() == \"июль\" and (23 <= date <= 31) or month.lower() == \"август\" and (1 <= date <= 23):\n",
    "    print(f\"Лев\")\n",
    "elif month.lower() == \"август\" and (24 <= date <= 31) or month.lower() == \"сентябрь\" and (1 <= date <= 22):\n",
    "    print(f\"Дева\")\n",
    "elif month.lower() == \"сентябрь\" and (23 <= date <= 30) or month.lower() == \"октябрь\" and (1 <= date <= 23):\n",
    "    print(f\"Весы\")\n",
    "elif month.lower() == \"октябрь\" and (24 <= date <= 31) or month.lower() == \"ноябрь\" and (1 <= date <= 22):\n",
    "    print(f\"Скорпион\")\n",
    "elif month.lower() == \"ноябрь\" and (23 <= date <= 30) or month.lower() == \"декабрь\" and (1 <= date <= 21):\n",
    "    print(f\"Стрелец\")\n",
    "elif month.lower() == \"декабрь\" and (22 <= date <= 31) or month.lower() == \"январь\" and (1 <= date <= 20):\n",
    "    print(f\"Козерог\")\n",
    "elif month.lower() == \"январь\" and (21 <= date <= 31) or month.lower() == \"февраль\" and (1 <= date <= 18):\n",
    "    print(f\"Водолей\")\n",
    "elif month.lower() == \"февраль\" and (19 <= date <= 28) or month.lower() == \"март\" and (1 <= date <= 20):\n",
    "    print(f\"Рыбы\")\n",
    "else:\n",
    "    print(f\"Подана неверная информация проверьте исходныйе данные\")\n",
    "\n"
   ]
  },
  {
   "cell_type": "markdown",
   "metadata": {},
   "source": [
    "**Задание 4**. Нужно разработать приложение для финансового планирования.\n",
    "Приложение учитывает сколько уходит на ипотеку, \"на жизнь\" и сколько нужно отложить на пенсию.\n",
    "Пользователь вводит:\n",
    "- заработанную плату в месяц.\n",
    "- сколько процентов от ЗП уходит на ипотеку.\n",
    "- сколько процентов от ЗП уходит \"на жизнь\".\n",
    "- сколько раз приходит премия в год.\n",
    "\n",
    "Остальная часть заработанной платы откладывается на пенсию.\n",
    "\n",
    "Также пользователю приходит премия в размере зарплаты, от которой половина уходит на отпуск, а вторая половина откладывается.\n",
    "\n",
    "Программа должна учитывать сколько премий было в год.\n",
    "\n",
    "Нужно вывести сколько денег тратит пользователь на ипотеку и сколько он накопит за год.\n",
    "\n",
    "Пример:\n",
    "\n",
    "Введите заработанную плату в месяц: 100000\n",
    "\n",
    "Введите сколько процентов уходит на ипотеку: 30\n",
    "\n",
    "Введите сколько процентов уходит на жизнь: 50\n",
    "\n",
    "Введите количество премий за год: 2\n",
    "\n",
    "Вывод:\n",
    "На ипотеку было потрачено: 360000 рублей\n",
    "Было накоплено: 340000 рублей"
   ]
  },
  {
   "cell_type": "code",
   "execution_count": 8,
   "metadata": {},
   "outputs": [
    {
     "name": "stdout",
     "output_type": "stream",
     "text": [
      "482400.0 Потраченно на Ипотеку\n",
      "777200.0 Накопленно за год\n"
     ]
    }
   ],
   "source": [
    "\n",
    "salary = float(input(f\"Введите ЗП\"))\n",
    "flat = float(input(f\"Процент от ЗП на Ипотеку\"))\n",
    "life = float(input(f\"Процент от ЗП на повседневные расходы\"))\n",
    "bonus = int(input(f\"Колличество премий\"))\n",
    "\n",
    "one_pr = salary / 100\n",
    "maney_month = salary - one_pr * flat - one_pr * life\n",
    "maney_year = maney_month * 12 + (one_pr * 50 * bonus)\n",
    "print(f\"{one_pr * flat * 12} Потраченно на Ипотеку\")\n",
    "print(f\"{maney_year} Накопленно за год\")\n",
    "\n"
   ]
  }
 ],
 "metadata": {
  "kernelspec": {
   "display_name": "Python 3",
   "language": "python",
   "name": "python3"
  },
  "language_info": {
   "codemirror_mode": {
    "name": "ipython",
    "version": 3
   },
   "file_extension": ".py",
   "mimetype": "text/x-python",
   "name": "python",
   "nbconvert_exporter": "python",
   "pygments_lexer": "ipython3",
   "version": "3.7.1"
  }
 },
 "nbformat": 4,
 "nbformat_minor": 2
}
