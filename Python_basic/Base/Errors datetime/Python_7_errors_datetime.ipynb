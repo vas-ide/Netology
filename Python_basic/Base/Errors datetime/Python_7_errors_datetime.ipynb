{
 "cells": [
  {
   "cell_type": "markdown",
   "metadata": {},
   "source": [
    "# Обработка ошибок\n",
    "1. Текст ошибки указывается в последней строчке\n",
    "2. Все что перед ней - место, где ошибка произошла\n",
    "3. Есть встроенные типы ошибок, но можно создавать и свои"
   ]
  },
  {
   "cell_type": "markdown",
   "metadata": {},
   "source": [
    "Некоторые типы ошибок из документации (точнее [перевода](https://pythonworld.ru/tipy-dannyx-v-python/isklyucheniya-v-python-konstrukciya-try-except-dlya-obrabotki-isklyuchenij.html)):\n",
    "- ZeroDivisionError - деление на ноль\n",
    "- ImportError - не удалось импортирование модуля или его атрибута (надо установить эту библиотеку)\n",
    "- IndexError - индекс не входит в диапазон элементов.\n",
    "- KeyError - несуществующий ключ (в словаре, множестве или другом объекте)\n",
    "- MemoryError - недостаточно памяти\n",
    "- SyntaxError - синтаксическая ошибка (вы опечатались или не закрыли скобку)\n",
    "- TypeError - операция применена к объекту несоответствующего типа\n",
    "- ValueError - функция получает аргумент правильного типа, но некорректного значения\n",
    "- Warning - предупреждение (текст на красном фоне в юпитере это предупреждение, а не ошибка)"
   ]
  },
  {
   "cell_type": "code",
   "execution_count": null,
   "metadata": {},
   "outputs": [],
   "source": [
    "# эту строку можно перевести в число\n",
    "some_num = '123'"
   ]
  },
  {
   "cell_type": "code",
   "execution_count": null,
   "metadata": {},
   "outputs": [],
   "source": [
    "float(some_num)"
   ]
  },
  {
   "cell_type": "code",
   "execution_count": null,
   "metadata": {},
   "outputs": [],
   "source": [
    "# а эту уже нет (по крайней мере в десятичном счислении)\n",
    "ups = '123a'"
   ]
  },
  {
   "cell_type": "code",
   "execution_count": null,
   "metadata": {
    "scrolled": true
   },
   "outputs": [],
   "source": [
    "# ValueError - тип ошибки, далее пояснение что произошло\n",
    "# ----> 1 float(ups) - в каком месте кода произошла ошибка\n",
    "float(ups)"
   ]
  },
  {
   "cell_type": "markdown",
   "metadata": {},
   "source": [
    "Пример ошибки внутри функции"
   ]
  },
  {
   "cell_type": "code",
   "execution_count": null,
   "metadata": {},
   "outputs": [],
   "source": [
    "def square_sum(*args):\n",
    "    total_sum = 0\n",
    "    for arg in args:\n",
    "        total_sum += arg**2\n",
    "    \n",
    "    return total_sum"
   ]
  },
  {
   "cell_type": "code",
   "execution_count": null,
   "metadata": {},
   "outputs": [],
   "source": [
    "square_sum(1, 2, 3)"
   ]
  },
  {
   "cell_type": "code",
   "execution_count": null,
   "metadata": {},
   "outputs": [],
   "source": [
    "# пытаемся применить к операцию возведения в квадрат к строке\n",
    "# ----> 1 square_sum(1, 2, '3') - в какой функции произошла ошибка\n",
    "# ----> 4         total_sum += arg**2 - в какой именно строке произошла ошибка\n",
    "\n",
    "square_sum(1, 2, '3')"
   ]
  },
  {
   "cell_type": "markdown",
   "metadata": {},
   "source": [
    "## Как сделать, чтобы цикл с расчетом не падал каждый раз"
   ]
  },
  {
   "cell_type": "code",
   "execution_count": null,
   "metadata": {},
   "outputs": [],
   "source": [
    "try:\n",
    "    # ваш код, где может произойти ошибка\n",
    "    float('123a')\n",
    "\n",
    "except:\n",
    "    # код, который выполняется в случае ошибки\n",
    "    "
   ]
  },
  {
   "cell_type": "code",
   "execution_count": null,
   "metadata": {},
   "outputs": [],
   "source": [
    "data = ['90', '60', '90', '240tot']\n",
    "total_sum = 0\n",
    "\n",
    "for num in data:\n",
    "    try:\n",
    "        total_sum += float(num)\n",
    "\n",
    "    except:\n",
    "        print('Ошибка в данных: {}'.format(num))\n",
    "    \n",
    "print('Итого', total_sum)"
   ]
  },
  {
   "cell_type": "markdown",
   "metadata": {},
   "source": [
    "Как сохранить всю информацию об ошибке?"
   ]
  },
  {
   "cell_type": "code",
   "execution_count": null,
   "metadata": {
    "scrolled": true
   },
   "outputs": [],
   "source": [
    "# полная версия traceback\n",
    "import traceback\n",
    "\n",
    "try:\n",
    "    float('123fff')\n",
    "\n",
    "except Exception:\n",
    "    print(traceback.print_exc())\n",
    "    \n",
    "print('Проехали')"
   ]
  },
  {
   "cell_type": "markdown",
   "metadata": {},
   "source": [
    "### Упражнение\n",
    "Создайте словарь stats = {'monday': 100, 'tuesday': 200}. \n",
    "\n",
    "Какой тип ошибки вызовет обращение stats['wednesday']?"
   ]
  },
  {
   "cell_type": "code",
   "execution_count": 1,
   "metadata": {},
   "outputs": [
    {
     "ename": "KeyError",
     "evalue": "'wednesday'",
     "output_type": "error",
     "traceback": [
      "\u001B[1;31m---------------------------------------------------------------------------\u001B[0m",
      "\u001B[1;31mKeyError\u001B[0m                                  Traceback (most recent call last)",
      "Cell \u001B[1;32mIn[1], line 3\u001B[0m\n\u001B[0;32m      1\u001B[0m stats \u001B[38;5;241m=\u001B[39m {\u001B[38;5;124m'\u001B[39m\u001B[38;5;124mmonday\u001B[39m\u001B[38;5;124m'\u001B[39m: \u001B[38;5;241m100\u001B[39m, \u001B[38;5;124m'\u001B[39m\u001B[38;5;124mtuesday\u001B[39m\u001B[38;5;124m'\u001B[39m: \u001B[38;5;241m200\u001B[39m}\n\u001B[1;32m----> 3\u001B[0m \u001B[38;5;28mprint\u001B[39m(\u001B[43mstats\u001B[49m\u001B[43m[\u001B[49m\u001B[38;5;124;43m'\u001B[39;49m\u001B[38;5;124;43mwednesday\u001B[39;49m\u001B[38;5;124;43m'\u001B[39;49m\u001B[43m]\u001B[49m)\n",
      "\u001B[1;31mKeyError\u001B[0m: 'wednesday'"
     ]
    }
   ],
   "source": [
    "\n",
    "stats = {'monday': 100, 'tuesday': 200}\n",
    "\n",
    "print(stats['wednesday'])"
   ]
  },
  {
   "cell_type": "code",
   "execution_count": null,
   "metadata": {},
   "outputs": [],
   "source": []
  },
  {
   "cell_type": "code",
   "execution_count": null,
   "metadata": {},
   "outputs": [],
   "source": []
  },
  {
   "cell_type": "markdown",
   "metadata": {},
   "source": [
    "### Блок finally"
   ]
  },
  {
   "cell_type": "code",
   "execution_count": null,
   "metadata": {},
   "outputs": [],
   "source": [
    "try:\n",
    "    print(stats[\"wednesday\"])\n",
    "    \n",
    "except IndexError:\n",
    "    print(\"Ошибка индекса\")\n",
    "    \n",
    "except KeyError:\n",
    "    print(\"Ошибка ключа\")\n",
    "    print(1/0)\n",
    "    \n",
    "finally:\n",
    "    print('Эта строчка будет выполнена всегда')"
   ]
  },
  {
   "cell_type": "markdown",
   "metadata": {},
   "source": [
    "### Более жизненный пример"
   ]
  },
  {
   "cell_type": "code",
   "execution_count": 2,
   "metadata": {},
   "outputs": [
    {
     "name": "stdout",
     "output_type": "stream",
     "text": [
      "05.10.16 23:18\t1010\t20,2\n",
      "09.10.2016T 21:40:00\t1036\t15,6\n",
      "05.10.16 3:23\t1041\n",
      "05.10.16 23:19\t1041\n",
      "01.10.16 4:57\t1042\t14,8\n",
      "01.10.16 23:29\t1042\t14,4\n",
      "03.10.16 20:20\t1042\t14\n",
      "04.10.16 0:35\t1042\t20\n",
      "04.10.16 13:46\t1042\t16,2\n",
      "04.10.16 17:34\t1042\t11\n",
      "05.10.16 15:15\t1042\t10800000\n",
      "06.10.16 20:45\t1042\t22,6\n",
      "07.10.16 2:54\t1042\t22,4\n",
      "07.10.16 5:02\t1042\t24,4\n",
      "07.10.16 6:35\t1042\t16,6\n",
      "08.10.2016T 16:46:00\t1042\t8,6\n",
      "01.10.16 13:39\t1047\n",
      "05.10.16 21:41\t1047\n",
      "07.10.16 9:59\t1052\t24\n",
      "08.10.2016T 19:36:00\t1052\t18,8\n",
      "04.10.16 11:12\t1057\n",
      "09.10.2016T 2:47:00\t1057\n",
      "09.10.2016T 16:27:00\t1062\t11,2\n",
      "05.10.16 4:38\t1067\t19\n",
      "04.10.16 9:56\t1078\t23,4\n",
      "04.10.16 14:36\t1085\t17\n",
      "05.10.16 16:41\t1096\t20,8\n",
      "01.10.16 11:55\t1098\t15,6\n",
      "01.10.16 14:16\t1100\n",
      "02.10.16 1:39\t1100\n",
      "02.10.16 2:49\t1100\n",
      "02.10.16 13:05\t1100\n",
      "03.10.16 4:04\t1100\n",
      "03.10.16 6:58\t1100\n",
      "03.10.16 15:01\t1100\n",
      "04.10.16 23:43\t1100\n",
      "05.10.16 5:46\t1100\n",
      "06.10.16 0:31\t1100\n",
      "06.10.16 9:25\t1100\n",
      "08.10.2016T 15:15:00\t1100\n",
      "07.10.16 9:06\t1105\t16,2\n",
      "01.10.16 4:30\t1108\t17,8\n",
      "01.10.16 18:16\t1108\t18,8\n",
      "02.10.16 2:58\t1108\t20000000\n",
      "02.10.16 6:01\t1108\t21\n",
      "02.10.16 20:03\t1108\t16,6\n",
      "04.10.16 2:56\t1108\t20\n",
      "04.10.16 6:57\t1108\t19,8\n",
      "06.10.16 6:46\t1108\t16,8\n",
      "09.10.2016T 8:33:00\t1108\t24000000\n",
      "08.10.2016T 8:02:00\t1111\t12\n",
      "05.10.16 5:25\t1112\t10,2\n",
      "09.10.2016T 0:03:00\t1112\t24\n",
      "06.10.16 10:09\t1113\t15,8\n",
      "09.10.2016T 12:09:00\t1113\t22\n",
      "05.10.16 18:00\t1114\t17,4\n",
      "06.10.16 17:58\t1114\t14,8\n",
      "05.10.16 23:19\t1116\t20\n",
      "01.10.16 23:13\t1118\t11,6\n",
      "09.10.2016T 21:14:00\t1118\t20\n",
      "05.10.16 16:30\t1123\t16\n",
      "06.10.16 5:27\t1123\t11,2\n",
      "01.10.16 17:46\t1128\t12,2\n",
      "04.10.16 5:00\t1134\n",
      "06.10.16 12:01\t1134\n",
      "01.10.16 15:58\t1135\n",
      "02.10.16 3:19\t1135\n",
      "02.10.16 19:24\t1135\n",
      "04.10.16 10:40\t1135\n",
      "06.10.16 6:06\t1135\n",
      "06.10.16 16:08\t1135\n",
      "08.10.2016T 0:31:00\t1135\n",
      "08.10.2016T 10:16:00\t1135\n",
      "08.10.2016T 23:10:00\t1135\n",
      "01.10.16 22:28\t1136\t21,6\n",
      "03.10.16 23:03\t1136\t17,4\n",
      "03.10.16 8:06\t1140\t22\n",
      "04.10.16 10:01\t1140\t22\n",
      "01.10.16 16:53\t1141\t16\n",
      "05.10.16 3:31\t1145\t16\n",
      "06.10.16 4:00\t1145\t20\n",
      "02.10.16 8:08\t1149\t10\n",
      "07.10.16 16:12\t1149\t21,2\n",
      "08.10.2016T 6:55:00\t1149\t30,4\n",
      "08.10.2016T 22:55:00\t1149\t18800000\n",
      "09.10.2016T 4:10:00\t1149\t14\n",
      "09.10.2016T 10:26:00\t1149\t22\n",
      "09.10.2016T 22:22:00\t1149\t16\n",
      "07.10.16 6:57\t1150\t12,6\n",
      "02.10.16 12:03\t1154\t13,4\n",
      "04.10.16 22:51\t1154\t13,6\n",
      "04.10.16 9:28\t1159\t10,2\n",
      "04.10.16 13:34\t1159\t17,4\n",
      "08.10.2016T 9:43:00\t1164\t22,4\n",
      "07.10.16 14:57\t1167\t11,4\n",
      "07.10.16 20:25\t1175\t14\n",
      "06.10.16 12:48\t1181\t22,4\n",
      "07.10.16 9:54\t1182\t18\n",
      "10.10.16 2:35\t1182\t17\n",
      "04.10.16 13:49\t1193\t24800000\n",
      "09.10.2016T 20:49:00\t1193\t16,6\n",
      "01.10.16 5:12\t1198\t17,8\n",
      "06.10.16 7:52\t1198\t9\n",
      "06.10.16 5:15\t1201\t10,6\n",
      "05.10.16 13:55\t1203\n",
      "06.10.16 5:56\t1203\n",
      "01.10.16 16:10\t1207\t16,6\n",
      "02.10.16 1:24\t1207\t24,2\n",
      "02.10.16 21:17\t1207\t20,4\n",
      "03.10.16 16:08\t1207\t25,6\n",
      "04.10.16 17:29\t1207\t19,8\n",
      "05.10.16 1:39\t1207\t16,4\n",
      "05.10.16 6:33\t1207\t16,2\n",
      "05.10.16 18:57\t1207\t17\n",
      "05.10.16 20:51\t1207\t16,8\n",
      "07.10.16 8:55\t1207\t19,8\n",
      "07.10.16 17:40\t1207\t15,6\n",
      "08.10.2016T 23:36:00\t1207\t19,2\n",
      "09.10.2016T 10:25:00\t1207\t23,2\n",
      "09.10.2016T 21:04:00\t1207\t10,8\n",
      "04.10.16 7:38\t1208\t24,4\n",
      "09.10.2016T 14:53:00\t1208\t13,4\n",
      "05.10.16 17:15\t1209\t12\n",
      "03.10.16 6:16\t1213\t18,6\n",
      "06.10.16 10:04\t1213\t16,6\n",
      "01.10.16 16:52\t1218\t12200000\n",
      "09.10.2016T 19:10:00\t1218\t22400000\n",
      "02.10.16 8:42\t1219\t15,4\n",
      "03.10.16 19:32\t1223\t17,2\n",
      "06.10.16 22:11\t1223\t17600000\n",
      "08.10.2016T 15:18:00\t1224\t16,4\n",
      "01.10.16 4:41\t1226\n",
      "03.10.16 9:32\t1226\n",
      "07.10.16 18:32\t1228\t18,8\n",
      "08.10.2016T 13:21:00\t1228\t17,6\n",
      "03.10.16 15:47\t1230\t20,6\n",
      "01.10.16 9:02\t1233\n",
      "01.10.16 10:27\t1233\n",
      "02.10.16 22:01\t1236\t17,4\n",
      "05.10.16 5:27\t1238\t13,6\n",
      "09.10.2016T 14:43:00\t1238\t17,6\n",
      "04.10.16 22:25\t1242\t18,4\n",
      "06.10.16 4:54\t1243\t20,4\n",
      "06.10.16 14:28\t1243\t20\n",
      "01.10.16 4:27\t1246\t17,8\n",
      "02.10.16 4:27\t1246\n",
      "02.10.16 8:45\t1246\n",
      "02.10.16 16:58\t1246\n",
      "02.10.16 17:30\t1246\n",
      "02.10.16 19:46\t1246\n",
      "03.10.16 2:05\t1246\n",
      "03.10.16 2:57\t1246\n",
      "03.10.16 7:19\t1246\n",
      "03.10.16 12:15\t1246\n",
      "03.10.16 14:58\t1246\n",
      "03.10.16 19:43\t1246\n",
      "04.10.16 7:27\t1246\n",
      "04.10.16 9:08\t1246\n",
      "04.10.16 13:52\t1246\n",
      "04.10.16 16:34\t1246\n",
      "05.10.16 0:27\t1246\n",
      "05.10.16 6:36\t1246\n",
      "05.10.16 12:59\t1246\n",
      "05.10.16 16:52\t1246\n",
      "05.10.16 17:26\t1246\n",
      "06.10.16 6:48\t1246\n",
      "08.10.2016T 2:53:00\t1246\n",
      "10.10.16 0:59\t1246\n",
      "01.10.16 16:30\t1248\t13,2\n",
      "01.10.16 21:06\t1248\t28,8\n",
      "02.10.16 7:12\t1252\t22\n",
      "04.10.16 13:51\t1252\t15,6\n",
      "01.10.16 12:36\t1253\t13,6\n",
      "04.10.16 17:11\t1253\t8,6\n",
      "02.10.16 16:22\t1258\t22\n",
      "08.10.2016T 19:34:00\t1258\t20\n",
      "02.10.16 10:36\t1263\t12,6\n",
      "03.10.16 6:10\t1263\t18\n",
      "02.10.16 21:42\t1267\n",
      "04.10.16 9:02\t1267\n",
      "04.10.16 12:10\t1267\n",
      "04.10.16 15:40\t1267\n",
      "04.10.16 18:37\t1267\n",
      "04.10.16 21:29\t1267\n",
      "05.10.16 21:11\t1267\n",
      "05.10.16 22:09\t1267\n",
      "06.10.16 3:58\t1267\n",
      "06.10.16 11:16\t1267\n",
      "06.10.16 19:20\t1267\n",
      "07.10.16 10:18\t1267\n",
      "08.10.2016T 18:18:00\t1267\n",
      "09.10.2016T 4:41:00\t1267\n",
      "09.10.2016T 9:13:00\t1267\n",
      "09.10.2016T 15:37:00\t1267\n",
      "09.10.2016T 18:56:00\t1267\n",
      "05.10.16 2:48\t1268\t16,4\n",
      "07.10.16 19:36\t1268\t16\n",
      "02.10.16 14:12\t1269\t22\n",
      "07.10.16 3:29\t1270\t21,8\n",
      "01.10.16 8:56\t1273\t14,6\n",
      "08.10.2016T 13:49:00\t1273\t22\n",
      "07.10.16 6:00\t1274\t25\n",
      "04.10.16 13:47\t1278\t15,6\n",
      "07.10.16 6:42\t1278\t17,8\n",
      "08.10.2016T 3:24:00\t1279\t14,8\n",
      "03.10.16 1:03\t1281\t18,2\n",
      "02.10.16 6:11\t1283\t12,6\n",
      "02.10.16 19:24\t1283\t11,8\n",
      "07.10.16 13:37\t1288\t16\n",
      "08.10.2016T 19:46:00\t1288\t30,4\n",
      "07.10.16 2:41\t1291\t13,4\n",
      "01.10.16 17:29\t1293\t18,4\n",
      "02.10.16 20:12\t1293\t20\n",
      "02.10.16 23:36\t1294\t17\n",
      "07.10.16 10:32\t1296\t26\n",
      "03.10.16 20:41\t1298\t21\n",
      "03.10.16 22:35\t1298\t19,4\n",
      "05.10.16 12:19\t1298\t16\n",
      "02.10.16 11:43\t1300\t12,8\n",
      "03.10.16 23:18\t1300\t14\n",
      "03.10.16 18:28\t1302\t21800000\n",
      "02.10.16 8:06\t1303\t11,8\n",
      "06.10.16 6:23\t1303\t25,8\n",
      "03.10.16 10:42\t1308\t18\n",
      "06.10.16 18:52\t1308\t10,2\n",
      "06.10.16 16:16\t1313\t12\n",
      "08.10.2016T 18:12:00\t1313\t13,8\n",
      "02.10.16 14:04\t1315\t16,6\n",
      "03.10.16 14:10\t1318\n",
      "03.10.16 18:15\t1318\n",
      "03.10.16 18:27\t1318\n",
      "04.10.16 17:09\t1318\n",
      "05.10.16 11:07\t1318\n",
      "06.10.16 1:46\t1318\n",
      "06.10.16 22:29\t1318\n",
      "07.10.16 0:44\t1318\n",
      "07.10.16 10:17\t1318\n",
      "07.10.16 11:29\t1318\n",
      "08.10.2016T 23:18:00\t1318\n",
      "09.10.2016T 1:37:00\t1318\n",
      "09.10.2016T 7:48:00\t1318\n",
      "09.10.2016T 22:27:00\t1318\n",
      "06.10.16 17:08\t1320\t18\n",
      "09.10.2016T 2:35:00\t1323\t16\n",
      "09.10.2016T 10:08:00\t1323\t28,6\n",
      "05.10.16 7:29\t1328\t18,4\n",
      "05.10.16 11:58\t1328\t18,8\n",
      "03.10.16 0:36\t1330\t17,8\n",
      "09.10.2016T 2:08:00\t1331\t16,8\n",
      "03.10.16 2:19\t1332\t19,4\n",
      "04.10.16 22:01\t1333\t20\n",
      "08.10.2016T 3:48:00\t1334\t16\n",
      "03.10.16 1:32\t1343\t22\n",
      "08.10.2016T 4:34:00\t1350\t12800000\n",
      "04.10.16 4:09\t1351\t20\n",
      "06.10.16 19:09\t1353\t17,4\n",
      "03.10.16 1:30\t1354\t15,6\n",
      "02.10.16 23:30\t1355\t22\n",
      "08.10.2016T 6:50:00\t1359\t14,4\n",
      "02.10.16 13:33\t1362\t12,2\n",
      "05.10.16 21:36\t1363\t12,2\n",
      "04.10.16 22:06\t1364\t20\n",
      "01.10.16 5:29\t1366\t13000000\n",
      "07.10.16 9:40\t1367\t22,4\n",
      "04.10.16 7:31\t1371\t13,6\n",
      "04.10.16 1:36\t1372\t30,4\n",
      "07.10.16 17:25\t1374\t12,4\n",
      "05.10.16 23:06\t1377\t16\n",
      "06.10.16 14:29\t1380\t30,4\n",
      "09.10.2016T 4:55:00\t1382\t23,2\n",
      "05.10.16 21:24\t1383\t20\n",
      "05.10.16 8:14\t1386\t12,6\n",
      "03.10.16 11:43\t1387\t14,6\n",
      "01.10.16 6:21\t1388\t11,8\n",
      "03.10.16 6:03\t1392\t20,2\n",
      "06.10.16 5:34\t1393\t10\n",
      "04.10.16 23:55\t1394\t12,8\n",
      "05.10.16 5:01\t1397\t20,6\n",
      "05.10.16 22:54\t1398\t18\n",
      "01.10.16 17:01\t1424\n",
      "03.10.16 6:50\t1424\n",
      "04.10.16 5:27\t1424\n",
      "04.10.16 16:14\t1424\n",
      "04.10.16 18:21\t1424\n",
      "05.10.16 23:33\t1424\n",
      "06.10.16 7:27\t1424\n",
      "07.10.16 3:01\t1424\n",
      "07.10.16 16:08\t1424\n",
      "07.10.16 16:12\t1424\n",
      "08.10.2016T 12:41:00\t1424\n",
      "08.10.2016T 15:26:00\t1424\n",
      "08.10.2016T 17:21:00\t1424\n",
      "09.10.2016T 8:00:00\t1424\n",
      "10.10.16 1:24\t1424\n"
     ]
    }
   ],
   "source": [
    "with open('real_data.txt', 'r') as f:\n",
    "    for line in f:\n",
    "        print(line.strip())"
   ]
  },
  {
   "cell_type": "markdown",
   "metadata": {},
   "source": [
    "Чем прекрасен этот файл:\n",
    "1. Даты имеют разный формат: за 8 и 9 октября формат с \"09.10.2016 21:40\" сменился на \"09.10.2016T 21:40:00\" (добавилась буква T и секунды). Разработчики объяснили этот тем, что сбились настройки после обновления одной из баз данных.\n",
    "2. У покупок некоторых пользователей неизвестно значение выручки, из-за чего количество столбцов в строке уменьшается на один.\n",
    "3. У некоторых строк реальная сумма покупки умножена на миллион. Так иногда действительно делают, чтобы избежать дробных чисел и работать только с целыми."
   ]
  },
  {
   "cell_type": "markdown",
   "metadata": {},
   "source": [
    "### Упражнение\n",
    "Посчитайте сумму выручки из третьего столбца. Пока не обращайте внимания на помноженную на миллион выручку."
   ]
  },
  {
   "cell_type": "code",
   "execution_count": 4,
   "metadata": {},
   "outputs": [
    {
     "name": "stdout",
     "output_type": "stream",
     "text": [
      "None\n",
      "None\n",
      "None\n",
      "None\n",
      "None\n",
      "None\n",
      "None\n",
      "None\n",
      "None\n",
      "None\n",
      "None\n",
      "None\n",
      "None\n",
      "None\n",
      "None\n",
      "None\n",
      "None\n",
      "None\n",
      "None\n",
      "None\n",
      "None\n",
      "None\n",
      "None\n",
      "None\n",
      "None\n",
      "None\n",
      "None\n",
      "None\n",
      "None\n",
      "None\n",
      "None\n",
      "None\n",
      "None\n",
      "None\n",
      "None\n",
      "None\n",
      "None\n",
      "None\n",
      "None\n",
      "None\n",
      "None\n",
      "None\n",
      "None\n",
      "None\n",
      "None\n",
      "None\n",
      "None\n",
      "None\n",
      "None\n",
      "None\n",
      "None\n",
      "None\n",
      "None\n",
      "None\n",
      "None\n",
      "None\n",
      "None\n",
      "None\n",
      "None\n",
      "None\n",
      "None\n",
      "None\n",
      "None\n",
      "None\n",
      "None\n",
      "None\n",
      "None\n",
      "None\n",
      "None\n",
      "None\n",
      "None\n",
      "None\n",
      "None\n",
      "None\n",
      "None\n",
      "None\n",
      "None\n",
      "None\n",
      "None\n",
      "None\n",
      "None\n",
      "None\n",
      "None\n",
      "None\n",
      "None\n",
      "None\n",
      "None\n",
      "None\n",
      "None\n",
      "None\n",
      "None\n",
      "None\n",
      "None\n",
      "None\n",
      "None\n",
      "None\n",
      "None\n",
      "None\n",
      "None\n",
      "None\n",
      "None\n",
      "None\n",
      "None\n",
      "None\n",
      "198203147.8000001\n"
     ]
    },
    {
     "name": "stderr",
     "output_type": "stream",
     "text": [
      "Traceback (most recent call last):\n",
      "  File \"C:\\Users\\VAS-PC-IDE\\AppData\\Local\\Temp\\ipykernel_3280\\2092130484.py\", line 14, in calc_money\n",
      "    analiz_sum += float(innit_num_add)\n",
      "                  ^^^^^^^^^^^^^^^^^^^^\n",
      "ValueError: could not convert string to float: ''\n",
      "Traceback (most recent call last):\n",
      "  File \"C:\\Users\\VAS-PC-IDE\\AppData\\Local\\Temp\\ipykernel_3280\\2092130484.py\", line 14, in calc_money\n",
      "    analiz_sum += float(innit_num_add)\n",
      "                  ^^^^^^^^^^^^^^^^^^^^\n",
      "ValueError: could not convert string to float: ''\n",
      "Traceback (most recent call last):\n",
      "  File \"C:\\Users\\VAS-PC-IDE\\AppData\\Local\\Temp\\ipykernel_3280\\2092130484.py\", line 14, in calc_money\n",
      "    analiz_sum += float(innit_num_add)\n",
      "                  ^^^^^^^^^^^^^^^^^^^^\n",
      "ValueError: could not convert string to float: ''\n",
      "Traceback (most recent call last):\n",
      "  File \"C:\\Users\\VAS-PC-IDE\\AppData\\Local\\Temp\\ipykernel_3280\\2092130484.py\", line 14, in calc_money\n",
      "    analiz_sum += float(innit_num_add)\n",
      "                  ^^^^^^^^^^^^^^^^^^^^\n",
      "ValueError: could not convert string to float: ''\n",
      "Traceback (most recent call last):\n",
      "  File \"C:\\Users\\VAS-PC-IDE\\AppData\\Local\\Temp\\ipykernel_3280\\2092130484.py\", line 14, in calc_money\n",
      "    analiz_sum += float(innit_num_add)\n",
      "                  ^^^^^^^^^^^^^^^^^^^^\n",
      "ValueError: could not convert string to float: ''\n",
      "Traceback (most recent call last):\n",
      "  File \"C:\\Users\\VAS-PC-IDE\\AppData\\Local\\Temp\\ipykernel_3280\\2092130484.py\", line 14, in calc_money\n",
      "    analiz_sum += float(innit_num_add)\n",
      "                  ^^^^^^^^^^^^^^^^^^^^\n",
      "ValueError: could not convert string to float: ''\n",
      "Traceback (most recent call last):\n",
      "  File \"C:\\Users\\VAS-PC-IDE\\AppData\\Local\\Temp\\ipykernel_3280\\2092130484.py\", line 14, in calc_money\n",
      "    analiz_sum += float(innit_num_add)\n",
      "                  ^^^^^^^^^^^^^^^^^^^^\n",
      "ValueError: could not convert string to float: ''\n",
      "Traceback (most recent call last):\n",
      "  File \"C:\\Users\\VAS-PC-IDE\\AppData\\Local\\Temp\\ipykernel_3280\\2092130484.py\", line 14, in calc_money\n",
      "    analiz_sum += float(innit_num_add)\n",
      "                  ^^^^^^^^^^^^^^^^^^^^\n",
      "ValueError: could not convert string to float: ''\n",
      "Traceback (most recent call last):\n",
      "  File \"C:\\Users\\VAS-PC-IDE\\AppData\\Local\\Temp\\ipykernel_3280\\2092130484.py\", line 14, in calc_money\n",
      "    analiz_sum += float(innit_num_add)\n",
      "                  ^^^^^^^^^^^^^^^^^^^^\n",
      "ValueError: could not convert string to float: ''\n",
      "Traceback (most recent call last):\n",
      "  File \"C:\\Users\\VAS-PC-IDE\\AppData\\Local\\Temp\\ipykernel_3280\\2092130484.py\", line 14, in calc_money\n",
      "    analiz_sum += float(innit_num_add)\n",
      "                  ^^^^^^^^^^^^^^^^^^^^\n",
      "ValueError: could not convert string to float: ''\n",
      "Traceback (most recent call last):\n",
      "  File \"C:\\Users\\VAS-PC-IDE\\AppData\\Local\\Temp\\ipykernel_3280\\2092130484.py\", line 14, in calc_money\n",
      "    analiz_sum += float(innit_num_add)\n",
      "                  ^^^^^^^^^^^^^^^^^^^^\n",
      "ValueError: could not convert string to float: ''\n",
      "Traceback (most recent call last):\n",
      "  File \"C:\\Users\\VAS-PC-IDE\\AppData\\Local\\Temp\\ipykernel_3280\\2092130484.py\", line 14, in calc_money\n",
      "    analiz_sum += float(innit_num_add)\n",
      "                  ^^^^^^^^^^^^^^^^^^^^\n",
      "ValueError: could not convert string to float: ''\n",
      "Traceback (most recent call last):\n",
      "  File \"C:\\Users\\VAS-PC-IDE\\AppData\\Local\\Temp\\ipykernel_3280\\2092130484.py\", line 14, in calc_money\n",
      "    analiz_sum += float(innit_num_add)\n",
      "                  ^^^^^^^^^^^^^^^^^^^^\n",
      "ValueError: could not convert string to float: ''\n",
      "Traceback (most recent call last):\n",
      "  File \"C:\\Users\\VAS-PC-IDE\\AppData\\Local\\Temp\\ipykernel_3280\\2092130484.py\", line 14, in calc_money\n",
      "    analiz_sum += float(innit_num_add)\n",
      "                  ^^^^^^^^^^^^^^^^^^^^\n",
      "ValueError: could not convert string to float: ''\n",
      "Traceback (most recent call last):\n",
      "  File \"C:\\Users\\VAS-PC-IDE\\AppData\\Local\\Temp\\ipykernel_3280\\2092130484.py\", line 14, in calc_money\n",
      "    analiz_sum += float(innit_num_add)\n",
      "                  ^^^^^^^^^^^^^^^^^^^^\n",
      "ValueError: could not convert string to float: ''\n",
      "Traceback (most recent call last):\n",
      "  File \"C:\\Users\\VAS-PC-IDE\\AppData\\Local\\Temp\\ipykernel_3280\\2092130484.py\", line 14, in calc_money\n",
      "    analiz_sum += float(innit_num_add)\n",
      "                  ^^^^^^^^^^^^^^^^^^^^\n",
      "ValueError: could not convert string to float: ''\n",
      "Traceback (most recent call last):\n",
      "  File \"C:\\Users\\VAS-PC-IDE\\AppData\\Local\\Temp\\ipykernel_3280\\2092130484.py\", line 14, in calc_money\n",
      "    analiz_sum += float(innit_num_add)\n",
      "                  ^^^^^^^^^^^^^^^^^^^^\n",
      "ValueError: could not convert string to float: ''\n",
      "Traceback (most recent call last):\n",
      "  File \"C:\\Users\\VAS-PC-IDE\\AppData\\Local\\Temp\\ipykernel_3280\\2092130484.py\", line 14, in calc_money\n",
      "    analiz_sum += float(innit_num_add)\n",
      "                  ^^^^^^^^^^^^^^^^^^^^\n",
      "ValueError: could not convert string to float: ''\n",
      "Traceback (most recent call last):\n",
      "  File \"C:\\Users\\VAS-PC-IDE\\AppData\\Local\\Temp\\ipykernel_3280\\2092130484.py\", line 14, in calc_money\n",
      "    analiz_sum += float(innit_num_add)\n",
      "                  ^^^^^^^^^^^^^^^^^^^^\n",
      "ValueError: could not convert string to float: ''\n",
      "Traceback (most recent call last):\n",
      "  File \"C:\\Users\\VAS-PC-IDE\\AppData\\Local\\Temp\\ipykernel_3280\\2092130484.py\", line 14, in calc_money\n",
      "    analiz_sum += float(innit_num_add)\n",
      "                  ^^^^^^^^^^^^^^^^^^^^\n",
      "ValueError: could not convert string to float: ''\n",
      "Traceback (most recent call last):\n",
      "  File \"C:\\Users\\VAS-PC-IDE\\AppData\\Local\\Temp\\ipykernel_3280\\2092130484.py\", line 14, in calc_money\n",
      "    analiz_sum += float(innit_num_add)\n",
      "                  ^^^^^^^^^^^^^^^^^^^^\n",
      "ValueError: could not convert string to float: ''\n",
      "Traceback (most recent call last):\n",
      "  File \"C:\\Users\\VAS-PC-IDE\\AppData\\Local\\Temp\\ipykernel_3280\\2092130484.py\", line 14, in calc_money\n",
      "    analiz_sum += float(innit_num_add)\n",
      "                  ^^^^^^^^^^^^^^^^^^^^\n",
      "ValueError: could not convert string to float: ''\n",
      "Traceback (most recent call last):\n",
      "  File \"C:\\Users\\VAS-PC-IDE\\AppData\\Local\\Temp\\ipykernel_3280\\2092130484.py\", line 14, in calc_money\n",
      "    analiz_sum += float(innit_num_add)\n",
      "                  ^^^^^^^^^^^^^^^^^^^^\n",
      "ValueError: could not convert string to float: ''\n",
      "Traceback (most recent call last):\n",
      "  File \"C:\\Users\\VAS-PC-IDE\\AppData\\Local\\Temp\\ipykernel_3280\\2092130484.py\", line 14, in calc_money\n",
      "    analiz_sum += float(innit_num_add)\n",
      "                  ^^^^^^^^^^^^^^^^^^^^\n",
      "ValueError: could not convert string to float: ''\n",
      "Traceback (most recent call last):\n",
      "  File \"C:\\Users\\VAS-PC-IDE\\AppData\\Local\\Temp\\ipykernel_3280\\2092130484.py\", line 14, in calc_money\n",
      "    analiz_sum += float(innit_num_add)\n",
      "                  ^^^^^^^^^^^^^^^^^^^^\n",
      "ValueError: could not convert string to float: ''\n",
      "Traceback (most recent call last):\n",
      "  File \"C:\\Users\\VAS-PC-IDE\\AppData\\Local\\Temp\\ipykernel_3280\\2092130484.py\", line 14, in calc_money\n",
      "    analiz_sum += float(innit_num_add)\n",
      "                  ^^^^^^^^^^^^^^^^^^^^\n",
      "ValueError: could not convert string to float: ''\n",
      "Traceback (most recent call last):\n",
      "  File \"C:\\Users\\VAS-PC-IDE\\AppData\\Local\\Temp\\ipykernel_3280\\2092130484.py\", line 14, in calc_money\n",
      "    analiz_sum += float(innit_num_add)\n",
      "                  ^^^^^^^^^^^^^^^^^^^^\n",
      "ValueError: could not convert string to float: ''\n",
      "Traceback (most recent call last):\n",
      "  File \"C:\\Users\\VAS-PC-IDE\\AppData\\Local\\Temp\\ipykernel_3280\\2092130484.py\", line 14, in calc_money\n",
      "    analiz_sum += float(innit_num_add)\n",
      "                  ^^^^^^^^^^^^^^^^^^^^\n",
      "ValueError: could not convert string to float: ''\n",
      "Traceback (most recent call last):\n",
      "  File \"C:\\Users\\VAS-PC-IDE\\AppData\\Local\\Temp\\ipykernel_3280\\2092130484.py\", line 14, in calc_money\n",
      "    analiz_sum += float(innit_num_add)\n",
      "                  ^^^^^^^^^^^^^^^^^^^^\n",
      "ValueError: could not convert string to float: ''\n",
      "Traceback (most recent call last):\n",
      "  File \"C:\\Users\\VAS-PC-IDE\\AppData\\Local\\Temp\\ipykernel_3280\\2092130484.py\", line 14, in calc_money\n",
      "    analiz_sum += float(innit_num_add)\n",
      "                  ^^^^^^^^^^^^^^^^^^^^\n",
      "ValueError: could not convert string to float: ''\n",
      "Traceback (most recent call last):\n",
      "  File \"C:\\Users\\VAS-PC-IDE\\AppData\\Local\\Temp\\ipykernel_3280\\2092130484.py\", line 14, in calc_money\n",
      "    analiz_sum += float(innit_num_add)\n",
      "                  ^^^^^^^^^^^^^^^^^^^^\n",
      "ValueError: could not convert string to float: ''\n",
      "Traceback (most recent call last):\n",
      "  File \"C:\\Users\\VAS-PC-IDE\\AppData\\Local\\Temp\\ipykernel_3280\\2092130484.py\", line 14, in calc_money\n",
      "    analiz_sum += float(innit_num_add)\n",
      "                  ^^^^^^^^^^^^^^^^^^^^\n",
      "ValueError: could not convert string to float: ''\n",
      "Traceback (most recent call last):\n",
      "  File \"C:\\Users\\VAS-PC-IDE\\AppData\\Local\\Temp\\ipykernel_3280\\2092130484.py\", line 14, in calc_money\n",
      "    analiz_sum += float(innit_num_add)\n",
      "                  ^^^^^^^^^^^^^^^^^^^^\n",
      "ValueError: could not convert string to float: ''\n",
      "Traceback (most recent call last):\n",
      "  File \"C:\\Users\\VAS-PC-IDE\\AppData\\Local\\Temp\\ipykernel_3280\\2092130484.py\", line 14, in calc_money\n",
      "    analiz_sum += float(innit_num_add)\n",
      "                  ^^^^^^^^^^^^^^^^^^^^\n",
      "ValueError: could not convert string to float: ''\n",
      "Traceback (most recent call last):\n",
      "  File \"C:\\Users\\VAS-PC-IDE\\AppData\\Local\\Temp\\ipykernel_3280\\2092130484.py\", line 14, in calc_money\n",
      "    analiz_sum += float(innit_num_add)\n",
      "                  ^^^^^^^^^^^^^^^^^^^^\n",
      "ValueError: could not convert string to float: ''\n",
      "Traceback (most recent call last):\n",
      "  File \"C:\\Users\\VAS-PC-IDE\\AppData\\Local\\Temp\\ipykernel_3280\\2092130484.py\", line 14, in calc_money\n",
      "    analiz_sum += float(innit_num_add)\n",
      "                  ^^^^^^^^^^^^^^^^^^^^\n",
      "ValueError: could not convert string to float: ''\n",
      "Traceback (most recent call last):\n",
      "  File \"C:\\Users\\VAS-PC-IDE\\AppData\\Local\\Temp\\ipykernel_3280\\2092130484.py\", line 14, in calc_money\n",
      "    analiz_sum += float(innit_num_add)\n",
      "                  ^^^^^^^^^^^^^^^^^^^^\n",
      "ValueError: could not convert string to float: ''\n",
      "Traceback (most recent call last):\n",
      "  File \"C:\\Users\\VAS-PC-IDE\\AppData\\Local\\Temp\\ipykernel_3280\\2092130484.py\", line 14, in calc_money\n",
      "    analiz_sum += float(innit_num_add)\n",
      "                  ^^^^^^^^^^^^^^^^^^^^\n",
      "ValueError: could not convert string to float: ''\n",
      "Traceback (most recent call last):\n",
      "  File \"C:\\Users\\VAS-PC-IDE\\AppData\\Local\\Temp\\ipykernel_3280\\2092130484.py\", line 14, in calc_money\n",
      "    analiz_sum += float(innit_num_add)\n",
      "                  ^^^^^^^^^^^^^^^^^^^^\n",
      "ValueError: could not convert string to float: ''\n",
      "Traceback (most recent call last):\n",
      "  File \"C:\\Users\\VAS-PC-IDE\\AppData\\Local\\Temp\\ipykernel_3280\\2092130484.py\", line 14, in calc_money\n",
      "    analiz_sum += float(innit_num_add)\n",
      "                  ^^^^^^^^^^^^^^^^^^^^\n",
      "ValueError: could not convert string to float: ''\n",
      "Traceback (most recent call last):\n",
      "  File \"C:\\Users\\VAS-PC-IDE\\AppData\\Local\\Temp\\ipykernel_3280\\2092130484.py\", line 14, in calc_money\n",
      "    analiz_sum += float(innit_num_add)\n",
      "                  ^^^^^^^^^^^^^^^^^^^^\n",
      "ValueError: could not convert string to float: ''\n",
      "Traceback (most recent call last):\n",
      "  File \"C:\\Users\\VAS-PC-IDE\\AppData\\Local\\Temp\\ipykernel_3280\\2092130484.py\", line 14, in calc_money\n",
      "    analiz_sum += float(innit_num_add)\n",
      "                  ^^^^^^^^^^^^^^^^^^^^\n",
      "ValueError: could not convert string to float: ''\n",
      "Traceback (most recent call last):\n",
      "  File \"C:\\Users\\VAS-PC-IDE\\AppData\\Local\\Temp\\ipykernel_3280\\2092130484.py\", line 14, in calc_money\n",
      "    analiz_sum += float(innit_num_add)\n",
      "                  ^^^^^^^^^^^^^^^^^^^^\n",
      "ValueError: could not convert string to float: ''\n",
      "Traceback (most recent call last):\n",
      "  File \"C:\\Users\\VAS-PC-IDE\\AppData\\Local\\Temp\\ipykernel_3280\\2092130484.py\", line 14, in calc_money\n",
      "    analiz_sum += float(innit_num_add)\n",
      "                  ^^^^^^^^^^^^^^^^^^^^\n",
      "ValueError: could not convert string to float: ''\n",
      "Traceback (most recent call last):\n",
      "  File \"C:\\Users\\VAS-PC-IDE\\AppData\\Local\\Temp\\ipykernel_3280\\2092130484.py\", line 14, in calc_money\n",
      "    analiz_sum += float(innit_num_add)\n",
      "                  ^^^^^^^^^^^^^^^^^^^^\n",
      "ValueError: could not convert string to float: ''\n",
      "Traceback (most recent call last):\n",
      "  File \"C:\\Users\\VAS-PC-IDE\\AppData\\Local\\Temp\\ipykernel_3280\\2092130484.py\", line 14, in calc_money\n",
      "    analiz_sum += float(innit_num_add)\n",
      "                  ^^^^^^^^^^^^^^^^^^^^\n",
      "ValueError: could not convert string to float: ''\n",
      "Traceback (most recent call last):\n",
      "  File \"C:\\Users\\VAS-PC-IDE\\AppData\\Local\\Temp\\ipykernel_3280\\2092130484.py\", line 14, in calc_money\n",
      "    analiz_sum += float(innit_num_add)\n",
      "                  ^^^^^^^^^^^^^^^^^^^^\n",
      "ValueError: could not convert string to float: ''\n",
      "Traceback (most recent call last):\n",
      "  File \"C:\\Users\\VAS-PC-IDE\\AppData\\Local\\Temp\\ipykernel_3280\\2092130484.py\", line 14, in calc_money\n",
      "    analiz_sum += float(innit_num_add)\n",
      "                  ^^^^^^^^^^^^^^^^^^^^\n",
      "ValueError: could not convert string to float: ''\n",
      "Traceback (most recent call last):\n",
      "  File \"C:\\Users\\VAS-PC-IDE\\AppData\\Local\\Temp\\ipykernel_3280\\2092130484.py\", line 14, in calc_money\n",
      "    analiz_sum += float(innit_num_add)\n",
      "                  ^^^^^^^^^^^^^^^^^^^^\n",
      "ValueError: could not convert string to float: ''\n",
      "Traceback (most recent call last):\n",
      "  File \"C:\\Users\\VAS-PC-IDE\\AppData\\Local\\Temp\\ipykernel_3280\\2092130484.py\", line 14, in calc_money\n",
      "    analiz_sum += float(innit_num_add)\n",
      "                  ^^^^^^^^^^^^^^^^^^^^\n",
      "ValueError: could not convert string to float: ''\n",
      "Traceback (most recent call last):\n",
      "  File \"C:\\Users\\VAS-PC-IDE\\AppData\\Local\\Temp\\ipykernel_3280\\2092130484.py\", line 14, in calc_money\n",
      "    analiz_sum += float(innit_num_add)\n",
      "                  ^^^^^^^^^^^^^^^^^^^^\n",
      "ValueError: could not convert string to float: ''\n",
      "Traceback (most recent call last):\n",
      "  File \"C:\\Users\\VAS-PC-IDE\\AppData\\Local\\Temp\\ipykernel_3280\\2092130484.py\", line 14, in calc_money\n",
      "    analiz_sum += float(innit_num_add)\n",
      "                  ^^^^^^^^^^^^^^^^^^^^\n",
      "ValueError: could not convert string to float: ''\n",
      "Traceback (most recent call last):\n",
      "  File \"C:\\Users\\VAS-PC-IDE\\AppData\\Local\\Temp\\ipykernel_3280\\2092130484.py\", line 14, in calc_money\n",
      "    analiz_sum += float(innit_num_add)\n",
      "                  ^^^^^^^^^^^^^^^^^^^^\n",
      "ValueError: could not convert string to float: ''\n",
      "Traceback (most recent call last):\n",
      "  File \"C:\\Users\\VAS-PC-IDE\\AppData\\Local\\Temp\\ipykernel_3280\\2092130484.py\", line 14, in calc_money\n",
      "    analiz_sum += float(innit_num_add)\n",
      "                  ^^^^^^^^^^^^^^^^^^^^\n",
      "ValueError: could not convert string to float: ''\n",
      "Traceback (most recent call last):\n",
      "  File \"C:\\Users\\VAS-PC-IDE\\AppData\\Local\\Temp\\ipykernel_3280\\2092130484.py\", line 14, in calc_money\n",
      "    analiz_sum += float(innit_num_add)\n",
      "                  ^^^^^^^^^^^^^^^^^^^^\n",
      "ValueError: could not convert string to float: ''\n",
      "Traceback (most recent call last):\n",
      "  File \"C:\\Users\\VAS-PC-IDE\\AppData\\Local\\Temp\\ipykernel_3280\\2092130484.py\", line 14, in calc_money\n",
      "    analiz_sum += float(innit_num_add)\n",
      "                  ^^^^^^^^^^^^^^^^^^^^\n",
      "ValueError: could not convert string to float: ''\n",
      "Traceback (most recent call last):\n",
      "  File \"C:\\Users\\VAS-PC-IDE\\AppData\\Local\\Temp\\ipykernel_3280\\2092130484.py\", line 14, in calc_money\n",
      "    analiz_sum += float(innit_num_add)\n",
      "                  ^^^^^^^^^^^^^^^^^^^^\n",
      "ValueError: could not convert string to float: ''\n",
      "Traceback (most recent call last):\n",
      "  File \"C:\\Users\\VAS-PC-IDE\\AppData\\Local\\Temp\\ipykernel_3280\\2092130484.py\", line 14, in calc_money\n",
      "    analiz_sum += float(innit_num_add)\n",
      "                  ^^^^^^^^^^^^^^^^^^^^\n",
      "ValueError: could not convert string to float: ''\n",
      "Traceback (most recent call last):\n",
      "  File \"C:\\Users\\VAS-PC-IDE\\AppData\\Local\\Temp\\ipykernel_3280\\2092130484.py\", line 14, in calc_money\n",
      "    analiz_sum += float(innit_num_add)\n",
      "                  ^^^^^^^^^^^^^^^^^^^^\n",
      "ValueError: could not convert string to float: ''\n",
      "Traceback (most recent call last):\n",
      "  File \"C:\\Users\\VAS-PC-IDE\\AppData\\Local\\Temp\\ipykernel_3280\\2092130484.py\", line 14, in calc_money\n",
      "    analiz_sum += float(innit_num_add)\n",
      "                  ^^^^^^^^^^^^^^^^^^^^\n",
      "ValueError: could not convert string to float: ''\n",
      "Traceback (most recent call last):\n",
      "  File \"C:\\Users\\VAS-PC-IDE\\AppData\\Local\\Temp\\ipykernel_3280\\2092130484.py\", line 14, in calc_money\n",
      "    analiz_sum += float(innit_num_add)\n",
      "                  ^^^^^^^^^^^^^^^^^^^^\n",
      "ValueError: could not convert string to float: ''\n",
      "Traceback (most recent call last):\n",
      "  File \"C:\\Users\\VAS-PC-IDE\\AppData\\Local\\Temp\\ipykernel_3280\\2092130484.py\", line 14, in calc_money\n",
      "    analiz_sum += float(innit_num_add)\n",
      "                  ^^^^^^^^^^^^^^^^^^^^\n",
      "ValueError: could not convert string to float: ''\n",
      "Traceback (most recent call last):\n",
      "  File \"C:\\Users\\VAS-PC-IDE\\AppData\\Local\\Temp\\ipykernel_3280\\2092130484.py\", line 14, in calc_money\n",
      "    analiz_sum += float(innit_num_add)\n",
      "                  ^^^^^^^^^^^^^^^^^^^^\n",
      "ValueError: could not convert string to float: ''\n",
      "Traceback (most recent call last):\n",
      "  File \"C:\\Users\\VAS-PC-IDE\\AppData\\Local\\Temp\\ipykernel_3280\\2092130484.py\", line 14, in calc_money\n",
      "    analiz_sum += float(innit_num_add)\n",
      "                  ^^^^^^^^^^^^^^^^^^^^\n",
      "ValueError: could not convert string to float: ''\n",
      "Traceback (most recent call last):\n",
      "  File \"C:\\Users\\VAS-PC-IDE\\AppData\\Local\\Temp\\ipykernel_3280\\2092130484.py\", line 14, in calc_money\n",
      "    analiz_sum += float(innit_num_add)\n",
      "                  ^^^^^^^^^^^^^^^^^^^^\n",
      "ValueError: could not convert string to float: ''\n",
      "Traceback (most recent call last):\n",
      "  File \"C:\\Users\\VAS-PC-IDE\\AppData\\Local\\Temp\\ipykernel_3280\\2092130484.py\", line 14, in calc_money\n",
      "    analiz_sum += float(innit_num_add)\n",
      "                  ^^^^^^^^^^^^^^^^^^^^\n",
      "ValueError: could not convert string to float: ''\n",
      "Traceback (most recent call last):\n",
      "  File \"C:\\Users\\VAS-PC-IDE\\AppData\\Local\\Temp\\ipykernel_3280\\2092130484.py\", line 14, in calc_money\n",
      "    analiz_sum += float(innit_num_add)\n",
      "                  ^^^^^^^^^^^^^^^^^^^^\n",
      "ValueError: could not convert string to float: ''\n",
      "Traceback (most recent call last):\n",
      "  File \"C:\\Users\\VAS-PC-IDE\\AppData\\Local\\Temp\\ipykernel_3280\\2092130484.py\", line 14, in calc_money\n",
      "    analiz_sum += float(innit_num_add)\n",
      "                  ^^^^^^^^^^^^^^^^^^^^\n",
      "ValueError: could not convert string to float: ''\n",
      "Traceback (most recent call last):\n",
      "  File \"C:\\Users\\VAS-PC-IDE\\AppData\\Local\\Temp\\ipykernel_3280\\2092130484.py\", line 14, in calc_money\n",
      "    analiz_sum += float(innit_num_add)\n",
      "                  ^^^^^^^^^^^^^^^^^^^^\n",
      "ValueError: could not convert string to float: ''\n",
      "Traceback (most recent call last):\n",
      "  File \"C:\\Users\\VAS-PC-IDE\\AppData\\Local\\Temp\\ipykernel_3280\\2092130484.py\", line 14, in calc_money\n",
      "    analiz_sum += float(innit_num_add)\n",
      "                  ^^^^^^^^^^^^^^^^^^^^\n",
      "ValueError: could not convert string to float: ''\n",
      "Traceback (most recent call last):\n",
      "  File \"C:\\Users\\VAS-PC-IDE\\AppData\\Local\\Temp\\ipykernel_3280\\2092130484.py\", line 14, in calc_money\n",
      "    analiz_sum += float(innit_num_add)\n",
      "                  ^^^^^^^^^^^^^^^^^^^^\n",
      "ValueError: could not convert string to float: ''\n",
      "Traceback (most recent call last):\n",
      "  File \"C:\\Users\\VAS-PC-IDE\\AppData\\Local\\Temp\\ipykernel_3280\\2092130484.py\", line 14, in calc_money\n",
      "    analiz_sum += float(innit_num_add)\n",
      "                  ^^^^^^^^^^^^^^^^^^^^\n",
      "ValueError: could not convert string to float: ''\n",
      "Traceback (most recent call last):\n",
      "  File \"C:\\Users\\VAS-PC-IDE\\AppData\\Local\\Temp\\ipykernel_3280\\2092130484.py\", line 14, in calc_money\n",
      "    analiz_sum += float(innit_num_add)\n",
      "                  ^^^^^^^^^^^^^^^^^^^^\n",
      "ValueError: could not convert string to float: ''\n",
      "Traceback (most recent call last):\n",
      "  File \"C:\\Users\\VAS-PC-IDE\\AppData\\Local\\Temp\\ipykernel_3280\\2092130484.py\", line 14, in calc_money\n",
      "    analiz_sum += float(innit_num_add)\n",
      "                  ^^^^^^^^^^^^^^^^^^^^\n",
      "ValueError: could not convert string to float: ''\n",
      "Traceback (most recent call last):\n",
      "  File \"C:\\Users\\VAS-PC-IDE\\AppData\\Local\\Temp\\ipykernel_3280\\2092130484.py\", line 14, in calc_money\n",
      "    analiz_sum += float(innit_num_add)\n",
      "                  ^^^^^^^^^^^^^^^^^^^^\n",
      "ValueError: could not convert string to float: ''\n",
      "Traceback (most recent call last):\n",
      "  File \"C:\\Users\\VAS-PC-IDE\\AppData\\Local\\Temp\\ipykernel_3280\\2092130484.py\", line 14, in calc_money\n",
      "    analiz_sum += float(innit_num_add)\n",
      "                  ^^^^^^^^^^^^^^^^^^^^\n",
      "ValueError: could not convert string to float: ''\n",
      "Traceback (most recent call last):\n",
      "  File \"C:\\Users\\VAS-PC-IDE\\AppData\\Local\\Temp\\ipykernel_3280\\2092130484.py\", line 14, in calc_money\n",
      "    analiz_sum += float(innit_num_add)\n",
      "                  ^^^^^^^^^^^^^^^^^^^^\n",
      "ValueError: could not convert string to float: ''\n",
      "Traceback (most recent call last):\n",
      "  File \"C:\\Users\\VAS-PC-IDE\\AppData\\Local\\Temp\\ipykernel_3280\\2092130484.py\", line 14, in calc_money\n",
      "    analiz_sum += float(innit_num_add)\n",
      "                  ^^^^^^^^^^^^^^^^^^^^\n",
      "ValueError: could not convert string to float: ''\n",
      "Traceback (most recent call last):\n",
      "  File \"C:\\Users\\VAS-PC-IDE\\AppData\\Local\\Temp\\ipykernel_3280\\2092130484.py\", line 14, in calc_money\n",
      "    analiz_sum += float(innit_num_add)\n",
      "                  ^^^^^^^^^^^^^^^^^^^^\n",
      "ValueError: could not convert string to float: ''\n",
      "Traceback (most recent call last):\n",
      "  File \"C:\\Users\\VAS-PC-IDE\\AppData\\Local\\Temp\\ipykernel_3280\\2092130484.py\", line 14, in calc_money\n",
      "    analiz_sum += float(innit_num_add)\n",
      "                  ^^^^^^^^^^^^^^^^^^^^\n",
      "ValueError: could not convert string to float: ''\n",
      "Traceback (most recent call last):\n",
      "  File \"C:\\Users\\VAS-PC-IDE\\AppData\\Local\\Temp\\ipykernel_3280\\2092130484.py\", line 14, in calc_money\n",
      "    analiz_sum += float(innit_num_add)\n",
      "                  ^^^^^^^^^^^^^^^^^^^^\n",
      "ValueError: could not convert string to float: ''\n",
      "Traceback (most recent call last):\n",
      "  File \"C:\\Users\\VAS-PC-IDE\\AppData\\Local\\Temp\\ipykernel_3280\\2092130484.py\", line 14, in calc_money\n",
      "    analiz_sum += float(innit_num_add)\n",
      "                  ^^^^^^^^^^^^^^^^^^^^\n",
      "ValueError: could not convert string to float: ''\n",
      "Traceback (most recent call last):\n",
      "  File \"C:\\Users\\VAS-PC-IDE\\AppData\\Local\\Temp\\ipykernel_3280\\2092130484.py\", line 14, in calc_money\n",
      "    analiz_sum += float(innit_num_add)\n",
      "                  ^^^^^^^^^^^^^^^^^^^^\n",
      "ValueError: could not convert string to float: ''\n",
      "Traceback (most recent call last):\n",
      "  File \"C:\\Users\\VAS-PC-IDE\\AppData\\Local\\Temp\\ipykernel_3280\\2092130484.py\", line 14, in calc_money\n",
      "    analiz_sum += float(innit_num_add)\n",
      "                  ^^^^^^^^^^^^^^^^^^^^\n",
      "ValueError: could not convert string to float: ''\n",
      "Traceback (most recent call last):\n",
      "  File \"C:\\Users\\VAS-PC-IDE\\AppData\\Local\\Temp\\ipykernel_3280\\2092130484.py\", line 14, in calc_money\n",
      "    analiz_sum += float(innit_num_add)\n",
      "                  ^^^^^^^^^^^^^^^^^^^^\n",
      "ValueError: could not convert string to float: ''\n",
      "Traceback (most recent call last):\n",
      "  File \"C:\\Users\\VAS-PC-IDE\\AppData\\Local\\Temp\\ipykernel_3280\\2092130484.py\", line 14, in calc_money\n",
      "    analiz_sum += float(innit_num_add)\n",
      "                  ^^^^^^^^^^^^^^^^^^^^\n",
      "ValueError: could not convert string to float: ''\n",
      "Traceback (most recent call last):\n",
      "  File \"C:\\Users\\VAS-PC-IDE\\AppData\\Local\\Temp\\ipykernel_3280\\2092130484.py\", line 14, in calc_money\n",
      "    analiz_sum += float(innit_num_add)\n",
      "                  ^^^^^^^^^^^^^^^^^^^^\n",
      "ValueError: could not convert string to float: ''\n",
      "Traceback (most recent call last):\n",
      "  File \"C:\\Users\\VAS-PC-IDE\\AppData\\Local\\Temp\\ipykernel_3280\\2092130484.py\", line 14, in calc_money\n",
      "    analiz_sum += float(innit_num_add)\n",
      "                  ^^^^^^^^^^^^^^^^^^^^\n",
      "ValueError: could not convert string to float: ''\n",
      "Traceback (most recent call last):\n",
      "  File \"C:\\Users\\VAS-PC-IDE\\AppData\\Local\\Temp\\ipykernel_3280\\2092130484.py\", line 14, in calc_money\n",
      "    analiz_sum += float(innit_num_add)\n",
      "                  ^^^^^^^^^^^^^^^^^^^^\n",
      "ValueError: could not convert string to float: ''\n",
      "Traceback (most recent call last):\n",
      "  File \"C:\\Users\\VAS-PC-IDE\\AppData\\Local\\Temp\\ipykernel_3280\\2092130484.py\", line 14, in calc_money\n",
      "    analiz_sum += float(innit_num_add)\n",
      "                  ^^^^^^^^^^^^^^^^^^^^\n",
      "ValueError: could not convert string to float: ''\n",
      "Traceback (most recent call last):\n",
      "  File \"C:\\Users\\VAS-PC-IDE\\AppData\\Local\\Temp\\ipykernel_3280\\2092130484.py\", line 14, in calc_money\n",
      "    analiz_sum += float(innit_num_add)\n",
      "                  ^^^^^^^^^^^^^^^^^^^^\n",
      "ValueError: could not convert string to float: ''\n",
      "Traceback (most recent call last):\n",
      "  File \"C:\\Users\\VAS-PC-IDE\\AppData\\Local\\Temp\\ipykernel_3280\\2092130484.py\", line 14, in calc_money\n",
      "    analiz_sum += float(innit_num_add)\n",
      "                  ^^^^^^^^^^^^^^^^^^^^\n",
      "ValueError: could not convert string to float: ''\n",
      "Traceback (most recent call last):\n",
      "  File \"C:\\Users\\VAS-PC-IDE\\AppData\\Local\\Temp\\ipykernel_3280\\2092130484.py\", line 14, in calc_money\n",
      "    analiz_sum += float(innit_num_add)\n",
      "                  ^^^^^^^^^^^^^^^^^^^^\n",
      "ValueError: could not convert string to float: ''\n",
      "Traceback (most recent call last):\n",
      "  File \"C:\\Users\\VAS-PC-IDE\\AppData\\Local\\Temp\\ipykernel_3280\\2092130484.py\", line 14, in calc_money\n",
      "    analiz_sum += float(innit_num_add)\n",
      "                  ^^^^^^^^^^^^^^^^^^^^\n",
      "ValueError: could not convert string to float: ''\n",
      "Traceback (most recent call last):\n",
      "  File \"C:\\Users\\VAS-PC-IDE\\AppData\\Local\\Temp\\ipykernel_3280\\2092130484.py\", line 14, in calc_money\n",
      "    analiz_sum += float(innit_num_add)\n",
      "                  ^^^^^^^^^^^^^^^^^^^^\n",
      "ValueError: could not convert string to float: ''\n",
      "Traceback (most recent call last):\n",
      "  File \"C:\\Users\\VAS-PC-IDE\\AppData\\Local\\Temp\\ipykernel_3280\\2092130484.py\", line 14, in calc_money\n",
      "    analiz_sum += float(innit_num_add)\n",
      "                  ^^^^^^^^^^^^^^^^^^^^\n",
      "ValueError: could not convert string to float: ''\n",
      "Traceback (most recent call last):\n",
      "  File \"C:\\Users\\VAS-PC-IDE\\AppData\\Local\\Temp\\ipykernel_3280\\2092130484.py\", line 14, in calc_money\n",
      "    analiz_sum += float(innit_num_add)\n",
      "                  ^^^^^^^^^^^^^^^^^^^^\n",
      "ValueError: could not convert string to float: ''\n",
      "Traceback (most recent call last):\n",
      "  File \"C:\\Users\\VAS-PC-IDE\\AppData\\Local\\Temp\\ipykernel_3280\\2092130484.py\", line 14, in calc_money\n",
      "    analiz_sum += float(innit_num_add)\n",
      "                  ^^^^^^^^^^^^^^^^^^^^\n",
      "ValueError: could not convert string to float: ''\n",
      "Traceback (most recent call last):\n",
      "  File \"C:\\Users\\VAS-PC-IDE\\AppData\\Local\\Temp\\ipykernel_3280\\2092130484.py\", line 14, in calc_money\n",
      "    analiz_sum += float(innit_num_add)\n",
      "                  ^^^^^^^^^^^^^^^^^^^^\n",
      "ValueError: could not convert string to float: ''\n",
      "Traceback (most recent call last):\n",
      "  File \"C:\\Users\\VAS-PC-IDE\\AppData\\Local\\Temp\\ipykernel_3280\\2092130484.py\", line 14, in calc_money\n",
      "    analiz_sum += float(innit_num_add)\n",
      "                  ^^^^^^^^^^^^^^^^^^^^\n",
      "ValueError: could not convert string to float: ''\n",
      "Traceback (most recent call last):\n",
      "  File \"C:\\Users\\VAS-PC-IDE\\AppData\\Local\\Temp\\ipykernel_3280\\2092130484.py\", line 14, in calc_money\n",
      "    analiz_sum += float(innit_num_add)\n",
      "                  ^^^^^^^^^^^^^^^^^^^^\n",
      "ValueError: could not convert string to float: ''\n",
      "Traceback (most recent call last):\n",
      "  File \"C:\\Users\\VAS-PC-IDE\\AppData\\Local\\Temp\\ipykernel_3280\\2092130484.py\", line 14, in calc_money\n",
      "    analiz_sum += float(innit_num_add)\n",
      "                  ^^^^^^^^^^^^^^^^^^^^\n",
      "ValueError: could not convert string to float: ''\n",
      "Traceback (most recent call last):\n",
      "  File \"C:\\Users\\VAS-PC-IDE\\AppData\\Local\\Temp\\ipykernel_3280\\2092130484.py\", line 14, in calc_money\n",
      "    analiz_sum += float(innit_num_add)\n",
      "                  ^^^^^^^^^^^^^^^^^^^^\n",
      "ValueError: could not convert string to float: ''\n",
      "Traceback (most recent call last):\n",
      "  File \"C:\\Users\\VAS-PC-IDE\\AppData\\Local\\Temp\\ipykernel_3280\\2092130484.py\", line 14, in calc_money\n",
      "    analiz_sum += float(innit_num_add)\n",
      "                  ^^^^^^^^^^^^^^^^^^^^\n",
      "ValueError: could not convert string to float: ''\n"
     ]
    }
   ],
   "source": [
    "import json\n",
    "import traceback\n",
    "\n",
    "\n",
    "def calc_money():\n",
    "    analiz_sum = 0\n",
    "    with open('real_data.txt', 'r') as file:\n",
    "        for line in file:\n",
    "            line_upd = line.split(\" \")\n",
    "            line_upd_add = line_upd[1].split(\"\\t\")\n",
    "            innit_num = (line_upd_add[2][:-1])\n",
    "            try:\n",
    "                innit_num_add = innit_num.replace(\",\", \".\")\n",
    "                analiz_sum += float(innit_num_add)\n",
    "            except:\n",
    "                print(traceback.print_exc())\n",
    "    print(analiz_sum)\n",
    "calc_money()\n",
    "\n",
    "\n",
    "\n",
    "\n"
   ]
  },
  {
   "cell_type": "code",
   "execution_count": null,
   "metadata": {},
   "outputs": [],
   "source": []
  },
  {
   "cell_type": "code",
   "execution_count": null,
   "metadata": {},
   "outputs": [],
   "source": []
  },
  {
   "cell_type": "markdown",
   "metadata": {},
   "source": [
    "# Даты"
   ]
  },
  {
   "cell_type": "code",
   "execution_count": null,
   "metadata": {},
   "outputs": [],
   "source": [
    "# иногда импортируют так\n",
    "import datetime"
   ]
  },
  {
   "cell_type": "code",
   "execution_count": null,
   "metadata": {},
   "outputs": [],
   "source": [
    "# можно и так\n",
    "import datetime as dt"
   ]
  },
  {
   "cell_type": "code",
   "execution_count": null,
   "metadata": {},
   "outputs": [],
   "source": [
    "# у нас будет вариант покороче (но это не одно и то же)\n",
    "from datetime import datetime"
   ]
  },
  {
   "cell_type": "code",
   "execution_count": null,
   "metadata": {},
   "outputs": [],
   "source": [
    "date_string = '09.05.2018  09:00'"
   ]
  },
  {
   "cell_type": "code",
   "execution_count": null,
   "metadata": {},
   "outputs": [],
   "source": [
    "# сейчас date_string это просто строка\n",
    "type(date_string)"
   ]
  },
  {
   "cell_type": "code",
   "execution_count": null,
   "metadata": {},
   "outputs": [],
   "source": [
    "datetime.strptime('09.05.2018 09:00', '%d.%m.%Y %H:%M')"
   ]
  },
  {
   "cell_type": "code",
   "execution_count": null,
   "metadata": {},
   "outputs": [],
   "source": [
    "# https://docs.python.org/3/library/datetime.html\n",
    "\n",
    "date_datetime = datetime.strptime( date_string, '%d.%m.%Y %H:%M' )\n",
    "date_datetime"
   ]
  },
  {
   "cell_type": "code",
   "execution_count": null,
   "metadata": {},
   "outputs": [],
   "source": [
    "# теперь можем работать с датами\n",
    "type(date_datetime)"
   ]
  },
  {
   "cell_type": "code",
   "execution_count": null,
   "metadata": {},
   "outputs": [],
   "source": [
    "# получить номер года и часа\n",
    "date_datetime.year, date_datetime.hour"
   ]
  },
  {
   "cell_type": "code",
   "execution_count": null,
   "metadata": {},
   "outputs": [],
   "source": [
    "# день недели\n",
    "date_datetime.weekday()"
   ]
  },
  {
   "cell_type": "code",
   "execution_count": null,
   "metadata": {},
   "outputs": [],
   "source": [
    "# сегодня\n",
    "datetime.now()"
   ]
  },
  {
   "cell_type": "markdown",
   "metadata": {},
   "source": [
    "### Упражнение\n",
    "С помощью метода datetime.strptime переведите строку 'May 25 2017 5:00AM' в формат datetime."
   ]
  },
  {
   "cell_type": "code",
   "execution_count": 13,
   "metadata": {},
   "outputs": [
    {
     "name": "stdout",
     "output_type": "stream",
     "text": [
      "<class 'datetime.datetime'>\n",
      "2017\n",
      "5\n",
      "3\n",
      "2023-02-19 14:56:38.586772\n"
     ]
    }
   ],
   "source": [
    "from datetime import datetime, timedelta\n",
    "date_string = \"May 25 2017 5:00AM\"\n",
    "date_datetime = datetime.strptime(date_string, \"%b %d %Y %I:%M%p\" )\n",
    "\n",
    "\n",
    "print(type(date_datetime))\n",
    "print(date_datetime.year)\n",
    "print(date_datetime.hour)\n",
    "print(date_datetime.weekday())\n",
    "print(datetime.now())"
   ]
  },
  {
   "cell_type": "code",
   "execution_count": null,
   "metadata": {},
   "outputs": [],
   "source": []
  },
  {
   "cell_type": "markdown",
   "metadata": {},
   "source": [
    "### Прибавление интервала к датам"
   ]
  },
  {
   "cell_type": "code",
   "execution_count": 8,
   "metadata": {},
   "outputs": [],
   "source": [
    "from datetime import timedelta"
   ]
  },
  {
   "cell_type": "code",
   "execution_count": 7,
   "metadata": {},
   "outputs": [],
   "source": [
    "start_date = '2018-01-01'\n",
    "end_date = '2018-01-07'"
   ]
  },
  {
   "cell_type": "code",
   "execution_count": 6,
   "metadata": {},
   "outputs": [
    {
     "data": {
      "text/plain": "str"
     },
     "execution_count": 6,
     "metadata": {},
     "output_type": "execute_result"
    }
   ],
   "source": [
    "type(start_date)\n"
   ]
  },
  {
   "cell_type": "code",
   "execution_count": 14,
   "metadata": {},
   "outputs": [
    {
     "data": {
      "text/plain": "datetime.datetime(2018, 1, 1, 0, 0)"
     },
     "execution_count": 14,
     "metadata": {},
     "output_type": "execute_result"
    }
   ],
   "source": [
    "start_date_datetime = datetime.strptime(start_date, '%Y-%m-%d')\n",
    "start_date_datetime"
   ]
  },
  {
   "cell_type": "code",
   "execution_count": 15,
   "metadata": {},
   "outputs": [
    {
     "data": {
      "text/plain": "datetime.datetime(2018, 1, 2, 0, 0)"
     },
     "execution_count": 15,
     "metadata": {},
     "output_type": "execute_result"
    }
   ],
   "source": [
    "start_date_datetime + timedelta(days=1)"
   ]
  },
  {
   "cell_type": "code",
   "execution_count": 10,
   "metadata": {},
   "outputs": [
    {
     "data": {
      "text/plain": "datetime.datetime(2017, 12, 24, 23, 59)"
     },
     "execution_count": 10,
     "metadata": {},
     "output_type": "execute_result"
    }
   ],
   "source": [
    "start_date_datetime + timedelta(days=-7, minutes=-1)"
   ]
  },
  {
   "cell_type": "markdown",
   "metadata": {},
   "source": [
    "### Упражнение\n",
    "Дана дата в формате '2018-09-01T09:30:00'. Прибавьте к ней 12 часов 15минут и 3 секунды."
   ]
  },
  {
   "cell_type": "code",
   "execution_count": 9,
   "metadata": {},
   "outputs": [
    {
     "ename": "NameError",
     "evalue": "name 'datetime' is not defined",
     "output_type": "error",
     "traceback": [
      "\u001B[1;31m---------------------------------------------------------------------------\u001B[0m",
      "\u001B[1;31mNameError\u001B[0m                                 Traceback (most recent call last)",
      "Cell \u001B[1;32mIn[9], line 2\u001B[0m\n\u001B[0;32m      1\u001B[0m date_inf \u001B[38;5;241m=\u001B[39m \u001B[38;5;124m'\u001B[39m\u001B[38;5;124m2018-09-01T09:30:00\u001B[39m\u001B[38;5;124m'\u001B[39m\n\u001B[1;32m----> 2\u001B[0m start_date_inf \u001B[38;5;241m=\u001B[39m \u001B[43mdatetime\u001B[49m\u001B[38;5;241m.\u001B[39mstrptime(date_inf, \u001B[38;5;124m'\u001B[39m\u001B[38;5;124m%\u001B[39m\u001B[38;5;124mY-\u001B[39m\u001B[38;5;124m%\u001B[39m\u001B[38;5;124mm-\u001B[39m\u001B[38;5;132;01m%d\u001B[39;00m\u001B[38;5;124mT\u001B[39m\u001B[38;5;124m%\u001B[39m\u001B[38;5;124mH:\u001B[39m\u001B[38;5;124m%\u001B[39m\u001B[38;5;124mM:\u001B[39m\u001B[38;5;124m%\u001B[39m\u001B[38;5;124mS\u001B[39m\u001B[38;5;124m'\u001B[39m)\n\u001B[0;32m      3\u001B[0m \u001B[38;5;28mprint\u001B[39m(\u001B[38;5;124mf\u001B[39m\u001B[38;5;124m\"\u001B[39m\u001B[38;5;132;01m{\u001B[39;00mstart_date_inf\u001B[38;5;132;01m}\u001B[39;00m\u001B[38;5;124m\"\u001B[39m)\n\u001B[0;32m      4\u001B[0m delta_time \u001B[38;5;241m=\u001B[39m start_date_inf \u001B[38;5;241m+\u001B[39m timedelta(hours\u001B[38;5;241m=\u001B[39m\u001B[38;5;241m12\u001B[39m, minutes\u001B[38;5;241m=\u001B[39m\u001B[38;5;241m15\u001B[39m, seconds\u001B[38;5;241m=\u001B[39m\u001B[38;5;241m3\u001B[39m)\n",
      "\u001B[1;31mNameError\u001B[0m: name 'datetime' is not defined"
     ]
    }
   ],
   "source": [
    "from datetime import datetime, timedelta\n",
    "\n",
    "date_inf = '2018-09-01T09:30:00'\n",
    "start_date_inf = datetime.strptime(date_inf, '%Y-%m-%dT%H:%M:%S')\n",
    "print(f\"{start_date_inf}\")\n",
    "delta_time = start_date_inf + timedelta(hours=12, minutes=15, seconds=3)\n",
    "print(f\"{delta_time}\")"
   ]
  },
  {
   "cell_type": "code",
   "execution_count": null,
   "metadata": {},
   "outputs": [],
   "source": []
  },
  {
   "cell_type": "code",
   "execution_count": null,
   "metadata": {},
   "outputs": [],
   "source": []
  },
  {
   "cell_type": "markdown",
   "metadata": {},
   "source": [
    "### Перевод обратно в строку"
   ]
  },
  {
   "cell_type": "code",
   "execution_count": 17,
   "metadata": {},
   "outputs": [
    {
     "data": {
      "text/plain": "datetime.datetime(2018, 9, 1, 0, 0)"
     },
     "execution_count": 17,
     "metadata": {},
     "output_type": "execute_result"
    }
   ],
   "source": [
    "date = datetime(2018, 9, 1)\n",
    "date"
   ]
  },
  {
   "cell_type": "code",
   "execution_count": 18,
   "metadata": {},
   "outputs": [
    {
     "data": {
      "text/plain": "'2018-09-01'"
     },
     "execution_count": 18,
     "metadata": {},
     "output_type": "execute_result"
    }
   ],
   "source": [
    "date.strftime('%Y-%m-%d')"
   ]
  },
  {
   "cell_type": "code",
   "execution_count": 19,
   "metadata": {
    "scrolled": false
   },
   "outputs": [
    {
     "data": {
      "text/plain": "'September 01 2018 12:00AM'"
     },
     "execution_count": 19,
     "metadata": {},
     "output_type": "execute_result"
    }
   ],
   "source": [
    "date.strftime('%B %d %Y %I:%M%p')"
   ]
  },
  {
   "cell_type": "code",
   "execution_count": 20,
   "metadata": {},
   "outputs": [
    {
     "data": {
      "text/plain": "'2023-02-01'"
     },
     "execution_count": 20,
     "metadata": {},
     "output_type": "execute_result"
    }
   ],
   "source": [
    "datetime.now().strftime('%Y-%m-01')"
   ]
  },
  {
   "cell_type": "code",
   "execution_count": 16,
   "metadata": {},
   "outputs": [
    {
     "ename": "NameError",
     "evalue": "name 'date' is not defined",
     "output_type": "error",
     "traceback": [
      "\u001B[1;31m---------------------------------------------------------------------------\u001B[0m",
      "\u001B[1;31mNameError\u001B[0m                                 Traceback (most recent call last)",
      "Cell \u001B[1;32mIn[16], line 3\u001B[0m\n\u001B[0;32m      1\u001B[0m \u001B[38;5;66;03m# как получить первый день месяца\u001B[39;00m\n\u001B[1;32m----> 3\u001B[0m \u001B[43mdate\u001B[49m\u001B[38;5;241m.\u001B[39mstrftime(\u001B[38;5;124m'\u001B[39m\u001B[38;5;124m%\u001B[39m\u001B[38;5;124mY-\u001B[39m\u001B[38;5;124m%\u001B[39m\u001B[38;5;124mm-01\u001B[39m\u001B[38;5;124m'\u001B[39m)\n",
      "\u001B[1;31mNameError\u001B[0m: name 'date' is not defined"
     ]
    }
   ],
   "source": [
    "# как получить первый день месяца\n",
    "\n",
    "date.strftime('%Y-%m-01')\n"
   ]
  },
  {
   "cell_type": "code",
   "execution_count": 11,
   "metadata": {},
   "outputs": [],
   "source": [
    "start_date = '2018-01-01'\n",
    "end_date = '2018-01-07'"
   ]
  },
  {
   "cell_type": "code",
   "execution_count": 12,
   "metadata": {},
   "outputs": [
    {
     "data": {
      "text/plain": "('2018-01-01', '2018-01-07')"
     },
     "execution_count": 12,
     "metadata": {},
     "output_type": "execute_result"
    }
   ],
   "source": [
    "start_date, end_date"
   ]
  },
  {
   "cell_type": "code",
   "execution_count": 22,
   "metadata": {},
   "outputs": [
    {
     "name": "stdout",
     "output_type": "stream",
     "text": [
      "2018-01-01 00:00:00 2018-01-07 00:00:00\n"
     ]
    }
   ],
   "source": [
    "\n",
    "start_date = '2018-01-01'\n",
    "end_date = '2018-01-07'\n",
    "start_date_dt = datetime.strptime(start_date, '%Y-%m-%d')\n",
    "end_date_dt = datetime.strptime(end_date, '%Y-%m-%d')\n",
    "\n",
    "print(start_date_dt, end_date_dt)"
   ]
  },
  {
   "cell_type": "code",
   "execution_count": 18,
   "metadata": {},
   "outputs": [
    {
     "name": "stdout",
     "output_type": "stream",
     "text": [
      "1\n",
      "2\n",
      "3\n",
      "4\n",
      "5\n",
      "6\n",
      "7\n",
      "8\n",
      "9\n",
      "10\n"
     ]
    }
   ],
   "source": [
    "i = 0\n",
    "\n",
    "while i < 10:\n",
    "    # ...\n",
    "    i += 1\n",
    "    print(i)"
   ]
  },
  {
   "cell_type": "code",
   "execution_count": 19,
   "metadata": {
    "scrolled": true
   },
   "outputs": [
    {
     "name": "stdout",
     "output_type": "stream",
     "text": [
      "2018-01-01\n",
      "2018-01-02\n",
      "2018-01-03\n",
      "2018-01-04\n",
      "2018-01-05\n",
      "2018-01-06\n",
      "2018-01-07\n"
     ]
    }
   ],
   "source": [
    "current_dt = start_date_dt\n",
    "\n",
    "while current_dt <= end_date_dt:\n",
    "    print(current_dt.strftime('%Y-%m-%d'))\n",
    "    \n",
    "    current_dt += timedelta(days=1)"
   ]
  },
  {
   "cell_type": "code",
   "execution_count": 37,
   "metadata": {},
   "outputs": [
    {
     "name": "stdout",
     "output_type": "stream",
     "text": [
      "2018-09-01\n",
      "2018-09-02\n",
      "2018-09-03\n",
      "2018-09-04\n",
      "2018-09-05\n",
      "2018-09-06\n",
      "2018-09-07\n"
     ]
    }
   ],
   "source": [
    "current_dt = start_date_dt\n",
    "\n",
    "while current_dt.strftime('%Y-%m-%d') <= end_date:\n",
    "    print(current_dt.strftime('%Y-%m-%d'))\n",
    "    \n",
    "    current_dt += timedelta(days=1)"
   ]
  },
  {
   "cell_type": "code",
   "execution_count": 35,
   "metadata": {},
   "outputs": [
    {
     "data": {
      "text/plain": "['2018-09-01',\n '2018-09-02',\n '2018-09-03',\n '2018-09-04',\n '2018-09-05',\n '2018-09-06',\n '2018-09-07',\n '2018-09-08',\n '2018-09-09',\n '2018-09-10']"
     },
     "execution_count": 35,
     "metadata": {},
     "output_type": "execute_result"
    }
   ],
   "source": [
    "# можно и с помощью list comprehension\n",
    "[(start_date_dt + timedelta(days=x)).strftime('%Y-%m-%d') for x in range(10)]"
   ]
  },
  {
   "cell_type": "markdown",
   "metadata": {},
   "source": [
    "### Упражнение\n",
    "Напишите алгоритм, который \"пробегает\" период 1 до 7 сентября по часам. Формат вывода '06.01.2018 23:00:00'."
   ]
  },
  {
   "cell_type": "code",
   "execution_count": 56,
   "metadata": {},
   "outputs": [
    {
     "name": "stdout",
     "output_type": "stream",
     "text": [
      "2018-09-01 00:00:00 2018-09-07 00:00:00\n"
     ]
    },
    {
     "data": {
      "text/plain": "['2018-09-01 T:00:00:00',\n '2018-09-01 T:01:00:00',\n '2018-09-01 T:02:00:00',\n '2018-09-01 T:03:00:00',\n '2018-09-01 T:04:00:00',\n '2018-09-01 T:05:00:00',\n '2018-09-01 T:06:00:00',\n '2018-09-01 T:07:00:00',\n '2018-09-01 T:08:00:00',\n '2018-09-01 T:09:00:00',\n '2018-09-01 T:10:00:00',\n '2018-09-01 T:11:00:00',\n '2018-09-01 T:12:00:00',\n '2018-09-01 T:13:00:00',\n '2018-09-01 T:14:00:00',\n '2018-09-01 T:15:00:00',\n '2018-09-01 T:16:00:00',\n '2018-09-01 T:17:00:00',\n '2018-09-01 T:18:00:00',\n '2018-09-01 T:19:00:00',\n '2018-09-01 T:20:00:00',\n '2018-09-01 T:21:00:00',\n '2018-09-01 T:22:00:00',\n '2018-09-01 T:23:00:00',\n '2018-09-02 T:00:00:00',\n '2018-09-02 T:01:00:00',\n '2018-09-02 T:02:00:00',\n '2018-09-02 T:03:00:00',\n '2018-09-02 T:04:00:00',\n '2018-09-02 T:05:00:00',\n '2018-09-02 T:06:00:00',\n '2018-09-02 T:07:00:00',\n '2018-09-02 T:08:00:00',\n '2018-09-02 T:09:00:00',\n '2018-09-02 T:10:00:00',\n '2018-09-02 T:11:00:00',\n '2018-09-02 T:12:00:00',\n '2018-09-02 T:13:00:00',\n '2018-09-02 T:14:00:00',\n '2018-09-02 T:15:00:00',\n '2018-09-02 T:16:00:00',\n '2018-09-02 T:17:00:00',\n '2018-09-02 T:18:00:00',\n '2018-09-02 T:19:00:00',\n '2018-09-02 T:20:00:00',\n '2018-09-02 T:21:00:00',\n '2018-09-02 T:22:00:00',\n '2018-09-02 T:23:00:00',\n '2018-09-03 T:00:00:00',\n '2018-09-03 T:01:00:00',\n '2018-09-03 T:02:00:00',\n '2018-09-03 T:03:00:00',\n '2018-09-03 T:04:00:00',\n '2018-09-03 T:05:00:00',\n '2018-09-03 T:06:00:00',\n '2018-09-03 T:07:00:00',\n '2018-09-03 T:08:00:00',\n '2018-09-03 T:09:00:00',\n '2018-09-03 T:10:00:00',\n '2018-09-03 T:11:00:00',\n '2018-09-03 T:12:00:00',\n '2018-09-03 T:13:00:00',\n '2018-09-03 T:14:00:00',\n '2018-09-03 T:15:00:00',\n '2018-09-03 T:16:00:00',\n '2018-09-03 T:17:00:00',\n '2018-09-03 T:18:00:00',\n '2018-09-03 T:19:00:00',\n '2018-09-03 T:20:00:00',\n '2018-09-03 T:21:00:00',\n '2018-09-03 T:22:00:00',\n '2018-09-03 T:23:00:00',\n '2018-09-04 T:00:00:00',\n '2018-09-04 T:01:00:00',\n '2018-09-04 T:02:00:00',\n '2018-09-04 T:03:00:00',\n '2018-09-04 T:04:00:00',\n '2018-09-04 T:05:00:00',\n '2018-09-04 T:06:00:00',\n '2018-09-04 T:07:00:00',\n '2018-09-04 T:08:00:00',\n '2018-09-04 T:09:00:00',\n '2018-09-04 T:10:00:00',\n '2018-09-04 T:11:00:00',\n '2018-09-04 T:12:00:00',\n '2018-09-04 T:13:00:00',\n '2018-09-04 T:14:00:00',\n '2018-09-04 T:15:00:00',\n '2018-09-04 T:16:00:00',\n '2018-09-04 T:17:00:00',\n '2018-09-04 T:18:00:00',\n '2018-09-04 T:19:00:00',\n '2018-09-04 T:20:00:00',\n '2018-09-04 T:21:00:00',\n '2018-09-04 T:22:00:00',\n '2018-09-04 T:23:00:00',\n '2018-09-05 T:00:00:00',\n '2018-09-05 T:01:00:00',\n '2018-09-05 T:02:00:00',\n '2018-09-05 T:03:00:00',\n '2018-09-05 T:04:00:00',\n '2018-09-05 T:05:00:00',\n '2018-09-05 T:06:00:00',\n '2018-09-05 T:07:00:00',\n '2018-09-05 T:08:00:00',\n '2018-09-05 T:09:00:00',\n '2018-09-05 T:10:00:00',\n '2018-09-05 T:11:00:00',\n '2018-09-05 T:12:00:00',\n '2018-09-05 T:13:00:00',\n '2018-09-05 T:14:00:00',\n '2018-09-05 T:15:00:00',\n '2018-09-05 T:16:00:00',\n '2018-09-05 T:17:00:00',\n '2018-09-05 T:18:00:00',\n '2018-09-05 T:19:00:00',\n '2018-09-05 T:20:00:00',\n '2018-09-05 T:21:00:00',\n '2018-09-05 T:22:00:00',\n '2018-09-05 T:23:00:00',\n '2018-09-06 T:00:00:00',\n '2018-09-06 T:01:00:00',\n '2018-09-06 T:02:00:00',\n '2018-09-06 T:03:00:00',\n '2018-09-06 T:04:00:00',\n '2018-09-06 T:05:00:00',\n '2018-09-06 T:06:00:00',\n '2018-09-06 T:07:00:00',\n '2018-09-06 T:08:00:00',\n '2018-09-06 T:09:00:00',\n '2018-09-06 T:10:00:00',\n '2018-09-06 T:11:00:00',\n '2018-09-06 T:12:00:00',\n '2018-09-06 T:13:00:00',\n '2018-09-06 T:14:00:00',\n '2018-09-06 T:15:00:00',\n '2018-09-06 T:16:00:00',\n '2018-09-06 T:17:00:00',\n '2018-09-06 T:18:00:00',\n '2018-09-06 T:19:00:00',\n '2018-09-06 T:20:00:00',\n '2018-09-06 T:21:00:00',\n '2018-09-06 T:22:00:00',\n '2018-09-06 T:23:00:00',\n '2018-09-07 T:00:00:00',\n '2018-09-07 T:01:00:00',\n '2018-09-07 T:02:00:00',\n '2018-09-07 T:03:00:00',\n '2018-09-07 T:04:00:00',\n '2018-09-07 T:05:00:00',\n '2018-09-07 T:06:00:00',\n '2018-09-07 T:07:00:00',\n '2018-09-07 T:08:00:00',\n '2018-09-07 T:09:00:00',\n '2018-09-07 T:10:00:00',\n '2018-09-07 T:11:00:00',\n '2018-09-07 T:12:00:00',\n '2018-09-07 T:13:00:00',\n '2018-09-07 T:14:00:00',\n '2018-09-07 T:15:00:00',\n '2018-09-07 T:16:00:00',\n '2018-09-07 T:17:00:00',\n '2018-09-07 T:18:00:00',\n '2018-09-07 T:19:00:00',\n '2018-09-07 T:20:00:00',\n '2018-09-07 T:21:00:00',\n '2018-09-07 T:22:00:00',\n '2018-09-07 T:23:00:00']"
     },
     "execution_count": 56,
     "metadata": {},
     "output_type": "execute_result"
    }
   ],
   "source": [
    "\n",
    "start_date = '2018-09-01 T:00:00:00'\n",
    "end_date = '2018-09-07 T:00:00:00'\n",
    "start_date_dt = datetime.strptime(start_date, '%Y-%m-%d T:%H:%M:%S')\n",
    "end_date_dt = datetime.strptime(end_date, '%Y-%m-%d T:%H:%M:%S')\n",
    "print(start_date_dt, end_date_dt)\n",
    "[(start_date_dt + timedelta(hours=x)).strftime('%Y-%m-%d T:%H:%M:%S') for x in range(24 * 7)]"
   ]
  },
  {
   "cell_type": "code",
   "execution_count": 41,
   "metadata": {},
   "outputs": [
    {
     "name": "stdout",
     "output_type": "stream",
     "text": [
      "2018-09-01 T:00:00:00\n",
      "2018-09-01 T:01:00:00\n",
      "2018-09-01 T:02:00:00\n",
      "2018-09-01 T:03:00:00\n",
      "2018-09-01 T:04:00:00\n",
      "2018-09-01 T:05:00:00\n",
      "2018-09-01 T:06:00:00\n",
      "2018-09-01 T:07:00:00\n",
      "2018-09-01 T:08:00:00\n",
      "2018-09-01 T:09:00:00\n",
      "2018-09-01 T:10:00:00\n",
      "2018-09-01 T:11:00:00\n",
      "2018-09-01 T:12:00:00\n",
      "2018-09-01 T:13:00:00\n",
      "2018-09-01 T:14:00:00\n",
      "2018-09-01 T:15:00:00\n",
      "2018-09-01 T:16:00:00\n",
      "2018-09-01 T:17:00:00\n",
      "2018-09-01 T:18:00:00\n",
      "2018-09-01 T:19:00:00\n",
      "2018-09-01 T:20:00:00\n",
      "2018-09-01 T:21:00:00\n",
      "2018-09-01 T:22:00:00\n",
      "2018-09-01 T:23:00:00\n",
      "2018-09-02 T:00:00:00\n",
      "2018-09-02 T:01:00:00\n",
      "2018-09-02 T:02:00:00\n",
      "2018-09-02 T:03:00:00\n",
      "2018-09-02 T:04:00:00\n",
      "2018-09-02 T:05:00:00\n",
      "2018-09-02 T:06:00:00\n",
      "2018-09-02 T:07:00:00\n",
      "2018-09-02 T:08:00:00\n",
      "2018-09-02 T:09:00:00\n",
      "2018-09-02 T:10:00:00\n",
      "2018-09-02 T:11:00:00\n",
      "2018-09-02 T:12:00:00\n",
      "2018-09-02 T:13:00:00\n",
      "2018-09-02 T:14:00:00\n",
      "2018-09-02 T:15:00:00\n",
      "2018-09-02 T:16:00:00\n",
      "2018-09-02 T:17:00:00\n",
      "2018-09-02 T:18:00:00\n",
      "2018-09-02 T:19:00:00\n",
      "2018-09-02 T:20:00:00\n",
      "2018-09-02 T:21:00:00\n",
      "2018-09-02 T:22:00:00\n",
      "2018-09-02 T:23:00:00\n",
      "2018-09-03 T:00:00:00\n",
      "2018-09-03 T:01:00:00\n",
      "2018-09-03 T:02:00:00\n",
      "2018-09-03 T:03:00:00\n",
      "2018-09-03 T:04:00:00\n",
      "2018-09-03 T:05:00:00\n",
      "2018-09-03 T:06:00:00\n",
      "2018-09-03 T:07:00:00\n",
      "2018-09-03 T:08:00:00\n",
      "2018-09-03 T:09:00:00\n",
      "2018-09-03 T:10:00:00\n",
      "2018-09-03 T:11:00:00\n",
      "2018-09-03 T:12:00:00\n",
      "2018-09-03 T:13:00:00\n",
      "2018-09-03 T:14:00:00\n",
      "2018-09-03 T:15:00:00\n",
      "2018-09-03 T:16:00:00\n",
      "2018-09-03 T:17:00:00\n",
      "2018-09-03 T:18:00:00\n",
      "2018-09-03 T:19:00:00\n",
      "2018-09-03 T:20:00:00\n",
      "2018-09-03 T:21:00:00\n",
      "2018-09-03 T:22:00:00\n",
      "2018-09-03 T:23:00:00\n",
      "2018-09-04 T:00:00:00\n",
      "2018-09-04 T:01:00:00\n",
      "2018-09-04 T:02:00:00\n",
      "2018-09-04 T:03:00:00\n",
      "2018-09-04 T:04:00:00\n",
      "2018-09-04 T:05:00:00\n",
      "2018-09-04 T:06:00:00\n",
      "2018-09-04 T:07:00:00\n",
      "2018-09-04 T:08:00:00\n",
      "2018-09-04 T:09:00:00\n",
      "2018-09-04 T:10:00:00\n",
      "2018-09-04 T:11:00:00\n",
      "2018-09-04 T:12:00:00\n",
      "2018-09-04 T:13:00:00\n",
      "2018-09-04 T:14:00:00\n",
      "2018-09-04 T:15:00:00\n",
      "2018-09-04 T:16:00:00\n",
      "2018-09-04 T:17:00:00\n",
      "2018-09-04 T:18:00:00\n",
      "2018-09-04 T:19:00:00\n",
      "2018-09-04 T:20:00:00\n",
      "2018-09-04 T:21:00:00\n",
      "2018-09-04 T:22:00:00\n",
      "2018-09-04 T:23:00:00\n",
      "2018-09-05 T:00:00:00\n",
      "2018-09-05 T:01:00:00\n",
      "2018-09-05 T:02:00:00\n",
      "2018-09-05 T:03:00:00\n",
      "2018-09-05 T:04:00:00\n",
      "2018-09-05 T:05:00:00\n",
      "2018-09-05 T:06:00:00\n",
      "2018-09-05 T:07:00:00\n",
      "2018-09-05 T:08:00:00\n",
      "2018-09-05 T:09:00:00\n",
      "2018-09-05 T:10:00:00\n",
      "2018-09-05 T:11:00:00\n",
      "2018-09-05 T:12:00:00\n",
      "2018-09-05 T:13:00:00\n",
      "2018-09-05 T:14:00:00\n",
      "2018-09-05 T:15:00:00\n",
      "2018-09-05 T:16:00:00\n",
      "2018-09-05 T:17:00:00\n",
      "2018-09-05 T:18:00:00\n",
      "2018-09-05 T:19:00:00\n",
      "2018-09-05 T:20:00:00\n",
      "2018-09-05 T:21:00:00\n",
      "2018-09-05 T:22:00:00\n",
      "2018-09-05 T:23:00:00\n",
      "2018-09-06 T:00:00:00\n",
      "2018-09-06 T:01:00:00\n",
      "2018-09-06 T:02:00:00\n",
      "2018-09-06 T:03:00:00\n",
      "2018-09-06 T:04:00:00\n",
      "2018-09-06 T:05:00:00\n",
      "2018-09-06 T:06:00:00\n",
      "2018-09-06 T:07:00:00\n",
      "2018-09-06 T:08:00:00\n",
      "2018-09-06 T:09:00:00\n",
      "2018-09-06 T:10:00:00\n",
      "2018-09-06 T:11:00:00\n",
      "2018-09-06 T:12:00:00\n",
      "2018-09-06 T:13:00:00\n",
      "2018-09-06 T:14:00:00\n",
      "2018-09-06 T:15:00:00\n",
      "2018-09-06 T:16:00:00\n",
      "2018-09-06 T:17:00:00\n",
      "2018-09-06 T:18:00:00\n",
      "2018-09-06 T:19:00:00\n",
      "2018-09-06 T:20:00:00\n",
      "2018-09-06 T:21:00:00\n",
      "2018-09-06 T:22:00:00\n",
      "2018-09-06 T:23:00:00\n",
      "2018-09-07 T:00:00:00\n"
     ]
    }
   ],
   "source": [
    "current_dt = start_date_dt\n",
    "while current_dt.strftime('%Y-%m-%d T:%H:%M:%S') <= end_date:\n",
    "    print(current_dt.strftime('%Y-%m-%d T:%H:%M:%S'))\n",
    "\n",
    "    current_dt += timedelta(hours=1)"
   ]
  },
  {
   "cell_type": "markdown",
   "metadata": {},
   "source": [
    "### Нагрузка на систему по часам"
   ]
  },
  {
   "cell_type": "code",
   "execution_count": 46,
   "metadata": {},
   "outputs": [
    {
     "name": "stdout",
     "output_type": "stream",
     "text": [
      "2018-04-30T21:37:41Z\n"
     ]
    },
    {
     "data": {
      "text/plain": "{}"
     },
     "execution_count": 46,
     "metadata": {},
     "output_type": "execute_result"
    }
   ],
   "source": [
    "stats = {}\n",
    "\n",
    "with open('logs.csv', 'r') as f:\n",
    "    for line in f:\n",
    "        line = line.strip()\n",
    "        print(line)\n",
    "        \n",
    "        break\n",
    "        \n",
    "        # вычисления нагрузки на систему...\n",
    "        \n",
    "# результат\n",
    "stats"
   ]
  },
  {
   "cell_type": "code",
   "execution_count": null,
   "metadata": {},
   "outputs": [],
   "source": [
    "# а в процентном соотношении?\n"
   ]
  },
  {
   "cell_type": "code",
   "execution_count": null,
   "metadata": {},
   "outputs": [],
   "source": []
  },
  {
   "cell_type": "code",
   "execution_count": null,
   "metadata": {},
   "outputs": [],
   "source": []
  },
  {
   "cell_type": "code",
   "execution_count": null,
   "metadata": {},
   "outputs": [],
   "source": []
  },
  {
   "cell_type": "markdown",
   "metadata": {},
   "source": [
    "###  Unixtime\n",
    "Количество секунд, прошедших с 1 января 1970 года по UTC"
   ]
  },
  {
   "cell_type": "code",
   "execution_count": 47,
   "metadata": {},
   "outputs": [],
   "source": [
    "import time\n",
    "from datetime import date\n",
    "from datetime import datetime"
   ]
  },
  {
   "cell_type": "code",
   "execution_count": 48,
   "metadata": {},
   "outputs": [
    {
     "data": {
      "text/plain": "1552251600.0"
     },
     "execution_count": 48,
     "metadata": {},
     "output_type": "execute_result"
    }
   ],
   "source": [
    "d = date(2019, 3, 11)\n",
    "\n",
    "unixtime = time.mktime(d.timetuple())\n",
    "unixtime"
   ]
  },
  {
   "cell_type": "code",
   "execution_count": 49,
   "metadata": {},
   "outputs": [],
   "source": [
    "from datetime import datetime"
   ]
  },
  {
   "cell_type": "code",
   "execution_count": 50,
   "metadata": {},
   "outputs": [
    {
     "data": {
      "text/plain": "datetime.datetime(2019, 3, 11, 0, 0)"
     },
     "execution_count": 50,
     "metadata": {},
     "output_type": "execute_result"
    }
   ],
   "source": [
    "datetime.fromtimestamp(1552251600)"
   ]
  },
  {
   "cell_type": "markdown",
   "metadata": {},
   "source": [
    "На практике все сложнее https://habr.com/ru/post/452584/"
   ]
  },
  {
   "cell_type": "markdown",
   "metadata": {},
   "source": [
    "# Задача про интервалы\n",
    "Имеется список отсортированных по возрастанию целых чисел data. А также целое число n, которое лежит между минимальным и максимальным значениями из списка data. Вам необходимо определить минимальное ближайшее число к n из списка data.\n",
    "\n",
    "Пример:\n",
    "```python\n",
    "data = [1, 7, 17, 23, 27, 35, 65]\n",
    "n = 20\n",
    "```\n",
    "\n",
    "Ответ: 17\n",
    "\n",
    "Подобные алгоритмы используются для классификации объекта по значению одной метрики. Например, это может пригодиться для классификации учащегося по его возрасту:\n",
    "```python\n",
    "ages = {\n",
    "    1: 'дети',\n",
    "    7: 'школьники',\n",
    "    17: 'студенты',\n",
    "    23: 'аспиранты',\n",
    "    27: 'молодые ученые',\n",
    "    35: 'преподаватели',\n",
    "    65: 'пенсионеры',\n",
    "}\n",
    "```\n",
    "\n",
    "Итого напишите функцию, которая по списку data и числу n возвращает минимальное ближайшее к n число. Список может быть любым, поэтому не рассчитывайте на написание цепочки условий через if.\n",
    "\n",
    "Бонусные варианты:\n",
    "1. Рассмотрите ситуацию, в которой при фиксированном списке data вам необходимо классифицировать большое количество пользователей с разными значениями n. Например, вам необходимо классифицировать базу из 100 миллионов человек по возрастам по словарю ages из примера выше. Можно ли в таком случае ускорить проход по такому числу пользователей?\n",
    "\n",
    "2. Если вы решали основное задание перебором элементов списка data и сравнением с n, то сложность такого алгоритма O(N). Т. е. при увеличении числа элементов списка data в N раз время работы алгоритма тоже вырастет в N раз. Попробуйте ускорить этот алгоритм. Например, с помощью аналога бинарного поиска."
   ]
  },
  {
   "cell_type": "code",
   "execution_count": 55,
   "outputs": [
    {
     "name": "stdout",
     "output_type": "stream",
     "text": [
      "17\n"
     ]
    },
    {
     "data": {
      "text/plain": "17"
     },
     "execution_count": 55,
     "metadata": {},
     "output_type": "execute_result"
    }
   ],
   "source": [
    "\n",
    "# data = [1, 7, 17, 23, 27, 35, 65]\n",
    "# n = 20\n",
    "def optimal_numb(data, n):\n",
    "    min_arg = 0\n",
    "    max_arg = 0\n",
    "    if n not in data:\n",
    "        for _, __ in enumerate(data):\n",
    "            if n < __:\n",
    "                max_arg = __\n",
    "                min_arg = data[_ - 1]\n",
    "                break\n",
    "        result_dic = {}\n",
    "        result_dic[min_arg] = abs(min_arg - n)\n",
    "        result_dic[max_arg] = abs(max_arg - n)\n",
    "        keys_dd = list(result_dic.keys())\n",
    "        values_dd = list(result_dic.values())\n",
    "        if values_dd[0] == values_dd[1]:\n",
    "            print(f\"{keys_dd[0]}\")\n",
    "            return keys_dd[0]\n",
    "        elif values_dd[0] > values_dd[1]:\n",
    "            print(f\"{keys_dd[1]}\")\n",
    "            return keys_dd[1]\n",
    "        else:\n",
    "            print(f\"{keys_dd[0]}\")\n",
    "            result_dic[0]\n",
    "    else:\n",
    "        print(f\"{n}\")\n",
    "        return f\"{n}\"\n",
    "optimal_numb([1, 7, 17, 23, 27, 35, 65], 20)\n",
    "\n",
    "\n"
   ],
   "metadata": {
    "collapsed": false
   }
  }
 ],
 "metadata": {
  "kernelspec": {
   "display_name": "Python 3",
   "language": "python",
   "name": "python3"
  },
  "language_info": {
   "codemirror_mode": {
    "name": "ipython",
    "version": 3
   },
   "file_extension": ".py",
   "mimetype": "text/x-python",
   "name": "python",
   "nbconvert_exporter": "python",
   "pygments_lexer": "ipython3",
   "version": "3.7.0"
  }
 },
 "nbformat": 4,
 "nbformat_minor": 2
}
