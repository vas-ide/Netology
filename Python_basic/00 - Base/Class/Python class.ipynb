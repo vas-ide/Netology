{
 "cells": [
  {
   "cell_type": "markdown",
   "metadata": {},
   "source": [
    "# Что сегодня сделаем\n",
    "Библиотеку для получения курсов валют в 2 строки"
   ]
  },
  {
   "cell_type": "code",
   "execution_count": 2,
   "metadata": {},
   "outputs": [],
   "source": [
    "from libs.exchange import Rate"
   ]
  },
  {
   "cell_type": "code",
   "execution_count": 3,
   "metadata": {},
   "outputs": [
    {
     "data": {
      "text/plain": "74.7588"
     },
     "execution_count": 3,
     "metadata": {},
     "output_type": "execute_result"
    }
   ],
   "source": [
    "Rate().usd()"
   ]
  },
  {
   "cell_type": "code",
   "execution_count": 4,
   "outputs": [
    {
     "data": {
      "text/plain": "{'ID': 'R01235',\n 'NumCode': '840',\n 'CharCode': 'USD',\n 'Nominal': 1,\n 'Name': 'Доллар США',\n 'Value': 74.7588,\n 'Previous': 74.7638}"
     },
     "execution_count": 4,
     "metadata": {},
     "output_type": "execute_result"
    }
   ],
   "source": [
    "Rate(\"full\").usd()"
   ],
   "metadata": {
    "collapsed": false
   }
  },
  {
   "cell_type": "code",
   "execution_count": 8,
   "outputs": [
    {
     "data": {
      "text/plain": "79.6104"
     },
     "execution_count": 8,
     "metadata": {},
     "output_type": "execute_result"
    }
   ],
   "source": [
    "Rate().eur()"
   ],
   "metadata": {
    "collapsed": false
   }
  },
  {
   "cell_type": "code",
   "execution_count": 7,
   "outputs": [
    {
     "data": {
      "text/plain": "{'ID': 'R01239',\n 'NumCode': '978',\n 'CharCode': 'EUR',\n 'Nominal': 1,\n 'Name': 'Евро',\n 'Value': 79.6104,\n 'Previous': 79.9764}"
     },
     "execution_count": 7,
     "metadata": {},
     "output_type": "execute_result"
    }
   ],
   "source": [
    "Rate(\"full\").eur()"
   ],
   "metadata": {
    "collapsed": false
   }
  },
  {
   "cell_type": "code",
   "execution_count": 9,
   "outputs": [
    {
     "data": {
      "text/plain": "79.6104"
     },
     "execution_count": 9,
     "metadata": {},
     "output_type": "execute_result"
    }
   ],
   "source": [
    "Rate(\"value\").eur()"
   ],
   "metadata": {
    "collapsed": false
   }
  },
  {
   "cell_type": "code",
   "execution_count": 5,
   "metadata": {
    "scrolled": true
   },
   "outputs": [
    {
     "data": {
      "text/plain": "{'ID': 'R01020A',\n 'NumCode': '944',\n 'CharCode': 'AZN',\n 'Nominal': 1,\n 'Name': 'Азербайджанский манат',\n 'Value': 43.9758,\n 'Previous': 43.9787}"
     },
     "execution_count": 5,
     "metadata": {},
     "output_type": "execute_result"
    }
   ],
   "source": [
    "Rate('full').AZN()"
   ]
  },
  {
   "cell_type": "markdown",
   "metadata": {},
   "source": [
    "### Упражнение\n",
    "Дана строка со значениями, которые разделены запятыми:"
   ]
  },
  {
   "cell_type": "code",
   "execution_count": 1,
   "metadata": {},
   "outputs": [],
   "source": [
    "line = '2019-07-01,organic,4293'"
   ]
  },
  {
   "cell_type": "markdown",
   "metadata": {},
   "source": [
    "**Задача**\n",
    "\n",
    "Напишите функцию column_count, которая возвращает число столбцов в такой строке\n",
    "\n",
    "**Подсказка**\n",
    "\n",
    "Можно перевести эту строку в список с помощью метода split: line.split(','). И затем посчитать количество элементов в нем (функция len)"
   ]
  },
  {
   "cell_type": "code",
   "execution_count": 7,
   "metadata": {},
   "outputs": [
    {
     "data": {
      "text/plain": [
       "['2019-07-01', 'organic', '4293']"
      ]
     },
     "execution_count": 7,
     "metadata": {},
     "output_type": "execute_result"
    }
   ],
   "source": [
    "'2019-07-01,organic,4293'.split(',')"
   ]
  },
  {
   "cell_type": "code",
   "execution_count": 2,
   "metadata": {},
   "outputs": [
    {
     "data": {
      "text/plain": [
       "3"
      ]
     },
     "execution_count": 2,
     "metadata": {},
     "output_type": "execute_result"
    }
   ],
   "source": [
    "def column_count(line):\n",
    "    list_line = line.split(',')\n",
    "    return len(list_line)\n",
    "\n",
    "column_count(line)"
   ]
  },
  {
   "cell_type": "code",
   "execution_count": 3,
   "metadata": {},
   "outputs": [
    {
     "data": {
      "text/plain": [
       "3"
      ]
     },
     "execution_count": 3,
     "metadata": {},
     "output_type": "execute_result"
    }
   ],
   "source": [
    "def column_count(line):\n",
    "    linestr=line.strip().split(',')\n",
    "    lenght=len(linestr)\n",
    "    return lenght\n",
    "\n",
    "column_count(line)"
   ]
  },
  {
   "cell_type": "code",
   "execution_count": 9,
   "metadata": {},
   "outputs": [
    {
     "data": {
      "text/plain": [
       "3"
      ]
     },
     "execution_count": 9,
     "metadata": {},
     "output_type": "execute_result"
    }
   ],
   "source": [
    "line = '2019-07-01,organic,4293'\n",
    "\n",
    "def column_count(string):\n",
    "    if string:\n",
    "        line_list = string.strip().split(',')\n",
    "        count = len(line_list)\n",
    "\n",
    "        return count\n",
    "    \n",
    "    return 0\n",
    "\n",
    "column_count(line)"
   ]
  },
  {
   "cell_type": "code",
   "execution_count": 4,
   "metadata": {},
   "outputs": [
    {
     "data": {
      "text/plain": [
       "4"
      ]
     },
     "execution_count": 4,
     "metadata": {},
     "output_type": "execute_result"
    }
   ],
   "source": [
    "column_count('2019-07-01,organic,4293,')"
   ]
  },
  {
   "cell_type": "code",
   "execution_count": 5,
   "metadata": {},
   "outputs": [
    {
     "data": {
      "text/plain": [
       "1"
      ]
     },
     "execution_count": 5,
     "metadata": {},
     "output_type": "execute_result"
    }
   ],
   "source": [
    "column_count('2019-07-01')"
   ]
  },
  {
   "cell_type": "code",
   "execution_count": 10,
   "metadata": {},
   "outputs": [
    {
     "data": {
      "text/plain": [
       "0"
      ]
     },
     "execution_count": 10,
     "metadata": {},
     "output_type": "execute_result"
    }
   ],
   "source": [
    "column_count('')"
   ]
  },
  {
   "cell_type": "markdown",
   "metadata": {},
   "source": [
    "# Классы\n",
    "Пример использования переменной в разных методах"
   ]
  },
  {
   "cell_type": "code",
   "execution_count": 12,
   "metadata": {},
   "outputs": [],
   "source": [
    "class AnyName:\n",
    "    def method_1(self):\n",
    "        self.currency = 'usd'\n",
    "    \n",
    "    def method_2(self):\n",
    "        print(self.currency)"
   ]
  },
  {
   "cell_type": "code",
   "execution_count": 21,
   "metadata": {},
   "outputs": [],
   "source": [
    "a = AnyName()"
   ]
  },
  {
   "cell_type": "code",
   "execution_count": null,
   "metadata": {},
   "outputs": [],
   "source": [
    "a."
   ]
  },
  {
   "cell_type": "code",
   "execution_count": 22,
   "metadata": {},
   "outputs": [
    {
     "ename": "AttributeError",
     "evalue": "'AnyName' object has no attribute 'currency'",
     "output_type": "error",
     "traceback": [
      "\u001B[0;31m---------------------------------------------------------------------------\u001B[0m",
      "\u001B[0;31mAttributeError\u001B[0m                            Traceback (most recent call last)",
      "\u001B[0;32m<ipython-input-22-188dd67a002c>\u001B[0m in \u001B[0;36m<module>\u001B[0;34m\u001B[0m\n\u001B[0;32m----> 1\u001B[0;31m \u001B[0ma\u001B[0m\u001B[0;34m.\u001B[0m\u001B[0mmethod_2\u001B[0m\u001B[0;34m(\u001B[0m\u001B[0;34m)\u001B[0m\u001B[0;34m\u001B[0m\u001B[0m\n\u001B[0m",
      "\u001B[0;32m<ipython-input-12-9c2240d258f9>\u001B[0m in \u001B[0;36mmethod_2\u001B[0;34m(self)\u001B[0m\n\u001B[1;32m      4\u001B[0m \u001B[0;34m\u001B[0m\u001B[0m\n\u001B[1;32m      5\u001B[0m     \u001B[0;32mdef\u001B[0m \u001B[0mmethod_2\u001B[0m\u001B[0;34m(\u001B[0m\u001B[0mself\u001B[0m\u001B[0;34m)\u001B[0m\u001B[0;34m:\u001B[0m\u001B[0;34m\u001B[0m\u001B[0m\n\u001B[0;32m----> 6\u001B[0;31m         \u001B[0mprint\u001B[0m\u001B[0;34m(\u001B[0m\u001B[0mself\u001B[0m\u001B[0;34m.\u001B[0m\u001B[0mcurrency\u001B[0m\u001B[0;34m)\u001B[0m\u001B[0;34m\u001B[0m\u001B[0m\n\u001B[0m",
      "\u001B[0;31mAttributeError\u001B[0m: 'AnyName' object has no attribute 'currency'"
     ]
    }
   ],
   "source": [
    "a.method_2()"
   ]
  },
  {
   "cell_type": "code",
   "execution_count": null,
   "metadata": {},
   "outputs": [],
   "source": [
    "import datetime.py"
   ]
  },
  {
   "cell_type": "code",
   "execution_count": 16,
   "metadata": {},
   "outputs": [],
   "source": [
    "from datetime import datetime, timedelta"
   ]
  },
  {
   "cell_type": "code",
   "execution_count": null,
   "metadata": {},
   "outputs": [],
   "source": [
    "timedelta."
   ]
  },
  {
   "cell_type": "code",
   "execution_count": null,
   "metadata": {},
   "outputs": [],
   "source": [
    "datetime.datetime.strptime()"
   ]
  },
  {
   "cell_type": "code",
   "execution_count": 14,
   "metadata": {},
   "outputs": [
    {
     "data": {
      "text/plain": [
       "<__main__.AnyName at 0x1135fe2e8>"
      ]
     },
     "execution_count": 14,
     "metadata": {},
     "output_type": "execute_result"
    }
   ],
   "source": [
    "a."
   ]
  },
  {
   "cell_type": "code",
   "execution_count": 18,
   "metadata": {},
   "outputs": [],
   "source": [
    "a.method_1()"
   ]
  },
  {
   "cell_type": "code",
   "execution_count": 19,
   "metadata": {},
   "outputs": [
    {
     "data": {
      "text/plain": [
       "'usd'"
      ]
     },
     "execution_count": 19,
     "metadata": {},
     "output_type": "execute_result"
    }
   ],
   "source": [
    "a.currency"
   ]
  },
  {
   "cell_type": "code",
   "execution_count": null,
   "metadata": {},
   "outputs": [],
   "source": [
    "a.currency"
   ]
  },
  {
   "cell_type": "code",
   "execution_count": 20,
   "metadata": {},
   "outputs": [
    {
     "name": "stdout",
     "output_type": "stream",
     "text": [
      "usd\n"
     ]
    }
   ],
   "source": [
    "a.method_2()"
   ]
  },
  {
   "cell_type": "markdown",
   "metadata": {},
   "source": [
    "### Метод __init__"
   ]
  },
  {
   "cell_type": "code",
   "execution_count": 23,
   "metadata": {},
   "outputs": [],
   "source": [
    "# метод __init__ выполняется при вызове класса\n",
    "\n",
    "class Rate:\n",
    "    def __init__(self):\n",
    "        self.format = 'value'\n",
    "        print(self.format)"
   ]
  },
  {
   "cell_type": "code",
   "execution_count": 24,
   "metadata": {
    "scrolled": true
   },
   "outputs": [
    {
     "name": "stdout",
     "output_type": "stream",
     "text": [
      "value\n"
     ]
    }
   ],
   "source": [
    "r = Rate()"
   ]
  },
  {
   "cell_type": "code",
   "execution_count": 26,
   "metadata": {},
   "outputs": [
    {
     "data": {
      "text/plain": [
       "'value'"
      ]
     },
     "execution_count": 26,
     "metadata": {},
     "output_type": "execute_result"
    }
   ],
   "source": [
    "r.format"
   ]
  },
  {
   "cell_type": "markdown",
   "metadata": {},
   "source": [
    "### Класс для курсов валют"
   ]
  },
  {
   "cell_type": "code",
   "execution_count": 27,
   "metadata": {},
   "outputs": [],
   "source": [
    "class Rate:\n",
    "    def __init__(self):\n",
    "        self.format = 'value'\n",
    "    \n",
    "    def show_current_format(self):\n",
    "        return self.format"
   ]
  },
  {
   "cell_type": "code",
   "execution_count": 28,
   "metadata": {},
   "outputs": [],
   "source": [
    "r = Rate()"
   ]
  },
  {
   "cell_type": "code",
   "execution_count": 29,
   "metadata": {},
   "outputs": [
    {
     "data": {
      "text/plain": [
       "'value'"
      ]
     },
     "execution_count": 29,
     "metadata": {},
     "output_type": "execute_result"
    }
   ],
   "source": [
    "r.show_current_format()"
   ]
  },
  {
   "cell_type": "markdown",
   "metadata": {},
   "source": [
    "Пример инициализации со значением переменной"
   ]
  },
  {
   "cell_type": "code",
   "execution_count": 30,
   "metadata": {},
   "outputs": [],
   "source": [
    "class Rate:\n",
    "    def __init__(self, format_):\n",
    "        self.format = format_\n",
    "    \n",
    "    def show_current_format(self):\n",
    "        return self.format"
   ]
  },
  {
   "cell_type": "code",
   "execution_count": 31,
   "metadata": {},
   "outputs": [],
   "source": [
    "r = Rate(format_='value')"
   ]
  },
  {
   "cell_type": "code",
   "execution_count": 32,
   "metadata": {},
   "outputs": [
    {
     "data": {
      "text/plain": [
       "'value'"
      ]
     },
     "execution_count": 32,
     "metadata": {},
     "output_type": "execute_result"
    }
   ],
   "source": [
    "r.show_current_format()"
   ]
  },
  {
   "cell_type": "markdown",
   "metadata": {},
   "source": [
    "Или сразу со значением по умолчанию"
   ]
  },
  {
   "cell_type": "code",
   "execution_count": 33,
   "metadata": {},
   "outputs": [],
   "source": [
    "class Rate:\n",
    "    def __init__(self, format_='value'):\n",
    "        self.format = format_\n",
    "    \n",
    "    def show_current_format(self):\n",
    "        return self.format"
   ]
  },
  {
   "cell_type": "code",
   "execution_count": 34,
   "metadata": {},
   "outputs": [
    {
     "data": {
      "text/plain": [
       "'value'"
      ]
     },
     "execution_count": 34,
     "metadata": {},
     "output_type": "execute_result"
    }
   ],
   "source": [
    "r = Rate()\n",
    "r.show_current_format()"
   ]
  },
  {
   "cell_type": "code",
   "execution_count": 35,
   "metadata": {},
   "outputs": [
    {
     "data": {
      "text/plain": [
       "'full'"
      ]
     },
     "execution_count": 35,
     "metadata": {},
     "output_type": "execute_result"
    }
   ],
   "source": [
    "r_full = Rate(format_='full')\n",
    "r_full.show_current_format()"
   ]
  },
  {
   "cell_type": "code",
   "execution_count": 36,
   "metadata": {},
   "outputs": [
    {
     "data": {
      "text/plain": [
       "'full_123'"
      ]
     },
     "execution_count": 36,
     "metadata": {},
     "output_type": "execute_result"
    }
   ],
   "source": [
    "# значения переменных класса можно менять\n",
    "\n",
    "r.format = 'full_123'\n",
    "r.show_current_format()"
   ]
  },
  {
   "cell_type": "code",
   "execution_count": 37,
   "metadata": {},
   "outputs": [
    {
     "data": {
      "text/plain": [
       "'full'"
      ]
     },
     "execution_count": 37,
     "metadata": {},
     "output_type": "execute_result"
    }
   ],
   "source": [
    "r_full.format"
   ]
  },
  {
   "cell_type": "markdown",
   "metadata": {},
   "source": [
    "### Упражнение\n",
    "Создайте класс сотрудника Employee. При инициализации класса задается имя сотрудника name и его текущая зарплата salary. Напишите следующие методы:\n",
    "1. Метод up, который увеличивает зарплату сотрудника на 100\n",
    "2. Метод print, который выводит на экран текущую зарплату сотрудника в формате \"Сотрудник Иван, зарплата 100\""
   ]
  },
  {
   "cell_type": "code",
   "execution_count": 5,
   "metadata": {},
   "outputs": [],
   "source": [
    "class Employee:\n",
    "    def __init__(self, name, salary):\n",
    "        self.name = name\n",
    "        self.salary = salary\n",
    "    \n",
    "    def up(self, num=100):\n",
    "        self.salary += num\n",
    "        print(f'Зряплата выросла до {self.salary}') \n",
    "    \n",
    "    def print_(self, text=''):\n",
    "        print(f'Сотрудник {self.name}, зарплата {self.salary}. {text}')"
   ]
  },
  {
   "cell_type": "code",
   "execution_count": 6,
   "metadata": {},
   "outputs": [],
   "source": [
    "emp = Employee('Иван', 40)"
   ]
  },
  {
   "cell_type": "code",
   "execution_count": 7,
   "metadata": {},
   "outputs": [
    {
     "data": {
      "text/plain": "('Иван', 40)"
     },
     "execution_count": 7,
     "metadata": {},
     "output_type": "execute_result"
    }
   ],
   "source": [
    "emp.name, emp.salary"
   ]
  },
  {
   "cell_type": "code",
   "execution_count": 8,
   "metadata": {},
   "outputs": [
    {
     "name": "stdout",
     "output_type": "stream",
     "text": [
      "Сотрудник Иван, зарплата 40. \n"
     ]
    }
   ],
   "source": [
    "emp.print_()"
   ]
  },
  {
   "cell_type": "code",
   "execution_count": 15,
   "metadata": {},
   "outputs": [
    {
     "name": "stdout",
     "output_type": "stream",
     "text": [
      "Зряплата выросла до 740\n"
     ]
    }
   ],
   "source": [
    "emp.up()"
   ]
  },
  {
   "cell_type": "code",
   "execution_count": 16,
   "metadata": {},
   "outputs": [],
   "source": [
    "elena = Employee('Елена', 200)"
   ]
  },
  {
   "cell_type": "code",
   "execution_count": 25,
   "metadata": {},
   "outputs": [
    {
     "name": "stdout",
     "output_type": "stream",
     "text": [
      "Зряплата выросла до 800\n"
     ]
    }
   ],
   "source": [
    "elena.up()"
   ]
  },
  {
   "cell_type": "code",
   "execution_count": 19,
   "metadata": {},
   "outputs": [
    {
     "data": {
      "text/plain": "('Елена', 300)"
     },
     "execution_count": 19,
     "metadata": {},
     "output_type": "execute_result"
    }
   ],
   "source": [
    "elena.name, elena.salary"
   ]
  },
  {
   "cell_type": "code",
   "execution_count": 26,
   "metadata": {},
   "outputs": [
    {
     "name": "stdout",
     "output_type": "stream",
     "text": [
      "Сотрудник Елена, зарплата 800. \n"
     ]
    }
   ],
   "source": [
    "elena.print_()"
   ]
  },
  {
   "cell_type": "code",
   "execution_count": 27,
   "metadata": {},
   "outputs": [],
   "source": [
    "class Employee:\n",
    "    def _init_(self, name, salary):\n",
    "        self.name = name\n",
    "        self.salary = salary\n",
    "    \n",
    "    def up(self):\n",
    "        self.salary += 100\n",
    "        # return self.salary\n",
    "    \n",
    "    def print_(self):\n",
    "        print(f'Сотрудник {self.name}, зарплата {self.salary}')"
   ]
  },
  {
   "cell_type": "code",
   "execution_count": 28,
   "metadata": {},
   "outputs": [],
   "source": [
    "current_salary = elena.salary"
   ]
  },
  {
   "cell_type": "code",
   "execution_count": 29,
   "metadata": {},
   "outputs": [],
   "source": [
    "class Employee:\n",
    "    def __init__(name, salary):\n",
    "        self.name = name\n",
    "        self.salary = salary\n",
    "    \n",
    "    def up(self):\n",
    "        new_salary = self.salary + 100\n",
    "        return new_salary\n",
    "    \n",
    "    def print_(self):\n",
    "        line = f\"{self.name}, зарплата {self.salary}\"\n",
    "        return line"
   ]
  },
  {
   "cell_type": "markdown",
   "metadata": {},
   "source": [
    "### Полная версия класса"
   ]
  },
  {
   "cell_type": "code",
   "execution_count": 38,
   "metadata": {},
   "outputs": [],
   "source": [
    "import requests"
   ]
  },
  {
   "cell_type": "code",
   "execution_count": 39,
   "metadata": {},
   "outputs": [],
   "source": [
    "class Rate:\n",
    "    \"\"\"\n",
    "    \n",
    "    \"\"\"\n",
    "    def __init__(self, format_='value'):\n",
    "        self.format = format_\n",
    "    \n",
    "    def exchange_rates(self):\n",
    "        \"\"\"\n",
    "        Возвращает ответ сервиса с информацией о валютах в виде:\n",
    "        \n",
    "        {\n",
    "            'AMD': {\n",
    "                'CharCode': 'AMD',\n",
    "                'ID': 'R01060',\n",
    "                'Name': 'Армянских драмов',\n",
    "                'Nominal': 100,\n",
    "                'NumCode': '051',\n",
    "                'Previous': 14.103,\n",
    "                'Value': 14.0879\n",
    "                },\n",
    "            ...\n",
    "        }\n",
    "        \"\"\"\n",
    "        self.r = requests.get('https://www.cbr-xml-daily.ru/daily_json.js')\n",
    "        return self.r.json()['Valute']\n",
    "    \n",
    "    def make_format(self, currency):\n",
    "        \"\"\"\n",
    "        Возвращает информацию о валюте currency в двух вариантах:\n",
    "        - полная информация о валюте при self.format = 'full':\n",
    "        Rate('full').make_format('EUR')\n",
    "        {\n",
    "            'CharCode': 'EUR',\n",
    "            'ID': 'R01239',\n",
    "            'Name': 'Евро',\n",
    "            'Nominal': 1,\n",
    "            'NumCode': '978',\n",
    "            'Previous': 79.6765,\n",
    "            'Value': 79.4966\n",
    "        }\n",
    "        \n",
    "        Rate('value').make_format('EUR')\n",
    "        79.4966\n",
    "        \"\"\"\n",
    "        response = self.exchange_rates()\n",
    "        \n",
    "        if currency in response:\n",
    "            if self.format == 'full':\n",
    "                return response[currency]\n",
    "            \n",
    "            if self.format == 'value':\n",
    "                return response[currency]['Value']\n",
    "        \n",
    "        return 'Error'\n",
    "    \n",
    "    def eur(self):\n",
    "        \"\"\"Возвращает курс евро на сегодня в формате self.format\"\"\"\n",
    "        return self.make_format('EUR')\n",
    "    \n",
    "    def usd(self):\n",
    "        \"\"\"Возвращает курс доллара на сегодня в формате self.format\"\"\"\n",
    "        return self.make_format('USD')\n",
    "    \n",
    "    def brl(self):\n",
    "        \"\"\"Возвращает курс бразильского реала на сегодня в формате self.format\"\"\"\n",
    "        return self.make_format('BRL')"
   ]
  },
  {
   "cell_type": "markdown",
   "source": [],
   "metadata": {
    "collapsed": false
   }
  },
  {
   "cell_type": "markdown",
   "source": [],
   "metadata": {
    "collapsed": false
   }
  },
  {
   "cell_type": "code",
   "execution_count": 40,
   "metadata": {},
   "outputs": [],
   "source": [
    "r = Rate(format_='full')"
   ]
  },
  {
   "cell_type": "code",
   "execution_count": 41,
   "metadata": {
    "scrolled": true
   },
   "outputs": [
    {
     "data": {
      "text/plain": "{'ID': 'R01035',\n 'NumCode': '826',\n 'CharCode': 'GBP',\n 'Nominal': 1,\n 'Name': 'Фунт стерлингов Соединенного королевства',\n 'Value': 89.7928,\n 'Previous': 89.739}"
     },
     "execution_count": 41,
     "metadata": {},
     "output_type": "execute_result"
    }
   ],
   "source": [
    "r.make_format('GBP')"
   ]
  },
  {
   "cell_type": "code",
   "execution_count": 42,
   "metadata": {},
   "outputs": [
    {
     "data": {
      "text/plain": "{'ID': 'R01235',\n 'NumCode': '840',\n 'CharCode': 'USD',\n 'Nominal': 1,\n 'Name': 'Доллар США',\n 'Value': 74.7588,\n 'Previous': 74.7638}"
     },
     "execution_count": 42,
     "metadata": {},
     "output_type": "execute_result"
    }
   ],
   "source": [
    "r.usd()"
   ]
  },
  {
   "cell_type": "code",
   "execution_count": 43,
   "metadata": {},
   "outputs": [],
   "source": [
    "r = Rate()"
   ]
  },
  {
   "cell_type": "code",
   "execution_count": 44,
   "metadata": {},
   "outputs": [
    {
     "data": {
      "text/plain": "{'AUD': {'ID': 'R01010',\n  'NumCode': '036',\n  'CharCode': 'AUD',\n  'Nominal': 1,\n  'Name': 'Австралийский доллар',\n  'Value': 51.1574,\n  'Previous': 51.7515},\n 'AZN': {'ID': 'R01020A',\n  'NumCode': '944',\n  'CharCode': 'AZN',\n  'Nominal': 1,\n  'Name': 'Азербайджанский манат',\n  'Value': 43.9758,\n  'Previous': 43.9787},\n 'GBP': {'ID': 'R01035',\n  'NumCode': '826',\n  'CharCode': 'GBP',\n  'Nominal': 1,\n  'Name': 'Фунт стерлингов Соединенного королевства',\n  'Value': 89.7928,\n  'Previous': 89.739},\n 'AMD': {'ID': 'R01060',\n  'NumCode': '051',\n  'CharCode': 'AMD',\n  'Nominal': 100,\n  'Name': 'Армянских драмов',\n  'Value': 19.0279,\n  'Previous': 18.9987},\n 'BYN': {'ID': 'R01090B',\n  'NumCode': '933',\n  'CharCode': 'BYN',\n  'Nominal': 1,\n  'Name': 'Белорусский рубль',\n  'Value': 26.5837,\n  'Previous': 26.7185},\n 'BGN': {'ID': 'R01100',\n  'NumCode': '975',\n  'CharCode': 'BGN',\n  'Nominal': 1,\n  'Name': 'Болгарский лев',\n  'Value': 40.8987,\n  'Previous': 40.9015},\n 'BRL': {'ID': 'R01115',\n  'NumCode': '986',\n  'CharCode': 'BRL',\n  'Nominal': 1,\n  'Name': 'Бразильский реал',\n  'Value': 14.2591,\n  'Previous': 14.3116},\n 'HUF': {'ID': 'R01135',\n  'NumCode': '348',\n  'CharCode': 'HUF',\n  'Nominal': 100,\n  'Name': 'Венгерских форинтов',\n  'Value': 20.622,\n  'Previous': 20.9235},\n 'VND': {'ID': 'R01150',\n  'NumCode': '704',\n  'CharCode': 'VND',\n  'Nominal': 10000,\n  'Name': 'Вьетнамских донгов',\n  'Value': 31.6252,\n  'Previous': 31.6313},\n 'HKD': {'ID': 'R01200',\n  'NumCode': '344',\n  'CharCode': 'HKD',\n  'Nominal': 10,\n  'Name': 'Гонконгских долларов',\n  'Value': 95.4652,\n  'Previous': 95.4228},\n 'GEL': {'ID': 'R01210',\n  'NumCode': '981',\n  'CharCode': 'GEL',\n  'Nominal': 1,\n  'Name': 'Грузинский лари',\n  'Value': 28.2813,\n  'Previous': 28.1787},\n 'DKK': {'ID': 'R01215',\n  'NumCode': '208',\n  'CharCode': 'DKK',\n  'Nominal': 1,\n  'Name': 'Датская крона',\n  'Value': 10.7386,\n  'Previous': 10.7358},\n 'AED': {'ID': 'R01230',\n  'NumCode': '784',\n  'CharCode': 'AED',\n  'Nominal': 1,\n  'Name': 'Дирхам ОАЭ',\n  'Value': 20.3536,\n  'Previous': 20.3555},\n 'USD': {'ID': 'R01235',\n  'NumCode': '840',\n  'CharCode': 'USD',\n  'Nominal': 1,\n  'Name': 'Доллар США',\n  'Value': 74.7588,\n  'Previous': 74.7638},\n 'EUR': {'ID': 'R01239',\n  'NumCode': '978',\n  'CharCode': 'EUR',\n  'Nominal': 1,\n  'Name': 'Евро',\n  'Value': 79.6104,\n  'Previous': 79.9764},\n 'EGP': {'ID': 'R01240',\n  'NumCode': '818',\n  'CharCode': 'EGP',\n  'Nominal': 10,\n  'Name': 'Египетских фунтов',\n  'Value': 24.4664,\n  'Previous': 24.468},\n 'INR': {'ID': 'R01270',\n  'NumCode': '356',\n  'CharCode': 'INR',\n  'Nominal': 100,\n  'Name': 'Индийских рупий',\n  'Value': 90.5304,\n  'Previous': 90.5018},\n 'IDR': {'ID': 'R01280',\n  'NumCode': '360',\n  'CharCode': 'IDR',\n  'Nominal': 10000,\n  'Name': 'Индонезийских рупий',\n  'Value': 49.2612,\n  'Previous': 49.2061},\n 'KZT': {'ID': 'R01335',\n  'NumCode': '398',\n  'CharCode': 'KZT',\n  'Nominal': 100,\n  'Name': 'Казахстанских тенге',\n  'Value': 16.8342,\n  'Previous': 16.7148},\n 'CAD': {'ID': 'R01350',\n  'NumCode': '124',\n  'CharCode': 'CAD',\n  'Nominal': 1,\n  'Name': 'Канадский доллар',\n  'Value': 55.6282,\n  'Previous': 55.7481},\n 'QAR': {'ID': 'R01355',\n  'NumCode': '634',\n  'CharCode': 'QAR',\n  'Nominal': 1,\n  'Name': 'Катарский риал',\n  'Value': 20.5381,\n  'Previous': 20.5395},\n 'KGS': {'ID': 'R01370',\n  'NumCode': '417',\n  'CharCode': 'KGS',\n  'Nominal': 100,\n  'Name': 'Киргизских сомов',\n  'Value': 85.5168,\n  'Previous': 85.5226},\n 'CNY': {'ID': 'R01375',\n  'NumCode': '156',\n  'CharCode': 'CNY',\n  'Nominal': 1,\n  'Name': 'Китайский юань',\n  'Value': 10.8409,\n  'Previous': 10.8855},\n 'MDL': {'ID': 'R01500',\n  'NumCode': '498',\n  'CharCode': 'MDL',\n  'Nominal': 10,\n  'Name': 'Молдавских леев',\n  'Value': 39.9323,\n  'Previous': 39.92},\n 'NZD': {'ID': 'R01530',\n  'NumCode': '554',\n  'CharCode': 'NZD',\n  'Nominal': 1,\n  'Name': 'Новозеландский доллар',\n  'Value': 46.6794,\n  'Previous': 46.8021},\n 'NOK': {'ID': 'R01535',\n  'NumCode': '578',\n  'CharCode': 'NOK',\n  'Nominal': 10,\n  'Name': 'Норвежских крон',\n  'Value': 72.2,\n  'Previous': 73.2382},\n 'PLN': {'ID': 'R01565',\n  'NumCode': '985',\n  'CharCode': 'PLN',\n  'Nominal': 1,\n  'Name': 'Польский злотый',\n  'Value': 16.6234,\n  'Previous': 16.7579},\n 'RON': {'ID': 'R01585F',\n  'NumCode': '946',\n  'CharCode': 'RON',\n  'Nominal': 1,\n  'Name': 'Румынский лей',\n  'Value': 16.2255,\n  'Previous': 16.339},\n 'XDR': {'ID': 'R01589',\n  'NumCode': '960',\n  'CharCode': 'XDR',\n  'Nominal': 1,\n  'Name': 'СДР (специальные права заимствования)',\n  'Value': 99.9181,\n  'Previous': 99.9876},\n 'SGD': {'ID': 'R01625',\n  'NumCode': '702',\n  'CharCode': 'SGD',\n  'Nominal': 1,\n  'Name': 'Сингапурский доллар',\n  'Value': 55.8151,\n  'Previous': 56.0406},\n 'TJS': {'ID': 'R01670',\n  'NumCode': '972',\n  'CharCode': 'TJS',\n  'Nominal': 10,\n  'Name': 'Таджикских сомони',\n  'Value': 71.0662,\n  'Previous': 71.4179},\n 'THB': {'ID': 'R01675',\n  'NumCode': '764',\n  'CharCode': 'THB',\n  'Nominal': 10,\n  'Name': 'Таиландских батов',\n  'Value': 21.6774,\n  'Previous': 21.8523},\n 'TRY': {'ID': 'R01700J',\n  'NumCode': '949',\n  'CharCode': 'TRY',\n  'Nominal': 10,\n  'Name': 'Турецких лир',\n  'Value': 39.6622,\n  'Previous': 39.6726},\n 'TMT': {'ID': 'R01710A',\n  'NumCode': '934',\n  'CharCode': 'TMT',\n  'Nominal': 1,\n  'Name': 'Новый туркменский манат',\n  'Value': 21.3597,\n  'Previous': 21.3611},\n 'UZS': {'ID': 'R01717',\n  'NumCode': '860',\n  'CharCode': 'UZS',\n  'Nominal': 10000,\n  'Name': 'Узбекских сумов',\n  'Value': 65.8439,\n  'Previous': 65.7612},\n 'UAH': {'ID': 'R01720',\n  'NumCode': '980',\n  'CharCode': 'UAH',\n  'Nominal': 10,\n  'Name': 'Украинских гривен',\n  'Value': 20.3353,\n  'Previous': 20.2491},\n 'CZK': {'ID': 'R01760',\n  'NumCode': '203',\n  'CharCode': 'CZK',\n  'Nominal': 10,\n  'Name': 'Чешских крон',\n  'Value': 33.7725,\n  'Previous': 33.8038},\n 'SEK': {'ID': 'R01770',\n  'NumCode': '752',\n  'CharCode': 'SEK',\n  'Nominal': 10,\n  'Name': 'Шведских крон',\n  'Value': 71.0574,\n  'Previous': 72.0004},\n 'CHF': {'ID': 'R01775',\n  'NumCode': '756',\n  'CharCode': 'CHF',\n  'Nominal': 1,\n  'Name': 'Швейцарский франк',\n  'Value': 80.1961,\n  'Previous': 81.0184},\n 'RSD': {'ID': 'R01805F',\n  'NumCode': '941',\n  'CharCode': 'RSD',\n  'Nominal': 100,\n  'Name': 'Сербских динаров',\n  'Value': 67.7894,\n  'Previous': 68.4269},\n 'ZAR': {'ID': 'R01810',\n  'NumCode': '710',\n  'CharCode': 'ZAR',\n  'Nominal': 10,\n  'Name': 'Южноафриканских рэндов',\n  'Value': 40.9162,\n  'Previous': 41.5244},\n 'KRW': {'ID': 'R01815',\n  'NumCode': '410',\n  'CharCode': 'KRW',\n  'Nominal': 1000,\n  'Name': 'Вон Республики Корея',\n  'Value': 57.5289,\n  'Previous': 58.191},\n 'JPY': {'ID': 'R01820',\n  'NumCode': '392',\n  'CharCode': 'JPY',\n  'Nominal': 100,\n  'Name': 'Японских иен',\n  'Value': 55.6655,\n  'Previous': 55.7731}}"
     },
     "execution_count": 44,
     "metadata": {},
     "output_type": "execute_result"
    }
   ],
   "source": [
    "r.exchange_rates()"
   ]
  },
  {
   "cell_type": "markdown",
   "metadata": {},
   "source": [
    "Документация необходима почти всем методам"
   ]
  },
  {
   "cell_type": "code",
   "execution_count": 45,
   "metadata": {},
   "outputs": [],
   "source": [
    "?r.exchange_rates"
   ]
  },
  {
   "cell_type": "markdown",
   "metadata": {},
   "source": [
    "# Система повышения сотрудников"
   ]
  },
  {
   "cell_type": "markdown",
   "metadata": {},
   "source": [
    "### Упражнение\n",
    "Создайте класс Employee. При инициализации указываются имя сотрудника (name) и трудовой стаж в пройденных аккредитациях (seniority). Напишите метод init, в котором задаются соответствующие переменные - self.name и self.seniority."
   ]
  },
  {
   "cell_type": "code",
   "execution_count": 47,
   "metadata": {},
   "outputs": [],
   "source": [
    "class Employee:\n",
    "    def __init__(self, name, seniority):\n",
    "        self.name = name\n",
    "        self.seniority = seniority\n",
    "        self.grade = 0\n",
    "\n",
    "    def grade_up(self):\n",
    "        self.grade += 1"
   ]
  },
  {
   "cell_type": "code",
   "execution_count": 59,
   "metadata": {},
   "outputs": [],
   "source": [
    "person_1 = Employee(\"first\", 0)\n"
   ]
  },
  {
   "cell_type": "code",
   "execution_count": 66,
   "metadata": {},
   "outputs": [],
   "source": [
    "person_1.grade_up()\n"
   ]
  },
  {
   "cell_type": "code",
   "execution_count": 67,
   "outputs": [
    {
     "name": "stdout",
     "output_type": "stream",
     "text": [
      "6\n"
     ]
    }
   ],
   "source": [
    "print(person_1.grade)"
   ],
   "metadata": {
    "collapsed": false
   }
  },
  {
   "cell_type": "markdown",
   "metadata": {},
   "source": [
    "### Упражнение\n",
    "Заведите переменную self.grade при инициализации класса со значением 0. Добавьте метод grade_up, который увеличивает это значение на 1. На всякий случай - этот метод может ничего не возвращать, только изменять переменную."
   ]
  },
  {
   "cell_type": "code",
   "execution_count": null,
   "metadata": {},
   "outputs": [],
   "source": []
  },
  {
   "cell_type": "code",
   "execution_count": null,
   "metadata": {},
   "outputs": [],
   "source": []
  },
  {
   "cell_type": "code",
   "execution_count": null,
   "metadata": {},
   "outputs": [],
   "source": []
  },
  {
   "cell_type": "markdown",
   "metadata": {},
   "source": [
    "# Наследование"
   ]
  },
  {
   "cell_type": "markdown",
   "metadata": {},
   "source": [
    "Разработчикам финансового департамента помимо курса надо работать с кодами валют. Как сохранить сохранить разработку класса Rate у нас, а полезные функции передать финансистам?"
   ]
  },
  {
   "cell_type": "code",
   "execution_count": 69,
   "metadata": {},
   "outputs": [],
   "source": [
    "class CurrencyCodes(Rate):\n",
    "    def __init__(self):\n",
    "        super().__init__(format_='full')"
   ]
  },
  {
   "cell_type": "markdown",
   "metadata": {},
   "source": [
    "Теперь классу CurrencyCodes доступны все методы класса Rate. Можем продолжать разработку в нужном направлении."
   ]
  },
  {
   "cell_type": "code",
   "execution_count": 70,
   "metadata": {},
   "outputs": [],
   "source": [
    "cc = CurrencyCodes()"
   ]
  },
  {
   "cell_type": "code",
   "execution_count": 71,
   "metadata": {},
   "outputs": [
    {
     "data": {
      "text/plain": "{'ID': 'R01235',\n 'NumCode': '840',\n 'CharCode': 'USD',\n 'Nominal': 1,\n 'Name': 'Доллар США',\n 'Value': 74.7588,\n 'Previous': 74.7638}"
     },
     "execution_count": 71,
     "metadata": {},
     "output_type": "execute_result"
    }
   ],
   "source": [
    "CurrencyCodes().usd()"
   ]
  },
  {
   "cell_type": "markdown",
   "metadata": {},
   "source": [
    "Допишем в класс что-нибудь свое новенькое"
   ]
  },
  {
   "cell_type": "code",
   "execution_count": 72,
   "metadata": {},
   "outputs": [],
   "source": [
    "class CurrencyCodes(Rate):\n",
    "    def __init__(self):\n",
    "        super().__init__(format_='full')\n",
    "    \n",
    "    def currency_id(self, currency):\n",
    "        \"\"\"Получение идентификатора валюты\"\"\"\n",
    "        return self.make_format(currency)['ID']"
   ]
  },
  {
   "cell_type": "code",
   "execution_count": 73,
   "metadata": {},
   "outputs": [],
   "source": [
    "currency = CurrencyCodes()"
   ]
  },
  {
   "cell_type": "code",
   "execution_count": 74,
   "metadata": {},
   "outputs": [
    {
     "data": {
      "text/plain": "'R01235'"
     },
     "execution_count": 74,
     "metadata": {},
     "output_type": "execute_result"
    }
   ],
   "source": [
    "currency.currency_id('USD')"
   ]
  },
  {
   "cell_type": "markdown",
   "metadata": {},
   "source": [
    "# Система повышения сотрудников\n",
    "Пригодится для домашнего задания"
   ]
  },
  {
   "cell_type": "code",
   "execution_count": 72,
   "metadata": {},
   "outputs": [],
   "source": [
    "class Employee:\n",
    "    def __init__(self, name, seniority):\n",
    "        self.name = name\n",
    "        self.seniority = seniority\n",
    "        \n",
    "        self.grade = 1\n",
    "    \n",
    "    def grade_up(self):\n",
    "        \"\"\"Повышает уровень сотрудника\"\"\"\n",
    "        self.grade += 1\n",
    "    \n",
    "    def publish_grade(self):\n",
    "        \"\"\"Публикация результатов аккредитации сотрудников\"\"\"\n",
    "        print(self.name, self.grade)\n",
    "    \n",
    "    def check_if_it_is_time_for_upgrade(self):\n",
    "        pass"
   ]
  },
  {
   "cell_type": "code",
   "execution_count": 73,
   "metadata": {},
   "outputs": [],
   "source": [
    "class Developer(Employee):\n",
    "    def __init__(self, name, seniority):\n",
    "        super().__init__(name, seniority)\n",
    "    \n",
    "    def check_if_it_is_time_for_upgrade(self):\n",
    "        # для каждой аккредитации увеличиваем счетчик на 1\n",
    "        # пока считаем, что все разработчики проходят аккредитацию\n",
    "        self.seniority += 1\n",
    "        \n",
    "        # условие повышения сотрудника из презентации\n",
    "        if self.seniority % 5 == 0:\n",
    "            self.grade_up()\n",
    "        \n",
    "        # публикация результатов\n",
    "        return self.publish_grade()"
   ]
  },
  {
   "cell_type": "code",
   "execution_count": 74,
   "metadata": {},
   "outputs": [],
   "source": [
    "# проверяем как работает система повышения сотрудников на примере отдела разработки\n",
    "\n",
    "# разработчик Александр только что пришел в компанию\n",
    "alex = Developer('Александр', 0)"
   ]
  },
  {
   "cell_type": "code",
   "execution_count": 75,
   "metadata": {},
   "outputs": [
    {
     "name": "stdout",
     "output_type": "stream",
     "text": [
      "Александр 1\n",
      "Александр 1\n",
      "Александр 1\n",
      "Александр 1\n",
      "Александр 2\n",
      "Александр 2\n",
      "Александр 2\n",
      "Александр 2\n",
      "Александр 2\n",
      "Александр 3\n",
      "Александр 3\n",
      "Александр 3\n",
      "Александр 3\n",
      "Александр 3\n",
      "Александр 4\n",
      "Александр 4\n",
      "Александр 4\n",
      "Александр 4\n",
      "Александр 4\n",
      "Александр 5\n"
     ]
    }
   ],
   "source": [
    "for i in range(20):\n",
    "    alex.check_if_it_is_time_for_upgrade()"
   ]
  },
  {
   "cell_type": "markdown",
   "metadata": {},
   "source": [
    "# Домашнее задание задача 3\n",
    "\n",
    "Напишите класс Designer, который учитывает количество международных премий для дизайнеров (из презентации: \"Повышение на 1 грейд за каждые 7 баллов. Получение международной премии – это +2 балла\"). Считайте, что при выходе на работу сотрудник уже имеет две премии и их количество не меняется со стажем (конечно если хотите это можно вручную менять). Выполните проверку для 20 аккредитаций дизайнера Елены.\n",
    "\n",
    "Для проверки используйте код:"
   ]
  },
  {
   "cell_type": "code",
   "execution_count": 94,
   "metadata": {},
   "outputs": [],
   "source": [
    "\n",
    "\n",
    "class Designer:\n",
    "    def __init__(self, name, seniority, awards):\n",
    "        self.name = name\n",
    "        self.seniority = seniority + (awards * 2)\n",
    "        self.grade = 0\n",
    "        self.awards = awards\n",
    "\n",
    "    def grade_up(self):\n",
    "        self.grade += 1\n",
    "\n",
    "    def check_if_it_is_time_for_upgrade(self):\n",
    "        self.seniority += 1\n",
    "        if self.seniority % (7 + self.grade) == 0:\n",
    "            self.grade_up()\n",
    "            self.seniority = 0\n",
    "        return self.publish_grade()\n",
    "\n",
    "\n",
    "    def publish_grade(self):\n",
    "\n",
    "        print(f\"Дизайнер-{self.name}     Специалитет: Освоенно:{self.seniority}  Необходимо:{7 + self.grade}     Прогресс-{self.grade}\")\n",
    "\n",
    "\n",
    "elena = Designer('Елена', seniority=0, awards=2)\n",
    "\n",
    "\n",
    "\n"
   ]
  },
  {
   "cell_type": "code",
   "execution_count": 95,
   "metadata": {},
   "outputs": [
    {
     "name": "stdout",
     "output_type": "stream",
     "text": [
      "Дизайнер-Елена     Специалитет: Освоенно:5  Необходимо:7     Прогресс-0\n",
      "Дизайнер-Елена     Специалитет: Освоенно:6  Необходимо:7     Прогресс-0\n",
      "Дизайнер-Елена     Специалитет: Освоенно:0  Необходимо:8     Прогресс-1\n",
      "Дизайнер-Елена     Специалитет: Освоенно:1  Необходимо:8     Прогресс-1\n",
      "Дизайнер-Елена     Специалитет: Освоенно:2  Необходимо:8     Прогресс-1\n",
      "Дизайнер-Елена     Специалитет: Освоенно:3  Необходимо:8     Прогресс-1\n",
      "Дизайнер-Елена     Специалитет: Освоенно:4  Необходимо:8     Прогресс-1\n",
      "Дизайнер-Елена     Специалитет: Освоенно:5  Необходимо:8     Прогресс-1\n",
      "Дизайнер-Елена     Специалитет: Освоенно:6  Необходимо:8     Прогресс-1\n",
      "Дизайнер-Елена     Специалитет: Освоенно:7  Необходимо:8     Прогресс-1\n",
      "Дизайнер-Елена     Специалитет: Освоенно:0  Необходимо:9     Прогресс-2\n",
      "Дизайнер-Елена     Специалитет: Освоенно:1  Необходимо:9     Прогресс-2\n",
      "Дизайнер-Елена     Специалитет: Освоенно:2  Необходимо:9     Прогресс-2\n",
      "Дизайнер-Елена     Специалитет: Освоенно:3  Необходимо:9     Прогресс-2\n",
      "Дизайнер-Елена     Специалитет: Освоенно:4  Необходимо:9     Прогресс-2\n",
      "Дизайнер-Елена     Специалитет: Освоенно:5  Необходимо:9     Прогресс-2\n",
      "Дизайнер-Елена     Специалитет: Освоенно:6  Необходимо:9     Прогресс-2\n",
      "Дизайнер-Елена     Специалитет: Освоенно:7  Необходимо:9     Прогресс-2\n",
      "Дизайнер-Елена     Специалитет: Освоенно:8  Необходимо:9     Прогресс-2\n",
      "Дизайнер-Елена     Специалитет: Освоенно:0  Необходимо:10     Прогресс-3\n"
     ]
    }
   ],
   "source": [
    "for i in range(20):\n",
    "    elena.check_if_it_is_time_for_upgrade()"
   ]
  },
  {
   "cell_type": "markdown",
   "metadata": {},
   "source": [
    "# Импорт классов и функций"
   ]
  },
  {
   "cell_type": "code",
   "execution_count": 76,
   "metadata": {},
   "outputs": [],
   "source": [
    "from libs.exchange import my_sum"
   ]
  },
  {
   "cell_type": "code",
   "execution_count": 77,
   "metadata": {},
   "outputs": [
    {
     "data": {
      "text/plain": [
       "3"
      ]
     },
     "execution_count": 77,
     "metadata": {},
     "output_type": "execute_result"
    }
   ],
   "source": [
    "my_sum(1, 2)"
   ]
  },
  {
   "cell_type": "code",
   "execution_count": 78,
   "metadata": {},
   "outputs": [],
   "source": [
    "from libs.exchange import Rate"
   ]
  },
  {
   "cell_type": "code",
   "execution_count": 79,
   "metadata": {},
   "outputs": [
    {
     "data": {
      "text/plain": [
       "39.0129"
      ]
     },
     "execution_count": 79,
     "metadata": {},
     "output_type": "execute_result"
    }
   ],
   "source": [
    "Rate().AZN()"
   ]
  },
  {
   "cell_type": "code",
   "execution_count": null,
   "metadata": {},
   "outputs": [],
   "source": [
    "# такой способ импорта крайне не рекомендуется\n",
    "from libs.exchange import *"
   ]
  },
  {
   "cell_type": "markdown",
   "metadata": {},
   "source": [
    "Если библиотека лежит в произвольной папке"
   ]
  },
  {
   "cell_type": "code",
   "execution_count": 80,
   "metadata": {},
   "outputs": [
    {
     "data": {
      "text/plain": [
       "['/Users/kbashevoy/Desktop/Нетология/Занятия/Занятие 8',\n",
       " '/Users/kbashevoy/anaconda3/lib/python37.zip',\n",
       " '/Users/kbashevoy/anaconda3/lib/python3.7',\n",
       " '/Users/kbashevoy/anaconda3/lib/python3.7/lib-dynload',\n",
       " '',\n",
       " '/Users/kbashevoy/.local/lib/python3.7/site-packages',\n",
       " '/Users/kbashevoy/anaconda3/lib/python3.7/site-packages',\n",
       " '/Users/kbashevoy/anaconda3/lib/python3.7/site-packages/aeosa',\n",
       " '/Users/kbashevoy/anaconda3/lib/python3.7/site-packages/IPython/extensions',\n",
       " '/Users/kbashevoy/.ipython']"
      ]
     },
     "execution_count": 80,
     "metadata": {},
     "output_type": "execute_result"
    }
   ],
   "source": [
    "import sys\n",
    "sys.path"
   ]
  },
  {
   "cell_type": "code",
   "execution_count": null,
   "metadata": {},
   "outputs": [],
   "source": [
    "import sys\n",
    "sys.path.append('адрес_папки_с_файлами')"
   ]
  },
  {
   "cell_type": "code",
   "execution_count": 81,
   "metadata": {},
   "outputs": [],
   "source": [
    "# пример\n",
    "\n",
    "import sys\n",
    "sys.path.append('/Users/kbashevoy/Desktop/Нетология/Занятия/Занятие 8/libs')"
   ]
  },
  {
   "cell_type": "code",
   "execution_count": 82,
   "metadata": {},
   "outputs": [],
   "source": [
    "from exchange import my_sum"
   ]
  },
  {
   "cell_type": "code",
   "execution_count": 83,
   "metadata": {},
   "outputs": [
    {
     "data": {
      "text/plain": [
       "6"
      ]
     },
     "execution_count": 83,
     "metadata": {},
     "output_type": "execute_result"
    }
   ],
   "source": [
    "my_sum(3, 3)"
   ]
  }
 ],
 "metadata": {
  "kernelspec": {
   "display_name": "Python 3",
   "language": "python",
   "name": "python3"
  },
  "language_info": {
   "codemirror_mode": {
    "name": "ipython",
    "version": 3
   },
   "file_extension": ".py",
   "mimetype": "text/x-python",
   "name": "python",
   "nbconvert_exporter": "python",
   "pygments_lexer": "ipython3",
   "version": "3.7.0"
  }
 },
 "nbformat": 4,
 "nbformat_minor": 2
}
