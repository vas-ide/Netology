{
 "cells": [
  {
   "cell_type": "markdown",
   "metadata": {},
   "source": [
    "# Что будет\n",
    "- сводные таблицы\n",
    "- фильтры и вычисления с помощью метода loc\n",
    "- фильтрация пустых значений через isnull\n",
    "- время в pandas\n",
    "- строковые методы\n",
    "- немного про учет форм слов"
   ]
  },
  {
   "cell_type": "markdown",
   "metadata": {},
   "source": [
    "# Сводные таблицы\n",
    "Прям как в экселе"
   ]
  },
  {
   "cell_type": "code",
   "execution_count": 1,
   "metadata": {
    "ExecuteTime": {
     "start_time": "2023-03-13T10:36:31.876233Z",
     "end_time": "2023-03-13T10:36:33.292051Z"
    }
   },
   "outputs": [],
   "source": [
    "import pandas as pd"
   ]
  },
  {
   "cell_type": "code",
   "execution_count": 2,
   "metadata": {
    "scrolled": true,
    "ExecuteTime": {
     "start_time": "2023-03-13T10:36:33.296151Z",
     "end_time": "2023-03-13T10:36:33.339460Z"
    }
   },
   "outputs": [
    {
     "data": {
      "text/plain": "   userId  movieId  rating   timestamp\n0       1       31     2.5  1260759144\n1       1     1029     3.0  1260759179\n2       1     1061     3.0  1260759182\n3       1     1129     2.0  1260759185\n4       1     1172     4.0  1260759205",
      "text/html": "<div>\n<style scoped>\n    .dataframe tbody tr th:only-of-type {\n        vertical-align: middle;\n    }\n\n    .dataframe tbody tr th {\n        vertical-align: top;\n    }\n\n    .dataframe thead th {\n        text-align: right;\n    }\n</style>\n<table border=\"1\" class=\"dataframe\">\n  <thead>\n    <tr style=\"text-align: right;\">\n      <th></th>\n      <th>userId</th>\n      <th>movieId</th>\n      <th>rating</th>\n      <th>timestamp</th>\n    </tr>\n  </thead>\n  <tbody>\n    <tr>\n      <th>0</th>\n      <td>1</td>\n      <td>31</td>\n      <td>2.5</td>\n      <td>1260759144</td>\n    </tr>\n    <tr>\n      <th>1</th>\n      <td>1</td>\n      <td>1029</td>\n      <td>3.0</td>\n      <td>1260759179</td>\n    </tr>\n    <tr>\n      <th>2</th>\n      <td>1</td>\n      <td>1061</td>\n      <td>3.0</td>\n      <td>1260759182</td>\n    </tr>\n    <tr>\n      <th>3</th>\n      <td>1</td>\n      <td>1129</td>\n      <td>2.0</td>\n      <td>1260759185</td>\n    </tr>\n    <tr>\n      <th>4</th>\n      <td>1</td>\n      <td>1172</td>\n      <td>4.0</td>\n      <td>1260759205</td>\n    </tr>\n  </tbody>\n</table>\n</div>"
     },
     "execution_count": 2,
     "metadata": {},
     "output_type": "execute_result"
    }
   ],
   "source": [
    "ratings = pd.read_csv('ml-latest-small/ratings.csv')\n",
    "ratings.head()"
   ]
  },
  {
   "cell_type": "markdown",
   "metadata": {},
   "source": [
    "### Упражнение\n",
    "Какие оценки поставил пользователь №1 и в каком количестве?\n",
    "\n",
    "Что делаем:\n",
    "1. Фильтруем датафрейм ratings для userId = 1\n",
    "2. Считаем для этого пользователя сколько он выставил единиц, двоек итд"
   ]
  },
  {
   "cell_type": "code",
   "execution_count": 3,
   "metadata": {
    "ExecuteTime": {
     "start_time": "2023-03-13T10:36:33.331965Z",
     "end_time": "2023-03-13T10:36:33.339460Z"
    }
   },
   "outputs": [
    {
     "name": "stdout",
     "output_type": "stream",
     "text": [
      "Пользователь ID-1: Оценка:2.5   Колличество:3\n",
      "Пользователь ID-1: Оценка:3.0   Колличество:4\n",
      "Пользователь ID-1: Оценка:2.0   Колличество:7\n",
      "Пользователь ID-1: Оценка:4.0   Колличество:3\n",
      "Пользователь ID-1: Оценка:3.5   Колличество:1\n",
      "Пользователь ID-1: Оценка:1.0   Колличество:2\n",
      "CPU times: total: 0 ns\n",
      "Wall time: 0 ns\n"
     ]
    }
   ],
   "source": [
    "%%time\n",
    "ratings_us1 = ratings[ratings['userId'] == 1]\n",
    "ratings_us = ratings_us1[['rating']]\n",
    "def some_dict(some_df):\n",
    "    data_lst = {}\n",
    "    for _,__ in ratings_us.items():\n",
    "        for ___ in __:\n",
    "            if ___ not in data_lst:\n",
    "                data_lst[___] = 1\n",
    "            else:\n",
    "                data_lst[___] += 1\n",
    "    return data_lst\n",
    "\n",
    "def show(some_dict):\n",
    "    for _, __ in some_dict.items():\n",
    "        print(f\"Пользователь ID-1: Оценка:{_}   Колличество:{__}\")\n",
    "\n",
    "show(some_dict(ratings_us))\n",
    "# print(ratings_us1, len(ratings_us1))"
   ]
  },
  {
   "cell_type": "code",
   "execution_count": 4,
   "metadata": {
    "ExecuteTime": {
     "start_time": "2023-03-13T10:36:34.954524Z",
     "end_time": "2023-03-13T10:36:34.960358Z"
    }
   },
   "outputs": [
    {
     "name": "stdout",
     "output_type": "stream",
     "text": [
      "CPU times: total: 0 ns\n",
      "Wall time: 0 ns\n"
     ]
    },
    {
     "data": {
      "text/plain": "2.0    7\n3.0    4\n2.5    3\n4.0    3\n1.0    2\n3.5    1\nName: rating, dtype: int64"
     },
     "execution_count": 4,
     "metadata": {},
     "output_type": "execute_result"
    }
   ],
   "source": [
    "%%time\n",
    "firast_id_rait = ratings[ratings.userId == 1].rating.value_counts(ascending=False)\n",
    "firast_id_rait\n"
   ]
  },
  {
   "cell_type": "code",
   "execution_count": null,
   "metadata": {},
   "outputs": [],
   "source": []
  },
  {
   "cell_type": "markdown",
   "metadata": {},
   "source": [
    "Как это сделать для всех пользователей сразу:"
   ]
  },
  {
   "cell_type": "code",
   "execution_count": 5,
   "metadata": {
    "ExecuteTime": {
     "start_time": "2023-03-13T10:36:39.307894Z",
     "end_time": "2023-03-13T10:36:39.337291Z"
    }
   },
   "outputs": [
    {
     "data": {
      "text/plain": "rating  0.5  1.0  1.5  2.0  2.5  3.0  3.5  4.0  4.5  5.0\nuserId                                                  \n1         0    2    0    7    3    4    1    3    0    0\n2         0    2    0    4    0   36    0   23    0   11\n3         0    0    0    1    3   18    9   11    4    5\n4         0    5    0    5    0   23    0   52    0  119\n5         0    0    1    0    3    3   27   42   19    5\n...     ...  ...  ...  ...  ...  ...  ...  ...  ...  ...\n667       0    0    0    4    0   28    0   24    0   12\n668       0    2    0    0    0    7    0    3    0    8\n669       0    0    0    7    0   14    0   12    0    4\n670       0    2    0    3    0    5    0   10    0   11\n671       0    1    0    4    4    9   13   57    8   19\n\n[671 rows x 10 columns]",
      "text/html": "<div>\n<style scoped>\n    .dataframe tbody tr th:only-of-type {\n        vertical-align: middle;\n    }\n\n    .dataframe tbody tr th {\n        vertical-align: top;\n    }\n\n    .dataframe thead th {\n        text-align: right;\n    }\n</style>\n<table border=\"1\" class=\"dataframe\">\n  <thead>\n    <tr style=\"text-align: right;\">\n      <th>rating</th>\n      <th>0.5</th>\n      <th>1.0</th>\n      <th>1.5</th>\n      <th>2.0</th>\n      <th>2.5</th>\n      <th>3.0</th>\n      <th>3.5</th>\n      <th>4.0</th>\n      <th>4.5</th>\n      <th>5.0</th>\n    </tr>\n    <tr>\n      <th>userId</th>\n      <th></th>\n      <th></th>\n      <th></th>\n      <th></th>\n      <th></th>\n      <th></th>\n      <th></th>\n      <th></th>\n      <th></th>\n      <th></th>\n    </tr>\n  </thead>\n  <tbody>\n    <tr>\n      <th>1</th>\n      <td>0</td>\n      <td>2</td>\n      <td>0</td>\n      <td>7</td>\n      <td>3</td>\n      <td>4</td>\n      <td>1</td>\n      <td>3</td>\n      <td>0</td>\n      <td>0</td>\n    </tr>\n    <tr>\n      <th>2</th>\n      <td>0</td>\n      <td>2</td>\n      <td>0</td>\n      <td>4</td>\n      <td>0</td>\n      <td>36</td>\n      <td>0</td>\n      <td>23</td>\n      <td>0</td>\n      <td>11</td>\n    </tr>\n    <tr>\n      <th>3</th>\n      <td>0</td>\n      <td>0</td>\n      <td>0</td>\n      <td>1</td>\n      <td>3</td>\n      <td>18</td>\n      <td>9</td>\n      <td>11</td>\n      <td>4</td>\n      <td>5</td>\n    </tr>\n    <tr>\n      <th>4</th>\n      <td>0</td>\n      <td>5</td>\n      <td>0</td>\n      <td>5</td>\n      <td>0</td>\n      <td>23</td>\n      <td>0</td>\n      <td>52</td>\n      <td>0</td>\n      <td>119</td>\n    </tr>\n    <tr>\n      <th>5</th>\n      <td>0</td>\n      <td>0</td>\n      <td>1</td>\n      <td>0</td>\n      <td>3</td>\n      <td>3</td>\n      <td>27</td>\n      <td>42</td>\n      <td>19</td>\n      <td>5</td>\n    </tr>\n    <tr>\n      <th>...</th>\n      <td>...</td>\n      <td>...</td>\n      <td>...</td>\n      <td>...</td>\n      <td>...</td>\n      <td>...</td>\n      <td>...</td>\n      <td>...</td>\n      <td>...</td>\n      <td>...</td>\n    </tr>\n    <tr>\n      <th>667</th>\n      <td>0</td>\n      <td>0</td>\n      <td>0</td>\n      <td>4</td>\n      <td>0</td>\n      <td>28</td>\n      <td>0</td>\n      <td>24</td>\n      <td>0</td>\n      <td>12</td>\n    </tr>\n    <tr>\n      <th>668</th>\n      <td>0</td>\n      <td>2</td>\n      <td>0</td>\n      <td>0</td>\n      <td>0</td>\n      <td>7</td>\n      <td>0</td>\n      <td>3</td>\n      <td>0</td>\n      <td>8</td>\n    </tr>\n    <tr>\n      <th>669</th>\n      <td>0</td>\n      <td>0</td>\n      <td>0</td>\n      <td>7</td>\n      <td>0</td>\n      <td>14</td>\n      <td>0</td>\n      <td>12</td>\n      <td>0</td>\n      <td>4</td>\n    </tr>\n    <tr>\n      <th>670</th>\n      <td>0</td>\n      <td>2</td>\n      <td>0</td>\n      <td>3</td>\n      <td>0</td>\n      <td>5</td>\n      <td>0</td>\n      <td>10</td>\n      <td>0</td>\n      <td>11</td>\n    </tr>\n    <tr>\n      <th>671</th>\n      <td>0</td>\n      <td>1</td>\n      <td>0</td>\n      <td>4</td>\n      <td>4</td>\n      <td>9</td>\n      <td>13</td>\n      <td>57</td>\n      <td>8</td>\n      <td>19</td>\n    </tr>\n  </tbody>\n</table>\n<p>671 rows × 10 columns</p>\n</div>"
     },
     "execution_count": 5,
     "metadata": {},
     "output_type": "execute_result"
    }
   ],
   "source": [
    "ratings.pivot_table(index = 'userId', columns = 'rating', values = 'timestamp', aggfunc = 'count', fill_value = 0)\n"
   ]
  },
  {
   "cell_type": "code",
   "execution_count": 6,
   "metadata": {
    "scrolled": true,
    "ExecuteTime": {
     "start_time": "2023-03-13T10:36:41.137949Z",
     "end_time": "2023-03-13T10:36:41.173707Z"
    }
   },
   "outputs": [
    {
     "data": {
      "text/plain": "rating   0.5   1.0   1.5   2.0   2.5    3.0    3.5    4.0   4.5    5.0     All\nuserId                                                                        \n1        ___   2.0   ___   7.0   3.0    4.0    1.0    3.0   ___    ___      20\n2        ___   2.0   ___   4.0   ___   36.0    ___   23.0   ___   11.0      76\n3        ___   ___   ___   1.0   3.0   18.0    9.0   11.0   4.0    5.0      51\n4        ___   5.0   ___   5.0   ___   23.0    ___   52.0   ___  119.0     204\n5        ___   ___   1.0   ___   3.0    3.0   27.0   42.0  19.0    5.0     100\n...      ...   ...   ...   ...   ...    ...    ...    ...   ...    ...     ...\n668      ___   2.0   ___   ___   ___    7.0    ___    3.0   ___    8.0      20\n669      ___   ___   ___   7.0   ___   14.0    ___   12.0   ___    4.0      37\n670      ___   2.0   ___   3.0   ___    5.0    ___   10.0   ___   11.0      31\n671      ___   1.0   ___   4.0   4.0    9.0   13.0   57.0   8.0   19.0     115\nAll     1101  3326  1687  7271  4449  20064  10538  28750  7723  15095  100004\n\n[672 rows x 11 columns]",
      "text/html": "<div>\n<style scoped>\n    .dataframe tbody tr th:only-of-type {\n        vertical-align: middle;\n    }\n\n    .dataframe tbody tr th {\n        vertical-align: top;\n    }\n\n    .dataframe thead th {\n        text-align: right;\n    }\n</style>\n<table border=\"1\" class=\"dataframe\">\n  <thead>\n    <tr style=\"text-align: right;\">\n      <th>rating</th>\n      <th>0.5</th>\n      <th>1.0</th>\n      <th>1.5</th>\n      <th>2.0</th>\n      <th>2.5</th>\n      <th>3.0</th>\n      <th>3.5</th>\n      <th>4.0</th>\n      <th>4.5</th>\n      <th>5.0</th>\n      <th>All</th>\n    </tr>\n    <tr>\n      <th>userId</th>\n      <th></th>\n      <th></th>\n      <th></th>\n      <th></th>\n      <th></th>\n      <th></th>\n      <th></th>\n      <th></th>\n      <th></th>\n      <th></th>\n      <th></th>\n    </tr>\n  </thead>\n  <tbody>\n    <tr>\n      <th>1</th>\n      <td>___</td>\n      <td>2.0</td>\n      <td>___</td>\n      <td>7.0</td>\n      <td>3.0</td>\n      <td>4.0</td>\n      <td>1.0</td>\n      <td>3.0</td>\n      <td>___</td>\n      <td>___</td>\n      <td>20</td>\n    </tr>\n    <tr>\n      <th>2</th>\n      <td>___</td>\n      <td>2.0</td>\n      <td>___</td>\n      <td>4.0</td>\n      <td>___</td>\n      <td>36.0</td>\n      <td>___</td>\n      <td>23.0</td>\n      <td>___</td>\n      <td>11.0</td>\n      <td>76</td>\n    </tr>\n    <tr>\n      <th>3</th>\n      <td>___</td>\n      <td>___</td>\n      <td>___</td>\n      <td>1.0</td>\n      <td>3.0</td>\n      <td>18.0</td>\n      <td>9.0</td>\n      <td>11.0</td>\n      <td>4.0</td>\n      <td>5.0</td>\n      <td>51</td>\n    </tr>\n    <tr>\n      <th>4</th>\n      <td>___</td>\n      <td>5.0</td>\n      <td>___</td>\n      <td>5.0</td>\n      <td>___</td>\n      <td>23.0</td>\n      <td>___</td>\n      <td>52.0</td>\n      <td>___</td>\n      <td>119.0</td>\n      <td>204</td>\n    </tr>\n    <tr>\n      <th>5</th>\n      <td>___</td>\n      <td>___</td>\n      <td>1.0</td>\n      <td>___</td>\n      <td>3.0</td>\n      <td>3.0</td>\n      <td>27.0</td>\n      <td>42.0</td>\n      <td>19.0</td>\n      <td>5.0</td>\n      <td>100</td>\n    </tr>\n    <tr>\n      <th>...</th>\n      <td>...</td>\n      <td>...</td>\n      <td>...</td>\n      <td>...</td>\n      <td>...</td>\n      <td>...</td>\n      <td>...</td>\n      <td>...</td>\n      <td>...</td>\n      <td>...</td>\n      <td>...</td>\n    </tr>\n    <tr>\n      <th>668</th>\n      <td>___</td>\n      <td>2.0</td>\n      <td>___</td>\n      <td>___</td>\n      <td>___</td>\n      <td>7.0</td>\n      <td>___</td>\n      <td>3.0</td>\n      <td>___</td>\n      <td>8.0</td>\n      <td>20</td>\n    </tr>\n    <tr>\n      <th>669</th>\n      <td>___</td>\n      <td>___</td>\n      <td>___</td>\n      <td>7.0</td>\n      <td>___</td>\n      <td>14.0</td>\n      <td>___</td>\n      <td>12.0</td>\n      <td>___</td>\n      <td>4.0</td>\n      <td>37</td>\n    </tr>\n    <tr>\n      <th>670</th>\n      <td>___</td>\n      <td>2.0</td>\n      <td>___</td>\n      <td>3.0</td>\n      <td>___</td>\n      <td>5.0</td>\n      <td>___</td>\n      <td>10.0</td>\n      <td>___</td>\n      <td>11.0</td>\n      <td>31</td>\n    </tr>\n    <tr>\n      <th>671</th>\n      <td>___</td>\n      <td>1.0</td>\n      <td>___</td>\n      <td>4.0</td>\n      <td>4.0</td>\n      <td>9.0</td>\n      <td>13.0</td>\n      <td>57.0</td>\n      <td>8.0</td>\n      <td>19.0</td>\n      <td>115</td>\n    </tr>\n    <tr>\n      <th>All</th>\n      <td>1101</td>\n      <td>3326</td>\n      <td>1687</td>\n      <td>7271</td>\n      <td>4449</td>\n      <td>20064</td>\n      <td>10538</td>\n      <td>28750</td>\n      <td>7723</td>\n      <td>15095</td>\n      <td>100004</td>\n    </tr>\n  </tbody>\n</table>\n<p>672 rows × 11 columns</p>\n</div>"
     },
     "execution_count": 6,
     "metadata": {},
     "output_type": "execute_result"
    }
   ],
   "source": [
    "# можно итоги добавить\n",
    "ratings.pivot_table(index = 'userId', columns = 'rating', values = 'timestamp', aggfunc = 'count', fill_value = '___',\n",
    "                    margins = True)"
   ]
  },
  {
   "cell_type": "markdown",
   "metadata": {},
   "source": [
    "### Упражнение\n",
    "Какой пользователь выставил больше всех пятерок?"
   ]
  },
  {
   "cell_type": "code",
   "execution_count": 7,
   "metadata": {
    "ExecuteTime": {
     "start_time": "2023-03-13T10:36:44.637268Z",
     "end_time": "2023-03-13T10:36:44.691413Z"
    }
   },
   "outputs": [
    {
     "name": "stdout",
     "output_type": "stream",
     "text": [
      "rating   0.5   1.0   1.5   2.0   2.5    3.0    3.5    4.0   4.5    5.0     All\n",
      "userId                                                                        \n",
      "All     1101  3326  1687  7271  4449  20064  10538  28750  7723  15095  100004\n",
      "564        0   152     0   187     0    414      0    707     0    408    1868\n",
      "232        0    35     0    32     0     96      0    276     0    243     682\n",
      "242        0     0     0     4     0     25      0    151     0    219     399\n",
      "547       53    79    58   204   177    411    378    591   226    214    2391\n",
      "30         0    20     0    86     0    201      2    505     1    196    1011\n",
      "472        0    23     1    56     5    188     13    315    40    189     830\n",
      "102        0     8     0    40     0     87      0    369     0    174     678\n",
      "358        0   114     0    91     0    118      0    156     0    138     617\n",
      "388        0    27     1    78    10    165     35    297    44    135     792\n"
     ]
    }
   ],
   "source": [
    "ratings_upd = ratings.pivot_table(index = 'userId', columns = 'rating', values = 'timestamp', aggfunc = 'count', fill_value = 0, margins = True)\n",
    "print(ratings_upd.sort_values(5.0, ascending=False).head(10))"
   ]
  },
  {
   "cell_type": "code",
   "execution_count": 52,
   "metadata": {
    "ExecuteTime": {
     "start_time": "2023-03-07T15:04:34.313986Z",
     "end_time": "2023-03-07T15:04:34.334167Z"
    }
   },
   "outputs": [],
   "source": []
  },
  {
   "cell_type": "code",
   "execution_count": null,
   "metadata": {},
   "outputs": [],
   "source": []
  },
  {
   "cell_type": "markdown",
   "metadata": {},
   "source": [
    "### Фильтры и вычисления с помощью loc и iloc"
   ]
  },
  {
   "cell_type": "code",
   "execution_count": 33,
   "metadata": {},
   "outputs": [
    {
     "data": {
      "text/plain": "    timestamp    visit_id                                 url  region  \\\n0  1549980692  e3b0c44298  https://host.ru/3c19b4ef7371864fa3  Russia   \n1  1549980704  6e340b9cff  https://host.ru/c8d9213a31839f9a3a  Russia   \n2  1549980715  96a296d224  https://host.ru/b8b58337d272ee7b15  Russia   \n3  1549980725  709e80c884  https://host.ru/b8b58337d272ee7b15  Russia   \n4  1549980736  df3f619804  https://host.ru/b8b58337d272ee7b15  Russia   \n\n      user_id traffic_source  \n0  b1613cc09f         yandex  \n1  4c3ec14bee         direct  \n2  a8c40697fb         yandex  \n3  521ac1d6a0         yandex  \n4  d7323c571c         yandex  ",
      "text/html": "<div>\n<style scoped>\n    .dataframe tbody tr th:only-of-type {\n        vertical-align: middle;\n    }\n\n    .dataframe tbody tr th {\n        vertical-align: top;\n    }\n\n    .dataframe thead th {\n        text-align: right;\n    }\n</style>\n<table border=\"1\" class=\"dataframe\">\n  <thead>\n    <tr style=\"text-align: right;\">\n      <th></th>\n      <th>timestamp</th>\n      <th>visit_id</th>\n      <th>url</th>\n      <th>region</th>\n      <th>user_id</th>\n      <th>traffic_source</th>\n    </tr>\n  </thead>\n  <tbody>\n    <tr>\n      <th>0</th>\n      <td>1549980692</td>\n      <td>e3b0c44298</td>\n      <td>https://host.ru/3c19b4ef7371864fa3</td>\n      <td>Russia</td>\n      <td>b1613cc09f</td>\n      <td>yandex</td>\n    </tr>\n    <tr>\n      <th>1</th>\n      <td>1549980704</td>\n      <td>6e340b9cff</td>\n      <td>https://host.ru/c8d9213a31839f9a3a</td>\n      <td>Russia</td>\n      <td>4c3ec14bee</td>\n      <td>direct</td>\n    </tr>\n    <tr>\n      <th>2</th>\n      <td>1549980715</td>\n      <td>96a296d224</td>\n      <td>https://host.ru/b8b58337d272ee7b15</td>\n      <td>Russia</td>\n      <td>a8c40697fb</td>\n      <td>yandex</td>\n    </tr>\n    <tr>\n      <th>3</th>\n      <td>1549980725</td>\n      <td>709e80c884</td>\n      <td>https://host.ru/b8b58337d272ee7b15</td>\n      <td>Russia</td>\n      <td>521ac1d6a0</td>\n      <td>yandex</td>\n    </tr>\n    <tr>\n      <th>4</th>\n      <td>1549980736</td>\n      <td>df3f619804</td>\n      <td>https://host.ru/b8b58337d272ee7b15</td>\n      <td>Russia</td>\n      <td>d7323c571c</td>\n      <td>yandex</td>\n    </tr>\n  </tbody>\n</table>\n</div>"
     },
     "execution_count": 33,
     "metadata": {},
     "output_type": "execute_result"
    }
   ],
   "source": [
    "log = pd.read_csv('visit_log.csv', sep=';')\n",
    "log.head()"
   ]
  },
  {
   "cell_type": "markdown",
   "metadata": {},
   "source": [
    "### Но сначала упражнение\n",
    "Сколько различных страниц есть в столбце url? Постройте топ-5 страниц по посещаемости.\n",
    "\n",
    "Бонусный вариант: выведите топ-5 страниц без указания хоста https://host.ru"
   ]
  },
  {
   "cell_type": "code",
   "execution_count": 36,
   "metadata": {},
   "outputs": [
    {
     "data": {
      "text/plain": "38"
     },
     "execution_count": 36,
     "metadata": {},
     "output_type": "execute_result"
    }
   ],
   "source": [
    "len(log['url'].value_counts())"
   ]
  },
  {
   "cell_type": "code",
   "execution_count": 49,
   "metadata": {},
   "outputs": [
    {
     "name": "stdout",
     "output_type": "stream",
     "text": [
      "https://host.ru/3c19b4ef7371864fa3    541\n",
      "https://host.ru/108ce4b365afb7b88e    534\n",
      "https://host.ru/23c64743ad842b9311    532\n",
      "https://host.ru/1afc5618562365020a    529\n",
      "https://host.ru/2fcb223266880ccf57    526\n",
      "Name: url, dtype: int64\n",
      "3c19b4ef7371864fa3\n",
      "108ce4b365afb7b88e\n",
      "23c64743ad842b9311\n",
      "1afc5618562365020a\n",
      "2fcb223266880ccf57\n",
      "CPU times: user 2.97 ms, sys: 0 ns, total: 2.97 ms\n",
      "Wall time: 2.78 ms\n"
     ]
    }
   ],
   "source": [
    "%%time\n",
    "log_pre = log['url'].value_counts().head()\n",
    "print(log_pre)\n",
    "for _, __ in log_pre.items():\n",
    "    print(_[16:])"
   ]
  },
  {
   "cell_type": "code",
   "execution_count": 56,
   "metadata": {},
   "outputs": [
    {
     "ename": "KeyError",
     "evalue": "'url'",
     "output_type": "error",
     "traceback": [
      "\u001B[0;31m---------------------------------------------------------------------------\u001B[0m",
      "\u001B[0;31mKeyError\u001B[0m                                  Traceback (most recent call last)",
      "File \u001B[0;32m~/.local/lib/python3.10/site-packages/pandas/core/indexes/base.py:3802\u001B[0m, in \u001B[0;36mIndex.get_loc\u001B[0;34m(self, key, method, tolerance)\u001B[0m\n\u001B[1;32m   3801\u001B[0m \u001B[38;5;28;01mtry\u001B[39;00m:\n\u001B[0;32m-> 3802\u001B[0m     \u001B[38;5;28;01mreturn\u001B[39;00m \u001B[38;5;28;43mself\u001B[39;49m\u001B[38;5;241;43m.\u001B[39;49m\u001B[43m_engine\u001B[49m\u001B[38;5;241;43m.\u001B[39;49m\u001B[43mget_loc\u001B[49m\u001B[43m(\u001B[49m\u001B[43mcasted_key\u001B[49m\u001B[43m)\u001B[49m\n\u001B[1;32m   3803\u001B[0m \u001B[38;5;28;01mexcept\u001B[39;00m \u001B[38;5;167;01mKeyError\u001B[39;00m \u001B[38;5;28;01mas\u001B[39;00m err:\n",
      "File \u001B[0;32m~/.local/lib/python3.10/site-packages/pandas/_libs/index.pyx:138\u001B[0m, in \u001B[0;36mpandas._libs.index.IndexEngine.get_loc\u001B[0;34m()\u001B[0m\n",
      "File \u001B[0;32m~/.local/lib/python3.10/site-packages/pandas/_libs/index.pyx:165\u001B[0m, in \u001B[0;36mpandas._libs.index.IndexEngine.get_loc\u001B[0;34m()\u001B[0m\n",
      "File \u001B[0;32mpandas/_libs/hashtable_class_helper.pxi:5745\u001B[0m, in \u001B[0;36mpandas._libs.hashtable.PyObjectHashTable.get_item\u001B[0;34m()\u001B[0m\n",
      "File \u001B[0;32mpandas/_libs/hashtable_class_helper.pxi:5753\u001B[0m, in \u001B[0;36mpandas._libs.hashtable.PyObjectHashTable.get_item\u001B[0;34m()\u001B[0m\n",
      "\u001B[0;31mKeyError\u001B[0m: 'url'",
      "\nThe above exception was the direct cause of the following exception:\n",
      "\u001B[0;31mKeyError\u001B[0m                                  Traceback (most recent call last)",
      "File \u001B[0;32m<timed exec>:1\u001B[0m\n",
      "File \u001B[0;32m~/.local/lib/python3.10/site-packages/pandas/core/series.py:981\u001B[0m, in \u001B[0;36mSeries.__getitem__\u001B[0;34m(self, key)\u001B[0m\n\u001B[1;32m    978\u001B[0m     \u001B[38;5;28;01mreturn\u001B[39;00m \u001B[38;5;28mself\u001B[39m\u001B[38;5;241m.\u001B[39m_values[key]\n\u001B[1;32m    980\u001B[0m \u001B[38;5;28;01melif\u001B[39;00m key_is_scalar:\n\u001B[0;32m--> 981\u001B[0m     \u001B[38;5;28;01mreturn\u001B[39;00m \u001B[38;5;28;43mself\u001B[39;49m\u001B[38;5;241;43m.\u001B[39;49m\u001B[43m_get_value\u001B[49m\u001B[43m(\u001B[49m\u001B[43mkey\u001B[49m\u001B[43m)\u001B[49m\n\u001B[1;32m    983\u001B[0m \u001B[38;5;28;01mif\u001B[39;00m is_hashable(key):\n\u001B[1;32m    984\u001B[0m     \u001B[38;5;66;03m# Otherwise index.get_value will raise InvalidIndexError\u001B[39;00m\n\u001B[1;32m    985\u001B[0m     \u001B[38;5;28;01mtry\u001B[39;00m:\n\u001B[1;32m    986\u001B[0m         \u001B[38;5;66;03m# For labels that don't resolve as scalars like tuples and frozensets\u001B[39;00m\n",
      "File \u001B[0;32m~/.local/lib/python3.10/site-packages/pandas/core/series.py:1089\u001B[0m, in \u001B[0;36mSeries._get_value\u001B[0;34m(self, label, takeable)\u001B[0m\n\u001B[1;32m   1086\u001B[0m     \u001B[38;5;28;01mreturn\u001B[39;00m \u001B[38;5;28mself\u001B[39m\u001B[38;5;241m.\u001B[39m_values[label]\n\u001B[1;32m   1088\u001B[0m \u001B[38;5;66;03m# Similar to Index.get_value, but we do not fall back to positional\u001B[39;00m\n\u001B[0;32m-> 1089\u001B[0m loc \u001B[38;5;241m=\u001B[39m \u001B[38;5;28;43mself\u001B[39;49m\u001B[38;5;241;43m.\u001B[39;49m\u001B[43mindex\u001B[49m\u001B[38;5;241;43m.\u001B[39;49m\u001B[43mget_loc\u001B[49m\u001B[43m(\u001B[49m\u001B[43mlabel\u001B[49m\u001B[43m)\u001B[49m\n\u001B[1;32m   1090\u001B[0m \u001B[38;5;28;01mreturn\u001B[39;00m \u001B[38;5;28mself\u001B[39m\u001B[38;5;241m.\u001B[39mindex\u001B[38;5;241m.\u001B[39m_get_values_for_loc(\u001B[38;5;28mself\u001B[39m, loc, label)\n",
      "File \u001B[0;32m~/.local/lib/python3.10/site-packages/pandas/core/indexes/base.py:3804\u001B[0m, in \u001B[0;36mIndex.get_loc\u001B[0;34m(self, key, method, tolerance)\u001B[0m\n\u001B[1;32m   3802\u001B[0m     \u001B[38;5;28;01mreturn\u001B[39;00m \u001B[38;5;28mself\u001B[39m\u001B[38;5;241m.\u001B[39m_engine\u001B[38;5;241m.\u001B[39mget_loc(casted_key)\n\u001B[1;32m   3803\u001B[0m \u001B[38;5;28;01mexcept\u001B[39;00m \u001B[38;5;167;01mKeyError\u001B[39;00m \u001B[38;5;28;01mas\u001B[39;00m err:\n\u001B[0;32m-> 3804\u001B[0m     \u001B[38;5;28;01mraise\u001B[39;00m \u001B[38;5;167;01mKeyError\u001B[39;00m(key) \u001B[38;5;28;01mfrom\u001B[39;00m \u001B[38;5;21;01merr\u001B[39;00m\n\u001B[1;32m   3805\u001B[0m \u001B[38;5;28;01mexcept\u001B[39;00m \u001B[38;5;167;01mTypeError\u001B[39;00m:\n\u001B[1;32m   3806\u001B[0m     \u001B[38;5;66;03m# If we have a listlike key, _check_indexing_error will raise\u001B[39;00m\n\u001B[1;32m   3807\u001B[0m     \u001B[38;5;66;03m#  InvalidIndexError. Otherwise we fall through and re-raise\u001B[39;00m\n\u001B[1;32m   3808\u001B[0m     \u001B[38;5;66;03m#  the TypeError.\u001B[39;00m\n\u001B[1;32m   3809\u001B[0m     \u001B[38;5;28mself\u001B[39m\u001B[38;5;241m.\u001B[39m_check_indexing_error(key)\n",
      "\u001B[0;31mKeyError\u001B[0m: 'url'"
     ]
    }
   ],
   "source": [
    "%%time\n",
    "log['address'] = log_pre['url'].apply(lambda url: url[16:])\n",
    "log"
   ]
  },
  {
   "cell_type": "code",
   "execution_count": null,
   "metadata": {},
   "outputs": [],
   "source": [
    "# метод loc позволяет выбрать строки и столбцы в соответствии с условиями\n",
    "# двоеточие означает выбор всех значений\n",
    "\n",
    "log.loc[:, ['user_id', 'region']].head()"
   ]
  },
  {
   "cell_type": "code",
   "execution_count": null,
   "metadata": {},
   "outputs": [],
   "source": [
    "# iloc работает аналогично, но с указанием номера строки / столбца\n",
    "\n",
    "log.iloc[:, [1, -3]].head()"
   ]
  },
  {
   "cell_type": "code",
   "execution_count": null,
   "metadata": {},
   "outputs": [],
   "source": [
    "# пример фильтра на страну\n",
    "# если столбцы не надо фильтровать, то второй параметр можно не указывать\n",
    "\n",
    "log.loc[log.region == 'Russia'].head()"
   ]
  },
  {
   "cell_type": "code",
   "execution_count": null,
   "metadata": {
    "scrolled": true
   },
   "outputs": [],
   "source": [
    "# пример вычисления нового столбца с НДС для страны\n",
    "\n",
    "log.loc[log.region == 'Russia', 'VAT'] = 1.2\n",
    "log.head(10)"
   ]
  },
  {
   "cell_type": "code",
   "execution_count": null,
   "metadata": {},
   "outputs": [],
   "source": [
    "# вариант с вычисляемым фильтром\n",
    "\n",
    "log.loc[lambda row: row.region == 'Russia'].head(10)"
   ]
  },
  {
   "cell_type": "markdown",
   "metadata": {},
   "source": [
    "### Скорость метода loc\n",
    "Посчитаем средний рейтинг разных жанров. Метод merge взят из материалов следующего занятия ¯ \\ _ (ツ) _ / ¯"
   ]
  },
  {
   "cell_type": "code",
   "execution_count": null,
   "metadata": {},
   "outputs": [],
   "source": [
    "ratings = pd.read_csv('ml-latest-small/ratings.csv')\n",
    "movies = pd.read_csv('ml-latest-small/movies.csv')\n",
    "joined = ratings.merge(movies, how='left', on='movieId')\n",
    "joined.head()"
   ]
  },
  {
   "cell_type": "code",
   "execution_count": null,
   "metadata": {
    "scrolled": true
   },
   "outputs": [],
   "source": [
    "joined['Adventure'] = joined.apply(lambda row: row.rating if 'Adventure' in row.genres else None, axis=1)\n",
    "joined.head()"
   ]
  },
  {
   "cell_type": "markdown",
   "metadata": {},
   "source": [
    "Можно и через loc"
   ]
  },
  {
   "cell_type": "code",
   "execution_count": null,
   "metadata": {},
   "outputs": [],
   "source": [
    "joined['Adventure'] = joined.loc[joined.genres.str.contains('Adventure'), 'rating']\n",
    "joined.head()"
   ]
  },
  {
   "cell_type": "markdown",
   "metadata": {},
   "source": [
    "Для замера времени сделаем эти операции для набор жанров"
   ]
  },
  {
   "cell_type": "code",
   "execution_count": null,
   "metadata": {},
   "outputs": [],
   "source": [
    "genres = ['Adventure', 'Animation', 'Children', 'Drama', 'Musical', 'Thriller']"
   ]
  },
  {
   "cell_type": "code",
   "execution_count": null,
   "metadata": {},
   "outputs": [],
   "source": [
    "%%time\n",
    "joined = ratings.merge(movies, how='left', on='movieId')\n",
    "\n",
    "for genre in genres:\n",
    "    joined[genre] = joined.apply(lambda row: row.rating if genre in row.genres else None, axis=1)"
   ]
  },
  {
   "cell_type": "code",
   "execution_count": null,
   "metadata": {},
   "outputs": [],
   "source": [
    "%%time\n",
    "joined = ratings.merge(movies, how='left', on='movieId')\n",
    "\n",
    "for genre in genres:\n",
    "    joined[genre] = joined.loc[joined.genres.str.contains(genre), 'rating']"
   ]
  },
  {
   "cell_type": "markdown",
   "metadata": {},
   "source": [
    "### Упражнение\n",
    "Какие варианты источников трафика есть в столбце traffic_source?\n",
    "\n",
    "Создайте столбец traffic_type, в котором для источников 'yandex' и 'google' будет стоять значение 'organic'. А для остальных вариантов - NaN."
   ]
  },
  {
   "cell_type": "code",
   "execution_count": null,
   "metadata": {},
   "outputs": [],
   "source": []
  },
  {
   "cell_type": "code",
   "execution_count": null,
   "metadata": {},
   "outputs": [],
   "source": []
  },
  {
   "cell_type": "code",
   "execution_count": null,
   "metadata": {},
   "outputs": [],
   "source": []
  },
  {
   "cell_type": "markdown",
   "metadata": {},
   "source": [
    "### Методы isnull, isna\n",
    "Определение пустых или None значений. По сути одинаковые методы"
   ]
  },
  {
   "cell_type": "code",
   "execution_count": null,
   "metadata": {},
   "outputs": [],
   "source": [
    "import numpy as np"
   ]
  },
  {
   "cell_type": "code",
   "execution_count": null,
   "metadata": {},
   "outputs": [],
   "source": [
    "df = pd.DataFrame({'value': [123, None, np.nan, np.NaN, np.NAN, 456]})\n",
    "df"
   ]
  },
  {
   "cell_type": "code",
   "execution_count": null,
   "metadata": {},
   "outputs": [],
   "source": [
    "# фильтр на пустые значения в столбце value\n",
    "\n",
    "df.loc[pd.isnull(df.value), :]"
   ]
  },
  {
   "cell_type": "markdown",
   "metadata": {},
   "source": [
    "### Упражнение\n",
    "Для пустых значений в столбце traffic_type выставьте значение 'other'"
   ]
  },
  {
   "cell_type": "code",
   "execution_count": null,
   "metadata": {},
   "outputs": [],
   "source": []
  },
  {
   "cell_type": "code",
   "execution_count": null,
   "metadata": {},
   "outputs": [],
   "source": []
  },
  {
   "cell_type": "code",
   "execution_count": null,
   "metadata": {},
   "outputs": [],
   "source": []
  },
  {
   "cell_type": "markdown",
   "metadata": {},
   "source": [
    "### Дата и время в pandas"
   ]
  },
  {
   "cell_type": "code",
   "execution_count": null,
   "metadata": {},
   "outputs": [],
   "source": [
    "log['date'] = pd.to_datetime(log['timestamp'], unit='s')\n",
    "log.head()"
   ]
  },
  {
   "cell_type": "code",
   "execution_count": null,
   "metadata": {},
   "outputs": [],
   "source": [
    "# столбец datetime64[ns] теперь имеет тип даты\n",
    "log.info()"
   ]
  },
  {
   "cell_type": "code",
   "execution_count": null,
   "metadata": {},
   "outputs": [],
   "source": [
    "# получим час визита\n",
    "\n",
    "log['hour'] = log.date.dt.hour\n",
    "log.head()"
   ]
  },
  {
   "cell_type": "markdown",
   "metadata": {},
   "source": [
    "### Упражнение\n",
    "Дан датафрейм df с временем визита и соответствующей покупки. Сделайте следующее:\n",
    "1. Создайте столбцы visit_dt и purchase_dt типа datetime из столбцов visit_datetime и purchase_datetime\n",
    "2. Посчитайте разницу между временем визита и покупки (простым вычитанием)\n",
    "3. Переведите полученный столбец с длительностью покупки в минуты:\n",
    "```python\n",
    "(df.purchase_dt - df.visit_dt).astype('timedelta64[m]')\n",
    "```\n",
    "4. Посчитайте среднее время покупки в минутах"
   ]
  },
  {
   "cell_type": "code",
   "execution_count": null,
   "metadata": {},
   "outputs": [],
   "source": [
    "df = pd.DataFrame({'visit_datetime': ['2019-11-04T00:05:13', '2019-11-04T00:06:19', '2019-11-04T01:35:14'], \n",
    "                   'purchase_datetime': ['2019-11-04T00:15:53', '2019-11-04T00:07:59', '2019-11-04T03:15:30']})\n",
    "df"
   ]
  },
  {
   "cell_type": "code",
   "execution_count": null,
   "metadata": {},
   "outputs": [],
   "source": []
  },
  {
   "cell_type": "code",
   "execution_count": null,
   "metadata": {},
   "outputs": [],
   "source": []
  },
  {
   "cell_type": "code",
   "execution_count": null,
   "metadata": {},
   "outputs": [],
   "source": []
  },
  {
   "cell_type": "markdown",
   "metadata": {},
   "source": [
    "### Методы работы со строками"
   ]
  },
  {
   "cell_type": "code",
   "execution_count": null,
   "metadata": {},
   "outputs": [],
   "source": [
    "stats = pd.read_csv('keywords.csv')\n",
    "stats.head()"
   ]
  },
  {
   "cell_type": "markdown",
   "metadata": {},
   "source": [
    "Проверка наличия подстроки в строке в питоне:"
   ]
  },
  {
   "cell_type": "code",
   "execution_count": null,
   "metadata": {},
   "outputs": [],
   "source": [
    "'охотник' in 'каждый охотник желает знать...'"
   ]
  },
  {
   "cell_type": "markdown",
   "metadata": {},
   "source": [
    "Аналог в pandas:"
   ]
  },
  {
   "cell_type": "code",
   "execution_count": null,
   "metadata": {},
   "outputs": [],
   "source": [
    "stats[stats.keyword.str.contains('охотник')].head()"
   ]
  },
  {
   "cell_type": "markdown",
   "metadata": {},
   "source": [
    "[Документация](https://www.geeksforgeeks.org/python-pandas-series-str-contains/)\n",
    "\n",
    "Syntax: Series.str.contains(pat, case=True, flags=0, na=nan, regex=True)\n",
    "\n",
    "Parameter :\n",
    "- pat : Character sequence or regular expression.\n",
    "- case : If True, case sensitive.\n",
    "- flags : Flags to pass through to the re module, e.g. re.IGNORECASE.\n",
    "- na : Fill value for missing values.\n",
    "- regex : If True, assumes the pat is a regular expression."
   ]
  },
  {
   "cell_type": "code",
   "execution_count": null,
   "metadata": {},
   "outputs": [],
   "source": [
    "# поиск одного из нескольких слов\n",
    "\n",
    "stats[stats.keyword.str.contains('охотник|фильм|2016')].head()"
   ]
  },
  {
   "cell_type": "markdown",
   "metadata": {},
   "source": [
    "### Упражнение\n",
    "Отфильтруйте датафрейм stats по поисковым запросам, которые содержат строку \"погода в\" и упоминают один из городов: Москва, Новосибирск, Краснодар."
   ]
  },
  {
   "cell_type": "code",
   "execution_count": null,
   "metadata": {},
   "outputs": [],
   "source": []
  },
  {
   "cell_type": "code",
   "execution_count": null,
   "metadata": {},
   "outputs": [],
   "source": []
  },
  {
   "cell_type": "code",
   "execution_count": null,
   "metadata": {},
   "outputs": [],
   "source": []
  },
  {
   "cell_type": "markdown",
   "metadata": {},
   "source": [
    "### replace"
   ]
  },
  {
   "cell_type": "code",
   "execution_count": null,
   "metadata": {},
   "outputs": [],
   "source": [
    "'отпуск начнется завтра'.replace('завтра', 'через месяц')"
   ]
  },
  {
   "cell_type": "markdown",
   "metadata": {},
   "source": [
    "Аналог в pandas на запросах про сериалы:"
   ]
  },
  {
   "cell_type": "code",
   "execution_count": null,
   "metadata": {},
   "outputs": [],
   "source": [
    "serial = stats[stats.keyword.str.contains('сериалы')]\n",
    "serial.head()"
   ]
  },
  {
   "cell_type": "code",
   "execution_count": null,
   "metadata": {},
   "outputs": [],
   "source": [
    "serial.keyword.str.replace('сериалы', 'книги').head()"
   ]
  },
  {
   "cell_type": "markdown",
   "metadata": {},
   "source": [
    "### Как учитывать разное написание слов\n",
    "Самое простое - методы upper и lower"
   ]
  },
  {
   "cell_type": "code",
   "execution_count": null,
   "metadata": {},
   "outputs": [],
   "source": [
    "serial.keyword.str.upper().head()"
   ]
  },
  {
   "cell_type": "code",
   "execution_count": null,
   "metadata": {},
   "outputs": [],
   "source": [
    "serial.keyword.str.lower().head()"
   ]
  },
  {
   "cell_type": "markdown",
   "metadata": {},
   "source": [
    "### Что делать если нужно учесть формы написания слов?"
   ]
  },
  {
   "cell_type": "code",
   "execution_count": null,
   "metadata": {},
   "outputs": [],
   "source": [
    "stats[stats.keyword.str.contains('рубл')].head()"
   ]
  },
  {
   "cell_type": "markdown",
   "metadata": {},
   "source": [
    "Почему нельзя просто оставить str.contains('рубл'):"
   ]
  },
  {
   "cell_type": "code",
   "execution_count": null,
   "metadata": {},
   "outputs": [],
   "source": [
    "non_financial_search = 'рубленая котлетка'"
   ]
  },
  {
   "cell_type": "markdown",
   "metadata": {},
   "source": [
    "### Библиотека [pymystem](https://pypi.org/project/pymystem3/)"
   ]
  },
  {
   "cell_type": "code",
   "execution_count": null,
   "metadata": {},
   "outputs": [],
   "source": [
    "from pymystem3 import Mystem"
   ]
  },
  {
   "cell_type": "code",
   "execution_count": null,
   "metadata": {},
   "outputs": [],
   "source": [
    "search = 'курс гривны к рублю рубли рублях'"
   ]
  },
  {
   "cell_type": "code",
   "execution_count": null,
   "metadata": {},
   "outputs": [],
   "source": [
    "m = Mystem()\n",
    "lemmas = m.lemmatize(search)\n",
    "lemmas"
   ]
  },
  {
   "cell_type": "code",
   "execution_count": null,
   "metadata": {},
   "outputs": [],
   "source": [
    "' '.join(lemmas)"
   ]
  },
  {
   "cell_type": "markdown",
   "metadata": {},
   "source": [
    "### Домашнее задание 3\n",
    "В датафрейме data создайте столбец lemmas, в котором вычислите леммы поисковых запросов из столбца keyword. Леммы должны иметь строковый тип."
   ]
  },
  {
   "cell_type": "code",
   "execution_count": null,
   "metadata": {},
   "outputs": [],
   "source": [
    "data = pd.DataFrame({\n",
    "    'keyword': ['курс гривны к рублю', 'доллары в рубли', '100 долларов в рублях', 'курс рубля'],\n",
    "    'shows': [125076, 114173, 97534, 53546],\n",
    "})"
   ]
  },
  {
   "cell_type": "code",
   "execution_count": null,
   "metadata": {},
   "outputs": [],
   "source": []
  },
  {
   "cell_type": "code",
   "execution_count": null,
   "metadata": {},
   "outputs": [],
   "source": []
  },
  {
   "cell_type": "code",
   "execution_count": null,
   "metadata": {},
   "outputs": [],
   "source": []
  }
 ],
 "metadata": {
  "kernelspec": {
   "display_name": "Python 3",
   "language": "python",
   "name": "python3"
  },
  "language_info": {
   "codemirror_mode": {
    "name": "ipython",
    "version": 3
   },
   "file_extension": ".py",
   "mimetype": "text/x-python",
   "name": "python",
   "nbconvert_exporter": "python",
   "pygments_lexer": "ipython3",
   "version": "3.7.0"
  }
 },
 "nbformat": 4,
 "nbformat_minor": 2
}
