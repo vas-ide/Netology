{
 "cells": [
  {
   "cell_type": "markdown",
   "metadata": {},
   "source": [
    "# Функции в Pandas\n",
    "Примеры из презентации"
   ]
  },
  {
   "cell_type": "code",
   "execution_count": 13,
   "metadata": {
    "ExecuteTime": {
     "start_time": "2023-03-05T19:29:55.355909Z",
     "end_time": "2023-03-05T19:29:55.359913Z"
    }
   },
   "outputs": [],
   "source": [
    "import pandas as pd"
   ]
  },
  {
   "cell_type": "code",
   "execution_count": 14,
   "metadata": {
    "ExecuteTime": {
     "start_time": "2023-03-05T19:29:55.977705Z",
     "end_time": "2023-03-05T19:29:55.988312Z"
    }
   },
   "outputs": [
    {
     "data": {
      "text/plain": "   user_id  clicks  orders\n0        1     163       2\n1        2     130       4\n2        3      97       0",
      "text/html": "<div>\n<style scoped>\n    .dataframe tbody tr th:only-of-type {\n        vertical-align: middle;\n    }\n\n    .dataframe tbody tr th {\n        vertical-align: top;\n    }\n\n    .dataframe thead th {\n        text-align: right;\n    }\n</style>\n<table border=\"1\" class=\"dataframe\">\n  <thead>\n    <tr style=\"text-align: right;\">\n      <th></th>\n      <th>user_id</th>\n      <th>clicks</th>\n      <th>orders</th>\n    </tr>\n  </thead>\n  <tbody>\n    <tr>\n      <th>0</th>\n      <td>1</td>\n      <td>163</td>\n      <td>2</td>\n    </tr>\n    <tr>\n      <th>1</th>\n      <td>2</td>\n      <td>130</td>\n      <td>4</td>\n    </tr>\n    <tr>\n      <th>2</th>\n      <td>3</td>\n      <td>97</td>\n      <td>0</td>\n    </tr>\n  </tbody>\n</table>\n</div>"
     },
     "execution_count": 14,
     "metadata": {},
     "output_type": "execute_result"
    }
   ],
   "source": [
    "df = pd.DataFrame({'user_id': [1, 2, 3], 'clicks': [163, 130, 97], 'orders': [2, 4, 0]})\n",
    "df"
   ]
  },
  {
   "cell_type": "code",
   "execution_count": 15,
   "metadata": {
    "scrolled": true,
    "ExecuteTime": {
     "start_time": "2023-03-05T19:29:57.452879Z",
     "end_time": "2023-03-05T19:29:57.463365Z"
    }
   },
   "outputs": [
    {
     "data": {
      "text/plain": "   user_id  clicks  orders  calculated\n0        1     163       2       False\n1        2     130       4       False\n2        3      97       0        True",
      "text/html": "<div>\n<style scoped>\n    .dataframe tbody tr th:only-of-type {\n        vertical-align: middle;\n    }\n\n    .dataframe tbody tr th {\n        vertical-align: top;\n    }\n\n    .dataframe thead th {\n        text-align: right;\n    }\n</style>\n<table border=\"1\" class=\"dataframe\">\n  <thead>\n    <tr style=\"text-align: right;\">\n      <th></th>\n      <th>user_id</th>\n      <th>clicks</th>\n      <th>orders</th>\n      <th>calculated</th>\n    </tr>\n  </thead>\n  <tbody>\n    <tr>\n      <th>0</th>\n      <td>1</td>\n      <td>163</td>\n      <td>2</td>\n      <td>False</td>\n    </tr>\n    <tr>\n      <th>1</th>\n      <td>2</td>\n      <td>130</td>\n      <td>4</td>\n      <td>False</td>\n    </tr>\n    <tr>\n      <th>2</th>\n      <td>3</td>\n      <td>97</td>\n      <td>0</td>\n      <td>True</td>\n    </tr>\n  </tbody>\n</table>\n</div>"
     },
     "execution_count": 15,
     "metadata": {},
     "output_type": "execute_result"
    }
   ],
   "source": [
    "df = pd.DataFrame({'user_id': [1, 2, 3], 'clicks': [163, 130, 97], 'orders': [2, 4, 0], 'calculated': [False, False, True]})\n",
    "df[['user_id', 'clicks', 'orders', 'calculated']]"
   ]
  },
  {
   "cell_type": "code",
   "execution_count": 16,
   "metadata": {
    "ExecuteTime": {
     "start_time": "2023-03-05T19:29:58.399013Z",
     "end_time": "2023-03-05T19:29:58.406024Z"
    }
   },
   "outputs": [],
   "source": [
    "def watcher(param):\n",
    "    \"\"\"Мне только посмотреть\"\"\"\n",
    "    return param == 0"
   ]
  },
  {
   "cell_type": "code",
   "execution_count": 17,
   "metadata": {
    "ExecuteTime": {
     "start_time": "2023-03-05T19:29:59.128824Z",
     "end_time": "2023-03-05T19:29:59.139257Z"
    }
   },
   "outputs": [
    {
     "data": {
      "text/plain": "   user_id  clicks  orders  calculated  watcher\n0        1     163       2       False    False\n1        2     130       4       False    False\n2        3      97       0        True     True",
      "text/html": "<div>\n<style scoped>\n    .dataframe tbody tr th:only-of-type {\n        vertical-align: middle;\n    }\n\n    .dataframe tbody tr th {\n        vertical-align: top;\n    }\n\n    .dataframe thead th {\n        text-align: right;\n    }\n</style>\n<table border=\"1\" class=\"dataframe\">\n  <thead>\n    <tr style=\"text-align: right;\">\n      <th></th>\n      <th>user_id</th>\n      <th>clicks</th>\n      <th>orders</th>\n      <th>calculated</th>\n      <th>watcher</th>\n    </tr>\n  </thead>\n  <tbody>\n    <tr>\n      <th>0</th>\n      <td>1</td>\n      <td>163</td>\n      <td>2</td>\n      <td>False</td>\n      <td>False</td>\n    </tr>\n    <tr>\n      <th>1</th>\n      <td>2</td>\n      <td>130</td>\n      <td>4</td>\n      <td>False</td>\n      <td>False</td>\n    </tr>\n    <tr>\n      <th>2</th>\n      <td>3</td>\n      <td>97</td>\n      <td>0</td>\n      <td>True</td>\n      <td>True</td>\n    </tr>\n  </tbody>\n</table>\n</div>"
     },
     "execution_count": 17,
     "metadata": {},
     "output_type": "execute_result"
    }
   ],
   "source": [
    "df['watcher'] = df['orders'].apply(watcher)\n",
    "df"
   ]
  },
  {
   "cell_type": "markdown",
   "metadata": {},
   "source": [
    "Применяем метод apply к одному столбцу. Сейчас в переменную функции передаются значения одного столбца"
   ]
  },
  {
   "cell_type": "code",
   "execution_count": 18,
   "metadata": {
    "ExecuteTime": {
     "start_time": "2023-03-05T19:30:00.525753Z",
     "end_time": "2023-03-05T19:30:00.526257Z"
    }
   },
   "outputs": [],
   "source": [
    "def conversion(row):\n",
    "    \"\"\"Подсчет конверсии переходов в покупки\"\"\"\n",
    "    return row['orders'] / row['clicks']"
   ]
  },
  {
   "cell_type": "markdown",
   "metadata": {},
   "source": [
    "### Как потестировать функцию со значениями одной строки"
   ]
  },
  {
   "cell_type": "code",
   "execution_count": 19,
   "metadata": {
    "ExecuteTime": {
     "start_time": "2023-03-05T19:30:01.429662Z",
     "end_time": "2023-03-05T19:30:01.438434Z"
    }
   },
   "outputs": [
    {
     "data": {
      "text/plain": "0    0.01227\ndtype: float64"
     },
     "execution_count": 19,
     "metadata": {},
     "output_type": "execute_result"
    }
   ],
   "source": [
    "row1 = pd.DataFrame({'clicks': [163], \n",
    "                     'orders': [2], \n",
    "                     'user_id': [1]})\n",
    "conversion(row1)"
   ]
  },
  {
   "cell_type": "markdown",
   "metadata": {},
   "source": [
    "Применяем метод apply к датафрейму. В переменную функции передаются строки целиком"
   ]
  },
  {
   "cell_type": "code",
   "execution_count": 21,
   "metadata": {
    "ExecuteTime": {
     "start_time": "2023-03-05T19:30:04.223332Z",
     "end_time": "2023-03-05T19:30:04.233139Z"
    }
   },
   "outputs": [
    {
     "data": {
      "text/plain": "   user_id  clicks  orders\n0        1     163       2\n1        2     130       4\n2        3      97       0",
      "text/html": "<div>\n<style scoped>\n    .dataframe tbody tr th:only-of-type {\n        vertical-align: middle;\n    }\n\n    .dataframe tbody tr th {\n        vertical-align: top;\n    }\n\n    .dataframe thead th {\n        text-align: right;\n    }\n</style>\n<table border=\"1\" class=\"dataframe\">\n  <thead>\n    <tr style=\"text-align: right;\">\n      <th></th>\n      <th>user_id</th>\n      <th>clicks</th>\n      <th>orders</th>\n    </tr>\n  </thead>\n  <tbody>\n    <tr>\n      <th>0</th>\n      <td>1</td>\n      <td>163</td>\n      <td>2</td>\n    </tr>\n    <tr>\n      <th>1</th>\n      <td>2</td>\n      <td>130</td>\n      <td>4</td>\n    </tr>\n    <tr>\n      <th>2</th>\n      <td>3</td>\n      <td>97</td>\n      <td>0</td>\n    </tr>\n  </tbody>\n</table>\n</div>"
     },
     "execution_count": 21,
     "metadata": {},
     "output_type": "execute_result"
    }
   ],
   "source": [
    "df = pd.DataFrame({'user_id': [1, 2, 3], 'clicks': [163, 130, 97], 'orders': [2, 4, 0]})\n",
    "df[['user_id', 'clicks', 'orders']]"
   ]
  },
  {
   "cell_type": "code",
   "execution_count": 23,
   "metadata": {
    "ExecuteTime": {
     "start_time": "2023-03-05T19:30:10.901072Z",
     "end_time": "2023-03-05T19:30:10.906124Z"
    }
   },
   "outputs": [],
   "source": [
    "df['conversion'] = df.apply(conversion, axis=1)"
   ]
  },
  {
   "cell_type": "code",
   "execution_count": 24,
   "metadata": {
    "ExecuteTime": {
     "start_time": "2023-03-05T19:30:11.891089Z",
     "end_time": "2023-03-05T19:30:11.896953Z"
    }
   },
   "outputs": [
    {
     "data": {
      "text/plain": "   user_id  clicks  orders  conversion\n0        1     163       2    0.012270\n1        2     130       4    0.030769\n2        3      97       0    0.000000",
      "text/html": "<div>\n<style scoped>\n    .dataframe tbody tr th:only-of-type {\n        vertical-align: middle;\n    }\n\n    .dataframe tbody tr th {\n        vertical-align: top;\n    }\n\n    .dataframe thead th {\n        text-align: right;\n    }\n</style>\n<table border=\"1\" class=\"dataframe\">\n  <thead>\n    <tr style=\"text-align: right;\">\n      <th></th>\n      <th>user_id</th>\n      <th>clicks</th>\n      <th>orders</th>\n      <th>conversion</th>\n    </tr>\n  </thead>\n  <tbody>\n    <tr>\n      <th>0</th>\n      <td>1</td>\n      <td>163</td>\n      <td>2</td>\n      <td>0.012270</td>\n    </tr>\n    <tr>\n      <th>1</th>\n      <td>2</td>\n      <td>130</td>\n      <td>4</td>\n      <td>0.030769</td>\n    </tr>\n    <tr>\n      <th>2</th>\n      <td>3</td>\n      <td>97</td>\n      <td>0</td>\n      <td>0.000000</td>\n    </tr>\n  </tbody>\n</table>\n</div>"
     },
     "execution_count": 24,
     "metadata": {},
     "output_type": "execute_result"
    }
   ],
   "source": [
    "df[['user_id', 'clicks', 'orders', 'conversion']]"
   ]
  },
  {
   "cell_type": "markdown",
   "metadata": {},
   "source": [
    "### Как создавать столбцы с помощью функций"
   ]
  },
  {
   "cell_type": "code",
   "execution_count": 25,
   "metadata": {
    "ExecuteTime": {
     "start_time": "2023-03-05T19:30:13.887532Z",
     "end_time": "2023-03-05T19:30:13.892543Z"
    }
   },
   "outputs": [],
   "source": [
    "df = pd.DataFrame({'user_id': [1, 2, 3]})"
   ]
  },
  {
   "cell_type": "markdown",
   "source": [],
   "metadata": {
    "collapsed": false
   }
  },
  {
   "cell_type": "code",
   "execution_count": 26,
   "metadata": {
    "ExecuteTime": {
     "start_time": "2023-03-05T19:30:16.803199Z",
     "end_time": "2023-03-05T19:30:16.813303Z"
    }
   },
   "outputs": [
    {
     "data": {
      "text/plain": "   user_id\n0        1\n1        2\n2        3",
      "text/html": "<div>\n<style scoped>\n    .dataframe tbody tr th:only-of-type {\n        vertical-align: middle;\n    }\n\n    .dataframe tbody tr th {\n        vertical-align: top;\n    }\n\n    .dataframe thead th {\n        text-align: right;\n    }\n</style>\n<table border=\"1\" class=\"dataframe\">\n  <thead>\n    <tr style=\"text-align: right;\">\n      <th></th>\n      <th>user_id</th>\n    </tr>\n  </thead>\n  <tbody>\n    <tr>\n      <th>0</th>\n      <td>1</td>\n    </tr>\n    <tr>\n      <th>1</th>\n      <td>2</td>\n    </tr>\n    <tr>\n      <th>2</th>\n      <td>3</td>\n    </tr>\n  </tbody>\n</table>\n</div>"
     },
     "execution_count": 26,
     "metadata": {},
     "output_type": "execute_result"
    }
   ],
   "source": [
    "df"
   ]
  },
  {
   "cell_type": "code",
   "execution_count": 28,
   "metadata": {
    "ExecuteTime": {
     "start_time": "2023-03-05T19:30:19.893865Z",
     "end_time": "2023-03-05T19:30:19.898881Z"
    }
   },
   "outputs": [],
   "source": [
    "def metriks(row):\n",
    "    \"\"\"Возвращает новый столбец в зависимости от значения user_id\"\"\"\n",
    "    user_id = row.user_id\n",
    "    \n",
    "    return pd.Series({'col_{}'.format(user_id): 1})"
   ]
  },
  {
   "cell_type": "code",
   "execution_count": 29,
   "metadata": {
    "ExecuteTime": {
     "start_time": "2023-03-05T19:30:20.834802Z",
     "end_time": "2023-03-05T19:30:20.845476Z"
    }
   },
   "outputs": [
    {
     "data": {
      "text/plain": "   col_1  col_2  col_3\n0    1.0    NaN    NaN\n1    NaN    1.0    NaN\n2    NaN    NaN    1.0",
      "text/html": "<div>\n<style scoped>\n    .dataframe tbody tr th:only-of-type {\n        vertical-align: middle;\n    }\n\n    .dataframe tbody tr th {\n        vertical-align: top;\n    }\n\n    .dataframe thead th {\n        text-align: right;\n    }\n</style>\n<table border=\"1\" class=\"dataframe\">\n  <thead>\n    <tr style=\"text-align: right;\">\n      <th></th>\n      <th>col_1</th>\n      <th>col_2</th>\n      <th>col_3</th>\n    </tr>\n  </thead>\n  <tbody>\n    <tr>\n      <th>0</th>\n      <td>1.0</td>\n      <td>NaN</td>\n      <td>NaN</td>\n    </tr>\n    <tr>\n      <th>1</th>\n      <td>NaN</td>\n      <td>1.0</td>\n      <td>NaN</td>\n    </tr>\n    <tr>\n      <th>2</th>\n      <td>NaN</td>\n      <td>NaN</td>\n      <td>1.0</td>\n    </tr>\n  </tbody>\n</table>\n</div>"
     },
     "execution_count": 29,
     "metadata": {},
     "output_type": "execute_result"
    }
   ],
   "source": [
    "df = df.apply(metriks, axis=1)\n",
    "df"
   ]
  },
  {
   "cell_type": "markdown",
   "metadata": {},
   "source": [
    "### Анализ рекламных кампаний"
   ]
  },
  {
   "cell_type": "code",
   "execution_count": 1,
   "metadata": {
    "ExecuteTime": {
     "start_time": "2023-03-05T17:25:27.174310Z",
     "end_time": "2023-03-05T17:25:27.482121Z"
    }
   },
   "outputs": [],
   "source": [
    "import pandas as pd"
   ]
  },
  {
   "cell_type": "code",
   "execution_count": 2,
   "metadata": {
    "scrolled": true,
    "ExecuteTime": {
     "start_time": "2023-03-05T17:25:27.482121Z",
     "end_time": "2023-03-05T17:25:27.811344Z"
    }
   },
   "outputs": [
    {
     "data": {
      "text/plain": "     Название группы                            Фраза (с минус-словами)  \\\n0  мрт менделеевская                              \"!мрт !менделеевская\"   \n1            мрт цао                                \"мрт менделеевская\"   \n2            мрт цао  мрт менделеевская -головы -позвоночника -сдела...   \n3            мрт цао                                        \"!мрт !цао\"   \n4            мрт сао                                          \"мрт цао\"   \n\n   Продуктивность  ID объявления                      Заголовок  \\\n0             4.5     2101704995  МРТ на Менделеевской от 2000₽   \n1             4.5     2101704995  МРТ на Менделеевской от 2000₽   \n2             7.4     2101704995  МРТ на Менделеевской от 2000₽   \n3             5.0     2101704999   МРТ в ЦАО от 2000₽. Звоните!   \n4             5.0     2101704999   МРТ в ЦАО от 2000₽. Звоните!   \n\n                                               Текст  \\\n0  24 часа. МРТ в день обращения. Консультация вр...   \n1  24 часа. МРТ в день обращения. Консультация вр...   \n2  24 часа. МРТ в день обращения. Консультация вр...   \n3  24 часа. МРТ в день обращения. Консультация вр...   \n4  24 часа. МРТ в день обращения. Консультация вр...   \n\n                                              Ссылка  \n0  https://awesome-site.ru/?utm_source=yandex&utm...  \n1  https://awesome-site.ru/?utm_source=yandex&utm...  \n2  https://awesome-site.ru/?utm_source=yandex&utm...  \n3  https://awesome-site.ru/?utm_source=yandex&utm...  \n4  https://awesome-site.ru/?utm_source=yandex&utm...  ",
      "text/html": "<div>\n<style scoped>\n    .dataframe tbody tr th:only-of-type {\n        vertical-align: middle;\n    }\n\n    .dataframe tbody tr th {\n        vertical-align: top;\n    }\n\n    .dataframe thead th {\n        text-align: right;\n    }\n</style>\n<table border=\"1\" class=\"dataframe\">\n  <thead>\n    <tr style=\"text-align: right;\">\n      <th></th>\n      <th>Название группы</th>\n      <th>Фраза (с минус-словами)</th>\n      <th>Продуктивность</th>\n      <th>ID объявления</th>\n      <th>Заголовок</th>\n      <th>Текст</th>\n      <th>Ссылка</th>\n    </tr>\n  </thead>\n  <tbody>\n    <tr>\n      <th>0</th>\n      <td>мрт менделеевская</td>\n      <td>\"!мрт !менделеевская\"</td>\n      <td>4.5</td>\n      <td>2101704995</td>\n      <td>МРТ на Менделеевской от 2000₽</td>\n      <td>24 часа. МРТ в день обращения. Консультация вр...</td>\n      <td>https://awesome-site.ru/?utm_source=yandex&amp;utm...</td>\n    </tr>\n    <tr>\n      <th>1</th>\n      <td>мрт цао</td>\n      <td>\"мрт менделеевская\"</td>\n      <td>4.5</td>\n      <td>2101704995</td>\n      <td>МРТ на Менделеевской от 2000₽</td>\n      <td>24 часа. МРТ в день обращения. Консультация вр...</td>\n      <td>https://awesome-site.ru/?utm_source=yandex&amp;utm...</td>\n    </tr>\n    <tr>\n      <th>2</th>\n      <td>мрт цао</td>\n      <td>мрт менделеевская -головы -позвоночника -сдела...</td>\n      <td>7.4</td>\n      <td>2101704995</td>\n      <td>МРТ на Менделеевской от 2000₽</td>\n      <td>24 часа. МРТ в день обращения. Консультация вр...</td>\n      <td>https://awesome-site.ru/?utm_source=yandex&amp;utm...</td>\n    </tr>\n    <tr>\n      <th>3</th>\n      <td>мрт цао</td>\n      <td>\"!мрт !цао\"</td>\n      <td>5.0</td>\n      <td>2101704999</td>\n      <td>МРТ в ЦАО от 2000₽. Звоните!</td>\n      <td>24 часа. МРТ в день обращения. Консультация вр...</td>\n      <td>https://awesome-site.ru/?utm_source=yandex&amp;utm...</td>\n    </tr>\n    <tr>\n      <th>4</th>\n      <td>мрт сао</td>\n      <td>\"мрт цао\"</td>\n      <td>5.0</td>\n      <td>2101704999</td>\n      <td>МРТ в ЦАО от 2000₽. Звоните!</td>\n      <td>24 часа. МРТ в день обращения. Консультация вр...</td>\n      <td>https://awesome-site.ru/?utm_source=yandex&amp;utm...</td>\n    </tr>\n  </tbody>\n</table>\n</div>"
     },
     "execution_count": 2,
     "metadata": {},
     "output_type": "execute_result"
    }
   ],
   "source": [
    "stats = pd.read_excel('ad_campaigns.xlsx')\n",
    "stats.head()"
   ]
  },
  {
   "cell_type": "code",
   "execution_count": 3,
   "metadata": {
    "scrolled": true,
    "ExecuteTime": {
     "start_time": "2023-03-05T17:25:27.803616Z",
     "end_time": "2023-03-05T17:25:27.811344Z"
    }
   },
   "outputs": [
    {
     "data": {
      "text/plain": "               group                                             phrase  \\\n0  мрт менделеевская                              \"!мрт !менделеевская\"   \n1            мрт цао                                \"мрт менделеевская\"   \n2            мрт цао  мрт менделеевская -головы -позвоночника -сдела...   \n3            мрт цао                                        \"!мрт !цао\"   \n4            мрт сао                                          \"мрт цао\"   \n\n   effect       ad_id                          title  \\\n0     4.5  2101704995  МРТ на Менделеевской от 2000₽   \n1     4.5  2101704995  МРТ на Менделеевской от 2000₽   \n2     7.4  2101704995  МРТ на Менделеевской от 2000₽   \n3     5.0  2101704999   МРТ в ЦАО от 2000₽. Звоните!   \n4     5.0  2101704999   МРТ в ЦАО от 2000₽. Звоните!   \n\n                                                text  \\\n0  24 часа. МРТ в день обращения. Консультация вр...   \n1  24 часа. МРТ в день обращения. Консультация вр...   \n2  24 часа. МРТ в день обращения. Консультация вр...   \n3  24 часа. МРТ в день обращения. Консультация вр...   \n4  24 часа. МРТ в день обращения. Консультация вр...   \n\n                                                link  \n0  https://awesome-site.ru/?utm_source=yandex&utm...  \n1  https://awesome-site.ru/?utm_source=yandex&utm...  \n2  https://awesome-site.ru/?utm_source=yandex&utm...  \n3  https://awesome-site.ru/?utm_source=yandex&utm...  \n4  https://awesome-site.ru/?utm_source=yandex&utm...  ",
      "text/html": "<div>\n<style scoped>\n    .dataframe tbody tr th:only-of-type {\n        vertical-align: middle;\n    }\n\n    .dataframe tbody tr th {\n        vertical-align: top;\n    }\n\n    .dataframe thead th {\n        text-align: right;\n    }\n</style>\n<table border=\"1\" class=\"dataframe\">\n  <thead>\n    <tr style=\"text-align: right;\">\n      <th></th>\n      <th>group</th>\n      <th>phrase</th>\n      <th>effect</th>\n      <th>ad_id</th>\n      <th>title</th>\n      <th>text</th>\n      <th>link</th>\n    </tr>\n  </thead>\n  <tbody>\n    <tr>\n      <th>0</th>\n      <td>мрт менделеевская</td>\n      <td>\"!мрт !менделеевская\"</td>\n      <td>4.5</td>\n      <td>2101704995</td>\n      <td>МРТ на Менделеевской от 2000₽</td>\n      <td>24 часа. МРТ в день обращения. Консультация вр...</td>\n      <td>https://awesome-site.ru/?utm_source=yandex&amp;utm...</td>\n    </tr>\n    <tr>\n      <th>1</th>\n      <td>мрт цао</td>\n      <td>\"мрт менделеевская\"</td>\n      <td>4.5</td>\n      <td>2101704995</td>\n      <td>МРТ на Менделеевской от 2000₽</td>\n      <td>24 часа. МРТ в день обращения. Консультация вр...</td>\n      <td>https://awesome-site.ru/?utm_source=yandex&amp;utm...</td>\n    </tr>\n    <tr>\n      <th>2</th>\n      <td>мрт цао</td>\n      <td>мрт менделеевская -головы -позвоночника -сдела...</td>\n      <td>7.4</td>\n      <td>2101704995</td>\n      <td>МРТ на Менделеевской от 2000₽</td>\n      <td>24 часа. МРТ в день обращения. Консультация вр...</td>\n      <td>https://awesome-site.ru/?utm_source=yandex&amp;utm...</td>\n    </tr>\n    <tr>\n      <th>3</th>\n      <td>мрт цао</td>\n      <td>\"!мрт !цао\"</td>\n      <td>5.0</td>\n      <td>2101704999</td>\n      <td>МРТ в ЦАО от 2000₽. Звоните!</td>\n      <td>24 часа. МРТ в день обращения. Консультация вр...</td>\n      <td>https://awesome-site.ru/?utm_source=yandex&amp;utm...</td>\n    </tr>\n    <tr>\n      <th>4</th>\n      <td>мрт сао</td>\n      <td>\"мрт цао\"</td>\n      <td>5.0</td>\n      <td>2101704999</td>\n      <td>МРТ в ЦАО от 2000₽. Звоните!</td>\n      <td>24 часа. МРТ в день обращения. Консультация вр...</td>\n      <td>https://awesome-site.ru/?utm_source=yandex&amp;utm...</td>\n    </tr>\n  </tbody>\n</table>\n</div>"
     },
     "execution_count": 3,
     "metadata": {},
     "output_type": "execute_result"
    }
   ],
   "source": [
    "stats.columns = ['group', 'phrase', 'effect', 'ad_id', 'title', 'text', 'link']\n",
    "stats.head()"
   ]
  },
  {
   "cell_type": "markdown",
   "metadata": {},
   "source": [
    "### Lambda-функции\n",
    "Хотим посчитать распределение количества слов в столбце с фразами"
   ]
  },
  {
   "cell_type": "code",
   "execution_count": 4,
   "metadata": {
    "ExecuteTime": {
     "start_time": "2023-03-05T17:25:42.317825Z",
     "end_time": "2023-03-05T17:25:42.320834Z"
    }
   },
   "outputs": [],
   "source": [
    "phrase = 'МРТ на Менделеевской от 2000'"
   ]
  },
  {
   "cell_type": "code",
   "execution_count": 5,
   "metadata": {
    "ExecuteTime": {
     "start_time": "2023-03-05T17:25:44.768436Z",
     "end_time": "2023-03-05T17:25:44.775261Z"
    }
   },
   "outputs": [
    {
     "data": {
      "text/plain": "5"
     },
     "execution_count": 5,
     "metadata": {},
     "output_type": "execute_result"
    }
   ],
   "source": [
    "len(phrase.split(' '))"
   ]
  },
  {
   "cell_type": "code",
   "execution_count": 40,
   "metadata": {
    "ExecuteTime": {
     "start_time": "2023-03-05T19:51:05.642219Z",
     "end_time": "2023-03-05T19:51:05.653669Z"
    }
   },
   "outputs": [
    {
     "data": {
      "text/plain": "               group                                             phrase  \\\n0  мрт менделеевская                              \"!мрт !менделеевская\"   \n1            мрт цао                                \"мрт менделеевская\"   \n2            мрт цао  мрт менделеевская -головы -позвоночника -сдела...   \n3            мрт цао                                        \"!мрт !цао\"   \n4            мрт сао                                          \"мрт цао\"   \n\n   effect       ad_id                          title  \\\n0     4.5  2101704995  МРТ на Менделеевской от 2000₽   \n1     4.5  2101704995  МРТ на Менделеевской от 2000₽   \n2     7.4  2101704995  МРТ на Менделеевской от 2000₽   \n3     5.0  2101704999   МРТ в ЦАО от 2000₽. Звоните!   \n4     5.0  2101704999   МРТ в ЦАО от 2000₽. Звоните!   \n\n                                                text  \\\n0  24 часа. МРТ в день обращения. Консультация вр...   \n1  24 часа. МРТ в день обращения. Консультация вр...   \n2  24 часа. МРТ в день обращения. Консультация вр...   \n3  24 часа. МРТ в день обращения. Консультация вр...   \n4  24 часа. МРТ в день обращения. Консультация вр...   \n\n                                                link  word_count  \n0  https://awesome-site.ru/?utm_source=yandex&utm...           2  \n1  https://awesome-site.ru/?utm_source=yandex&utm...           2  \n2  https://awesome-site.ru/?utm_source=yandex&utm...           6  \n3  https://awesome-site.ru/?utm_source=yandex&utm...           2  \n4  https://awesome-site.ru/?utm_source=yandex&utm...           2  ",
      "text/html": "<div>\n<style scoped>\n    .dataframe tbody tr th:only-of-type {\n        vertical-align: middle;\n    }\n\n    .dataframe tbody tr th {\n        vertical-align: top;\n    }\n\n    .dataframe thead th {\n        text-align: right;\n    }\n</style>\n<table border=\"1\" class=\"dataframe\">\n  <thead>\n    <tr style=\"text-align: right;\">\n      <th></th>\n      <th>group</th>\n      <th>phrase</th>\n      <th>effect</th>\n      <th>ad_id</th>\n      <th>title</th>\n      <th>text</th>\n      <th>link</th>\n      <th>word_count</th>\n    </tr>\n  </thead>\n  <tbody>\n    <tr>\n      <th>0</th>\n      <td>мрт менделеевская</td>\n      <td>\"!мрт !менделеевская\"</td>\n      <td>4.5</td>\n      <td>2101704995</td>\n      <td>МРТ на Менделеевской от 2000₽</td>\n      <td>24 часа. МРТ в день обращения. Консультация вр...</td>\n      <td>https://awesome-site.ru/?utm_source=yandex&amp;utm...</td>\n      <td>2</td>\n    </tr>\n    <tr>\n      <th>1</th>\n      <td>мрт цао</td>\n      <td>\"мрт менделеевская\"</td>\n      <td>4.5</td>\n      <td>2101704995</td>\n      <td>МРТ на Менделеевской от 2000₽</td>\n      <td>24 часа. МРТ в день обращения. Консультация вр...</td>\n      <td>https://awesome-site.ru/?utm_source=yandex&amp;utm...</td>\n      <td>2</td>\n    </tr>\n    <tr>\n      <th>2</th>\n      <td>мрт цао</td>\n      <td>мрт менделеевская -головы -позвоночника -сдела...</td>\n      <td>7.4</td>\n      <td>2101704995</td>\n      <td>МРТ на Менделеевской от 2000₽</td>\n      <td>24 часа. МРТ в день обращения. Консультация вр...</td>\n      <td>https://awesome-site.ru/?utm_source=yandex&amp;utm...</td>\n      <td>6</td>\n    </tr>\n    <tr>\n      <th>3</th>\n      <td>мрт цао</td>\n      <td>\"!мрт !цао\"</td>\n      <td>5.0</td>\n      <td>2101704999</td>\n      <td>МРТ в ЦАО от 2000₽. Звоните!</td>\n      <td>24 часа. МРТ в день обращения. Консультация вр...</td>\n      <td>https://awesome-site.ru/?utm_source=yandex&amp;utm...</td>\n      <td>2</td>\n    </tr>\n    <tr>\n      <th>4</th>\n      <td>мрт сао</td>\n      <td>\"мрт цао\"</td>\n      <td>5.0</td>\n      <td>2101704999</td>\n      <td>МРТ в ЦАО от 2000₽. Звоните!</td>\n      <td>24 часа. МРТ в день обращения. Консультация вр...</td>\n      <td>https://awesome-site.ru/?utm_source=yandex&amp;utm...</td>\n      <td>2</td>\n    </tr>\n  </tbody>\n</table>\n</div>"
     },
     "execution_count": 40,
     "metadata": {},
     "output_type": "execute_result"
    }
   ],
   "source": [
    "stats['word_count'] = stats['phrase'].apply(lambda word: len(word.split(' ')))\n",
    "stats.head()"
   ]
  },
  {
   "cell_type": "code",
   "execution_count": 7,
   "metadata": {
    "ExecuteTime": {
     "start_time": "2023-03-05T17:25:53.235620Z",
     "end_time": "2023-03-05T17:25:53.251173Z"
    }
   },
   "outputs": [
    {
     "data": {
      "text/plain": "               group                                             phrase  \\\n0  мрт менделеевская                              \"!мрт !менделеевская\"   \n1            мрт цао                                \"мрт менделеевская\"   \n2            мрт цао  мрт менделеевская -головы -позвоночника -сдела...   \n3            мрт цао                                        \"!мрт !цао\"   \n4            мрт сао                                          \"мрт цао\"   \n\n   effect       ad_id                          title  \\\n0     4.5  2101704995  МРТ на Менделеевской от 2000₽   \n1     4.5  2101704995  МРТ на Менделеевской от 2000₽   \n2     7.4  2101704995  МРТ на Менделеевской от 2000₽   \n3     5.0  2101704999   МРТ в ЦАО от 2000₽. Звоните!   \n4     5.0  2101704999   МРТ в ЦАО от 2000₽. Звоните!   \n\n                                                text  \\\n0  24 часа. МРТ в день обращения. Консультация вр...   \n1  24 часа. МРТ в день обращения. Консультация вр...   \n2  24 часа. МРТ в день обращения. Консультация вр...   \n3  24 часа. МРТ в день обращения. Консультация вр...   \n4  24 часа. МРТ в день обращения. Консультация вр...   \n\n                                                link  word_count  \n0  https://awesome-site.ru/?utm_source=yandex&utm...           2  \n1  https://awesome-site.ru/?utm_source=yandex&utm...           2  \n2  https://awesome-site.ru/?utm_source=yandex&utm...           6  \n3  https://awesome-site.ru/?utm_source=yandex&utm...           2  \n4  https://awesome-site.ru/?utm_source=yandex&utm...           2  ",
      "text/html": "<div>\n<style scoped>\n    .dataframe tbody tr th:only-of-type {\n        vertical-align: middle;\n    }\n\n    .dataframe tbody tr th {\n        vertical-align: top;\n    }\n\n    .dataframe thead th {\n        text-align: right;\n    }\n</style>\n<table border=\"1\" class=\"dataframe\">\n  <thead>\n    <tr style=\"text-align: right;\">\n      <th></th>\n      <th>group</th>\n      <th>phrase</th>\n      <th>effect</th>\n      <th>ad_id</th>\n      <th>title</th>\n      <th>text</th>\n      <th>link</th>\n      <th>word_count</th>\n    </tr>\n  </thead>\n  <tbody>\n    <tr>\n      <th>0</th>\n      <td>мрт менделеевская</td>\n      <td>\"!мрт !менделеевская\"</td>\n      <td>4.5</td>\n      <td>2101704995</td>\n      <td>МРТ на Менделеевской от 2000₽</td>\n      <td>24 часа. МРТ в день обращения. Консультация вр...</td>\n      <td>https://awesome-site.ru/?utm_source=yandex&amp;utm...</td>\n      <td>2</td>\n    </tr>\n    <tr>\n      <th>1</th>\n      <td>мрт цао</td>\n      <td>\"мрт менделеевская\"</td>\n      <td>4.5</td>\n      <td>2101704995</td>\n      <td>МРТ на Менделеевской от 2000₽</td>\n      <td>24 часа. МРТ в день обращения. Консультация вр...</td>\n      <td>https://awesome-site.ru/?utm_source=yandex&amp;utm...</td>\n      <td>2</td>\n    </tr>\n    <tr>\n      <th>2</th>\n      <td>мрт цао</td>\n      <td>мрт менделеевская -головы -позвоночника -сдела...</td>\n      <td>7.4</td>\n      <td>2101704995</td>\n      <td>МРТ на Менделеевской от 2000₽</td>\n      <td>24 часа. МРТ в день обращения. Консультация вр...</td>\n      <td>https://awesome-site.ru/?utm_source=yandex&amp;utm...</td>\n      <td>6</td>\n    </tr>\n    <tr>\n      <th>3</th>\n      <td>мрт цао</td>\n      <td>\"!мрт !цао\"</td>\n      <td>5.0</td>\n      <td>2101704999</td>\n      <td>МРТ в ЦАО от 2000₽. Звоните!</td>\n      <td>24 часа. МРТ в день обращения. Консультация вр...</td>\n      <td>https://awesome-site.ru/?utm_source=yandex&amp;utm...</td>\n      <td>2</td>\n    </tr>\n    <tr>\n      <th>4</th>\n      <td>мрт сао</td>\n      <td>\"мрт цао\"</td>\n      <td>5.0</td>\n      <td>2101704999</td>\n      <td>МРТ в ЦАО от 2000₽. Звоните!</td>\n      <td>24 часа. МРТ в день обращения. Консультация вр...</td>\n      <td>https://awesome-site.ru/?utm_source=yandex&amp;utm...</td>\n      <td>2</td>\n    </tr>\n  </tbody>\n</table>\n</div>"
     },
     "execution_count": 7,
     "metadata": {},
     "output_type": "execute_result"
    }
   ],
   "source": [
    "# вариант с передачей всей строчки функции\n",
    "# тут надо обязательно указать параметр axis = 1\n",
    "\n",
    "stats['word_count'] = stats.apply(lambda x: len(x['phrase'].split(' ')), axis=1)\n",
    "stats.head()"
   ]
  },
  {
   "cell_type": "markdown",
   "metadata": {},
   "source": [
    "Простая визуализация"
   ]
  },
  {
   "cell_type": "code",
   "execution_count": 30,
   "metadata": {
    "ExecuteTime": {
     "start_time": "2023-03-05T19:34:47.449648Z",
     "end_time": "2023-03-05T19:34:47.454801Z"
    }
   },
   "outputs": [],
   "source": [
    "%matplotlib inline"
   ]
  },
  {
   "cell_type": "code",
   "execution_count": 31,
   "metadata": {
    "ExecuteTime": {
     "start_time": "2023-03-05T19:34:48.121424Z",
     "end_time": "2023-03-05T19:34:48.221826Z"
    }
   },
   "outputs": [
    {
     "data": {
      "text/plain": "<Axes: >"
     },
     "execution_count": 31,
     "metadata": {},
     "output_type": "execute_result"
    },
    {
     "data": {
      "text/plain": "<Figure size 640x480 with 1 Axes>",
      "image/png": "[encoded data removed]"
     },
     "metadata": {},
     "output_type": "display_data"
    }
   ],
   "source": [
    "stats['word_count'].hist()"
   ]
  },
  {
   "cell_type": "code",
   "execution_count": 32,
   "metadata": {
    "scrolled": true,
    "ExecuteTime": {
     "start_time": "2023-03-05T19:34:50.509906Z",
     "end_time": "2023-03-05T19:34:50.617562Z"
    }
   },
   "outputs": [
    {
     "data": {
      "text/plain": "<Axes: >"
     },
     "execution_count": 32,
     "metadata": {},
     "output_type": "execute_result"
    },
    {
     "data": {
      "text/plain": "<Figure size 640x480 with 1 Axes>",
      "image/png": "[encoded data removed]"
     },
     "metadata": {},
     "output_type": "display_data"
    }
   ],
   "source": [
    "stats['word_count'].hist(bins=30)"
   ]
  },
  {
   "cell_type": "markdown",
   "metadata": {},
   "source": [
    "### Упражнение\n",
    "Поисковые запросы с каким количеством слов встречаются в наших данных чаще всего? Выведите топ-5"
   ]
  },
  {
   "cell_type": "code",
   "execution_count": 66,
   "metadata": {
    "ExecuteTime": {
     "start_time": "2023-03-05T20:12:47.174898Z",
     "end_time": "2023-03-05T20:12:47.303354Z"
    }
   },
   "outputs": [
    {
     "data": {
      "text/plain": "word_count\n3    1129\n4     529\n2     189\n5     137\n6      84\ndtype: int64"
     },
     "execution_count": 66,
     "metadata": {},
     "output_type": "execute_result"
    }
   ],
   "source": [
    "import pandas as pd\n",
    "inform_init = pd.read_excel('ad_campaigns.xlsx')\n",
    "inform_init.columns = ['group', 'phrase', 'effect', 'ad_id', 'title', 'text', 'link']\n",
    "inform_init['word_count'] = inform_init.apply(lambda word: len(word.phrase.split(' ')), axis=1)\n",
    "len_phrase = [lambda word: len(word.split(' '))]\n",
    "inform_init_result = inform_init.value_counts(\"word_count\")\n",
    "inform_init_result.head(5)"
   ]
  },
  {
   "cell_type": "code",
   "execution_count": 65,
   "metadata": {
    "ExecuteTime": {
     "start_time": "2023-03-05T20:12:40.403671Z",
     "end_time": "2023-03-05T20:12:40.408948Z"
    }
   },
   "outputs": [
    {
     "data": {
      "text/plain": "word_count\n3    0.522927\n4    0.245021\n2    0.087541\n5    0.063455\n6    0.038907\ndtype: float64"
     },
     "execution_count": 65,
     "metadata": {},
     "output_type": "execute_result"
    }
   ],
   "source": [
    "inform_init_result = inform_init.value_counts(\"word_count\", normalize=True)\n",
    "inform_init_result.head(5)"
   ]
  },
  {
   "cell_type": "code",
   "execution_count": 49,
   "metadata": {
    "ExecuteTime": {
     "start_time": "2023-03-05T19:53:08.383309Z",
     "end_time": "2023-03-05T19:53:08.509126Z"
    }
   },
   "outputs": [
    {
     "data": {
      "text/plain": "<Axes: >"
     },
     "execution_count": 49,
     "metadata": {},
     "output_type": "execute_result"
    },
    {
     "data": {
      "text/plain": "<Figure size 640x480 with 1 Axes>",
      "image/png": "[encoded data removed]"
     },
     "metadata": {},
     "output_type": "display_data"
    }
   ],
   "source": [
    "inform_init['word_count'].hist(bins=45)"
   ]
  },
  {
   "cell_type": "markdown",
   "metadata": {},
   "source": [
    "### Произвольные функции\n",
    "В URL кампаний есть названия. С этим надо что-то делать"
   ]
  },
  {
   "cell_type": "code",
   "execution_count": 72,
   "metadata": {
    "ExecuteTime": {
     "start_time": "2023-03-05T20:25:21.119216Z",
     "end_time": "2023-03-05T20:25:21.124244Z"
    }
   },
   "outputs": [
    {
     "data": {
      "text/plain": "'https://awesome-site.ru/?utm_source=yandex&utm_medium=cpc&utm_campaign=a825749b87&utm_content=dev_{device_type}'"
     },
     "execution_count": 72,
     "metadata": {},
     "output_type": "execute_result"
    }
   ],
   "source": [
    "# пример ссылки\n",
    "url = stats.loc[0, 'link']\n",
    "url"
   ]
  },
  {
   "cell_type": "code",
   "execution_count": 73,
   "metadata": {
    "ExecuteTime": {
     "start_time": "2023-03-05T20:25:22.349498Z",
     "end_time": "2023-03-05T20:25:22.352505Z"
    }
   },
   "outputs": [],
   "source": [
    "from urllib import parse"
   ]
  },
  {
   "cell_type": "code",
   "execution_count": 74,
   "metadata": {
    "ExecuteTime": {
     "start_time": "2023-03-05T20:25:23.656010Z",
     "end_time": "2023-03-05T20:25:23.662068Z"
    }
   },
   "outputs": [
    {
     "data": {
      "text/plain": "SplitResult(scheme='https', netloc='ya.ru', path='/news/sport', query='search=footbal', fragment='abc')"
     },
     "execution_count": 74,
     "metadata": {},
     "output_type": "execute_result"
    }
   ],
   "source": [
    "parse.urlsplit('https://ya.ru/news/sport?search=footbal#abc')"
   ]
  },
  {
   "cell_type": "code",
   "execution_count": 75,
   "metadata": {
    "ExecuteTime": {
     "start_time": "2023-03-05T20:25:24.772902Z",
     "end_time": "2023-03-05T20:25:24.782284Z"
    }
   },
   "outputs": [
    {
     "data": {
      "text/plain": "SplitResult(scheme='https', netloc='awesome-site.ru', path='/', query='utm_source=yandex&utm_medium=cpc&utm_campaign=a825749b87&utm_content=dev_{device_type}', fragment='')"
     },
     "execution_count": 75,
     "metadata": {},
     "output_type": "execute_result"
    }
   ],
   "source": [
    "parsed = parse.urlsplit(url)\n",
    "parsed"
   ]
  },
  {
   "cell_type": "code",
   "execution_count": 76,
   "metadata": {
    "ExecuteTime": {
     "start_time": "2023-03-05T20:25:26.437677Z",
     "end_time": "2023-03-05T20:25:26.443344Z"
    }
   },
   "outputs": [
    {
     "data": {
      "text/plain": "'a825749b87'"
     },
     "execution_count": 76,
     "metadata": {},
     "output_type": "execute_result"
    }
   ],
   "source": [
    "# можно конечно вручную\n",
    "parsed.query.split('&')[2].split('=')[1]"
   ]
  },
  {
   "cell_type": "code",
   "execution_count": 78,
   "metadata": {
    "ExecuteTime": {
     "start_time": "2023-03-05T20:26:50.205121Z",
     "end_time": "2023-03-05T20:26:50.210706Z"
    }
   },
   "outputs": [
    {
     "data": {
      "text/plain": "'awesome-site.ru'"
     },
     "execution_count": 78,
     "metadata": {},
     "output_type": "execute_result"
    }
   ],
   "source": [
    "# как доставать значения\n",
    "\n",
    "parsed.netloc"
   ]
  },
  {
   "cell_type": "code",
   "execution_count": 79,
   "metadata": {
    "ExecuteTime": {
     "start_time": "2023-03-05T20:26:52.977833Z",
     "end_time": "2023-03-05T20:26:52.983736Z"
    }
   },
   "outputs": [
    {
     "data": {
      "text/plain": "{'utm_source': ['yandex'],\n 'utm_medium': ['cpc'],\n 'utm_campaign': ['a825749b87'],\n 'utm_content': ['dev_{device_type}']}"
     },
     "execution_count": 79,
     "metadata": {},
     "output_type": "execute_result"
    }
   ],
   "source": [
    "params = parse.parse_qs(parsed.query)\n",
    "params"
   ]
  },
  {
   "cell_type": "code",
   "execution_count": 82,
   "metadata": {
    "ExecuteTime": {
     "start_time": "2023-03-05T20:28:57.721492Z",
     "end_time": "2023-03-05T20:28:57.726776Z"
    }
   },
   "outputs": [
    {
     "data": {
      "text/plain": "'a825749b87'"
     },
     "execution_count": 82,
     "metadata": {},
     "output_type": "execute_result"
    }
   ],
   "source": [
    "# вот и кампании\n",
    "\n",
    "params['utm_campaign'][0]"
   ]
  },
  {
   "cell_type": "code",
   "execution_count": 84,
   "metadata": {
    "ExecuteTime": {
     "start_time": "2023-03-05T20:35:18.894837Z",
     "end_time": "2023-03-05T20:35:18.900057Z"
    }
   },
   "outputs": [
    {
     "data": {
      "text/plain": "{'a': ['1', '2', '3']}"
     },
     "execution_count": 84,
     "metadata": {},
     "output_type": "execute_result"
    }
   ],
   "source": [
    "# зачем тут везде списки?\n",
    "\n",
    "url_with_doubles = 'https://awesome-site.ru/?a=1&a=2&a=3'\n",
    "\n",
    "parsed = parse.urlsplit(url_with_doubles)\n",
    "parse.parse_qs(parsed.query)"
   ]
  },
  {
   "cell_type": "code",
   "execution_count": 85,
   "metadata": {
    "ExecuteTime": {
     "start_time": "2023-03-05T20:36:35.528063Z",
     "end_time": "2023-03-05T20:36:35.531070Z"
    }
   },
   "outputs": [],
   "source": [
    "# оборачиваем все в функцию\n",
    "# в качестве аргумента будет строка датафрейма\n",
    "\n",
    "def campaign_name(row):\n",
    "    \"\"\"Получение названия кампании из ссылки внутри строки row\"\"\"\n",
    "\n",
    "    parsed = parse.urlsplit(row['link'])\n",
    "    params_dict = parse.parse_qs(parsed.query)\n",
    "\n",
    "    return params_dict['utm_campaign'][0]"
   ]
  },
  {
   "cell_type": "code",
   "execution_count": 86,
   "metadata": {
    "ExecuteTime": {
     "start_time": "2023-03-05T20:36:40.443785Z",
     "end_time": "2023-03-05T20:36:40.448458Z"
    }
   },
   "outputs": [
    {
     "data": {
      "text/plain": "               group                                             phrase  \\\n0  мрт менделеевская                              \"!мрт !менделеевская\"   \n1            мрт цао                                \"мрт менделеевская\"   \n2            мрт цао  мрт менделеевская -головы -позвоночника -сдела...   \n3            мрт цао                                        \"!мрт !цао\"   \n4            мрт сао                                          \"мрт цао\"   \n\n   effect       ad_id                          title  \\\n0     4.5  2101704995  МРТ на Менделеевской от 2000₽   \n1     4.5  2101704995  МРТ на Менделеевской от 2000₽   \n2     7.4  2101704995  МРТ на Менделеевской от 2000₽   \n3     5.0  2101704999   МРТ в ЦАО от 2000₽. Звоните!   \n4     5.0  2101704999   МРТ в ЦАО от 2000₽. Звоните!   \n\n                                                text  \\\n0  24 часа. МРТ в день обращения. Консультация вр...   \n1  24 часа. МРТ в день обращения. Консультация вр...   \n2  24 часа. МРТ в день обращения. Консультация вр...   \n3  24 часа. МРТ в день обращения. Консультация вр...   \n4  24 часа. МРТ в день обращения. Консультация вр...   \n\n                                                link  word_count  \n0  https://awesome-site.ru/?utm_source=yandex&utm...           2  \n1  https://awesome-site.ru/?utm_source=yandex&utm...           2  \n2  https://awesome-site.ru/?utm_source=yandex&utm...           6  \n3  https://awesome-site.ru/?utm_source=yandex&utm...           2  \n4  https://awesome-site.ru/?utm_source=yandex&utm...           2  ",
      "text/html": "<div>\n<style scoped>\n    .dataframe tbody tr th:only-of-type {\n        vertical-align: middle;\n    }\n\n    .dataframe tbody tr th {\n        vertical-align: top;\n    }\n\n    .dataframe thead th {\n        text-align: right;\n    }\n</style>\n<table border=\"1\" class=\"dataframe\">\n  <thead>\n    <tr style=\"text-align: right;\">\n      <th></th>\n      <th>group</th>\n      <th>phrase</th>\n      <th>effect</th>\n      <th>ad_id</th>\n      <th>title</th>\n      <th>text</th>\n      <th>link</th>\n      <th>word_count</th>\n    </tr>\n  </thead>\n  <tbody>\n    <tr>\n      <th>0</th>\n      <td>мрт менделеевская</td>\n      <td>\"!мрт !менделеевская\"</td>\n      <td>4.5</td>\n      <td>2101704995</td>\n      <td>МРТ на Менделеевской от 2000₽</td>\n      <td>24 часа. МРТ в день обращения. Консультация вр...</td>\n      <td>https://awesome-site.ru/?utm_source=yandex&amp;utm...</td>\n      <td>2</td>\n    </tr>\n    <tr>\n      <th>1</th>\n      <td>мрт цао</td>\n      <td>\"мрт менделеевская\"</td>\n      <td>4.5</td>\n      <td>2101704995</td>\n      <td>МРТ на Менделеевской от 2000₽</td>\n      <td>24 часа. МРТ в день обращения. Консультация вр...</td>\n      <td>https://awesome-site.ru/?utm_source=yandex&amp;utm...</td>\n      <td>2</td>\n    </tr>\n    <tr>\n      <th>2</th>\n      <td>мрт цао</td>\n      <td>мрт менделеевская -головы -позвоночника -сдела...</td>\n      <td>7.4</td>\n      <td>2101704995</td>\n      <td>МРТ на Менделеевской от 2000₽</td>\n      <td>24 часа. МРТ в день обращения. Консультация вр...</td>\n      <td>https://awesome-site.ru/?utm_source=yandex&amp;utm...</td>\n      <td>6</td>\n    </tr>\n    <tr>\n      <th>3</th>\n      <td>мрт цао</td>\n      <td>\"!мрт !цао\"</td>\n      <td>5.0</td>\n      <td>2101704999</td>\n      <td>МРТ в ЦАО от 2000₽. Звоните!</td>\n      <td>24 часа. МРТ в день обращения. Консультация вр...</td>\n      <td>https://awesome-site.ru/?utm_source=yandex&amp;utm...</td>\n      <td>2</td>\n    </tr>\n    <tr>\n      <th>4</th>\n      <td>мрт сао</td>\n      <td>\"мрт цао\"</td>\n      <td>5.0</td>\n      <td>2101704999</td>\n      <td>МРТ в ЦАО от 2000₽. Звоните!</td>\n      <td>24 часа. МРТ в день обращения. Консультация вр...</td>\n      <td>https://awesome-site.ru/?utm_source=yandex&amp;utm...</td>\n      <td>2</td>\n    </tr>\n  </tbody>\n</table>\n</div>"
     },
     "execution_count": 86,
     "metadata": {},
     "output_type": "execute_result"
    }
   ],
   "source": [
    "# проверяем датафрейм\n",
    "stats.head()"
   ]
  },
  {
   "cell_type": "code",
   "execution_count": 87,
   "metadata": {
    "scrolled": true,
    "ExecuteTime": {
     "start_time": "2023-03-05T20:36:57.548773Z",
     "end_time": "2023-03-05T20:36:57.569441Z"
    }
   },
   "outputs": [
    {
     "data": {
      "text/plain": "               group                                             phrase  \\\n0  мрт менделеевская                              \"!мрт !менделеевская\"   \n1            мрт цао                                \"мрт менделеевская\"   \n2            мрт цао  мрт менделеевская -головы -позвоночника -сдела...   \n3            мрт цао                                        \"!мрт !цао\"   \n4            мрт сао                                          \"мрт цао\"   \n\n   effect       ad_id                          title  \\\n0     4.5  2101704995  МРТ на Менделеевской от 2000₽   \n1     4.5  2101704995  МРТ на Менделеевской от 2000₽   \n2     7.4  2101704995  МРТ на Менделеевской от 2000₽   \n3     5.0  2101704999   МРТ в ЦАО от 2000₽. Звоните!   \n4     5.0  2101704999   МРТ в ЦАО от 2000₽. Звоните!   \n\n                                                text  \\\n0  24 часа. МРТ в день обращения. Консультация вр...   \n1  24 часа. МРТ в день обращения. Консультация вр...   \n2  24 часа. МРТ в день обращения. Консультация вр...   \n3  24 часа. МРТ в день обращения. Консультация вр...   \n4  24 часа. МРТ в день обращения. Консультация вр...   \n\n                                                link  word_count    campaign  \n0  https://awesome-site.ru/?utm_source=yandex&utm...           2  a825749b87  \n1  https://awesome-site.ru/?utm_source=yandex&utm...           2  a825749b87  \n2  https://awesome-site.ru/?utm_source=yandex&utm...           6  a825749b87  \n3  https://awesome-site.ru/?utm_source=yandex&utm...           2  9cc0c5f6ca  \n4  https://awesome-site.ru/?utm_source=yandex&utm...           2  9cc0c5f6ca  ",
      "text/html": "<div>\n<style scoped>\n    .dataframe tbody tr th:only-of-type {\n        vertical-align: middle;\n    }\n\n    .dataframe tbody tr th {\n        vertical-align: top;\n    }\n\n    .dataframe thead th {\n        text-align: right;\n    }\n</style>\n<table border=\"1\" class=\"dataframe\">\n  <thead>\n    <tr style=\"text-align: right;\">\n      <th></th>\n      <th>group</th>\n      <th>phrase</th>\n      <th>effect</th>\n      <th>ad_id</th>\n      <th>title</th>\n      <th>text</th>\n      <th>link</th>\n      <th>word_count</th>\n      <th>campaign</th>\n    </tr>\n  </thead>\n  <tbody>\n    <tr>\n      <th>0</th>\n      <td>мрт менделеевская</td>\n      <td>\"!мрт !менделеевская\"</td>\n      <td>4.5</td>\n      <td>2101704995</td>\n      <td>МРТ на Менделеевской от 2000₽</td>\n      <td>24 часа. МРТ в день обращения. Консультация вр...</td>\n      <td>https://awesome-site.ru/?utm_source=yandex&amp;utm...</td>\n      <td>2</td>\n      <td>a825749b87</td>\n    </tr>\n    <tr>\n      <th>1</th>\n      <td>мрт цао</td>\n      <td>\"мрт менделеевская\"</td>\n      <td>4.5</td>\n      <td>2101704995</td>\n      <td>МРТ на Менделеевской от 2000₽</td>\n      <td>24 часа. МРТ в день обращения. Консультация вр...</td>\n      <td>https://awesome-site.ru/?utm_source=yandex&amp;utm...</td>\n      <td>2</td>\n      <td>a825749b87</td>\n    </tr>\n    <tr>\n      <th>2</th>\n      <td>мрт цао</td>\n      <td>мрт менделеевская -головы -позвоночника -сдела...</td>\n      <td>7.4</td>\n      <td>2101704995</td>\n      <td>МРТ на Менделеевской от 2000₽</td>\n      <td>24 часа. МРТ в день обращения. Консультация вр...</td>\n      <td>https://awesome-site.ru/?utm_source=yandex&amp;utm...</td>\n      <td>6</td>\n      <td>a825749b87</td>\n    </tr>\n    <tr>\n      <th>3</th>\n      <td>мрт цао</td>\n      <td>\"!мрт !цао\"</td>\n      <td>5.0</td>\n      <td>2101704999</td>\n      <td>МРТ в ЦАО от 2000₽. Звоните!</td>\n      <td>24 часа. МРТ в день обращения. Консультация вр...</td>\n      <td>https://awesome-site.ru/?utm_source=yandex&amp;utm...</td>\n      <td>2</td>\n      <td>9cc0c5f6ca</td>\n    </tr>\n    <tr>\n      <th>4</th>\n      <td>мрт сао</td>\n      <td>\"мрт цао\"</td>\n      <td>5.0</td>\n      <td>2101704999</td>\n      <td>МРТ в ЦАО от 2000₽. Звоните!</td>\n      <td>24 часа. МРТ в день обращения. Консультация вр...</td>\n      <td>https://awesome-site.ru/?utm_source=yandex&amp;utm...</td>\n      <td>2</td>\n      <td>9cc0c5f6ca</td>\n    </tr>\n  </tbody>\n</table>\n</div>"
     },
     "execution_count": 87,
     "metadata": {},
     "output_type": "execute_result"
    }
   ],
   "source": [
    "stats['campaign'] = stats.apply(campaign_name, axis=1)\n",
    "stats.head()"
   ]
  },
  {
   "cell_type": "markdown",
   "metadata": {},
   "source": [
    "### Как передать в функцию несколько аргументов"
   ]
  },
  {
   "cell_type": "code",
   "execution_count": 88,
   "metadata": {
    "ExecuteTime": {
     "start_time": "2023-03-05T20:37:26.592764Z",
     "end_time": "2023-03-05T20:37:26.596510Z"
    }
   },
   "outputs": [],
   "source": [
    "# как передать несколько аргументов\n",
    "\n",
    "def power_up(row, n):\n",
    "    \"\"\"Возводит значение столбца effect в степень n\"\"\"\n",
    "    return row['effect'] ** n"
   ]
  },
  {
   "cell_type": "code",
   "execution_count": 89,
   "metadata": {
    "ExecuteTime": {
     "start_time": "2023-03-05T20:37:27.605297Z",
     "end_time": "2023-03-05T20:37:27.617670Z"
    }
   },
   "outputs": [
    {
     "data": {
      "text/plain": "               group                                             phrase  \\\n0  мрт менделеевская                              \"!мрт !менделеевская\"   \n1            мрт цао                                \"мрт менделеевская\"   \n2            мрт цао  мрт менделеевская -головы -позвоночника -сдела...   \n3            мрт цао                                        \"!мрт !цао\"   \n4            мрт сао                                          \"мрт цао\"   \n\n   effect       ad_id                          title  \\\n0     4.5  2101704995  МРТ на Менделеевской от 2000₽   \n1     4.5  2101704995  МРТ на Менделеевской от 2000₽   \n2     7.4  2101704995  МРТ на Менделеевской от 2000₽   \n3     5.0  2101704999   МРТ в ЦАО от 2000₽. Звоните!   \n4     5.0  2101704999   МРТ в ЦАО от 2000₽. Звоните!   \n\n                                                text  \\\n0  24 часа. МРТ в день обращения. Консультация вр...   \n1  24 часа. МРТ в день обращения. Консультация вр...   \n2  24 часа. МРТ в день обращения. Консультация вр...   \n3  24 часа. МРТ в день обращения. Консультация вр...   \n4  24 часа. МРТ в день обращения. Консультация вр...   \n\n                                                link  word_count    campaign  \\\n0  https://awesome-site.ru/?utm_source=yandex&utm...           2  a825749b87   \n1  https://awesome-site.ru/?utm_source=yandex&utm...           2  a825749b87   \n2  https://awesome-site.ru/?utm_source=yandex&utm...           6  a825749b87   \n3  https://awesome-site.ru/?utm_source=yandex&utm...           2  9cc0c5f6ca   \n4  https://awesome-site.ru/?utm_source=yandex&utm...           2  9cc0c5f6ca   \n\n   power_up  \n0    91.125  \n1    91.125  \n2   405.224  \n3   125.000  \n4   125.000  ",
      "text/html": "<div>\n<style scoped>\n    .dataframe tbody tr th:only-of-type {\n        vertical-align: middle;\n    }\n\n    .dataframe tbody tr th {\n        vertical-align: top;\n    }\n\n    .dataframe thead th {\n        text-align: right;\n    }\n</style>\n<table border=\"1\" class=\"dataframe\">\n  <thead>\n    <tr style=\"text-align: right;\">\n      <th></th>\n      <th>group</th>\n      <th>phrase</th>\n      <th>effect</th>\n      <th>ad_id</th>\n      <th>title</th>\n      <th>text</th>\n      <th>link</th>\n      <th>word_count</th>\n      <th>campaign</th>\n      <th>power_up</th>\n    </tr>\n  </thead>\n  <tbody>\n    <tr>\n      <th>0</th>\n      <td>мрт менделеевская</td>\n      <td>\"!мрт !менделеевская\"</td>\n      <td>4.5</td>\n      <td>2101704995</td>\n      <td>МРТ на Менделеевской от 2000₽</td>\n      <td>24 часа. МРТ в день обращения. Консультация вр...</td>\n      <td>https://awesome-site.ru/?utm_source=yandex&amp;utm...</td>\n      <td>2</td>\n      <td>a825749b87</td>\n      <td>91.125</td>\n    </tr>\n    <tr>\n      <th>1</th>\n      <td>мрт цао</td>\n      <td>\"мрт менделеевская\"</td>\n      <td>4.5</td>\n      <td>2101704995</td>\n      <td>МРТ на Менделеевской от 2000₽</td>\n      <td>24 часа. МРТ в день обращения. Консультация вр...</td>\n      <td>https://awesome-site.ru/?utm_source=yandex&amp;utm...</td>\n      <td>2</td>\n      <td>a825749b87</td>\n      <td>91.125</td>\n    </tr>\n    <tr>\n      <th>2</th>\n      <td>мрт цао</td>\n      <td>мрт менделеевская -головы -позвоночника -сдела...</td>\n      <td>7.4</td>\n      <td>2101704995</td>\n      <td>МРТ на Менделеевской от 2000₽</td>\n      <td>24 часа. МРТ в день обращения. Консультация вр...</td>\n      <td>https://awesome-site.ru/?utm_source=yandex&amp;utm...</td>\n      <td>6</td>\n      <td>a825749b87</td>\n      <td>405.224</td>\n    </tr>\n    <tr>\n      <th>3</th>\n      <td>мрт цао</td>\n      <td>\"!мрт !цао\"</td>\n      <td>5.0</td>\n      <td>2101704999</td>\n      <td>МРТ в ЦАО от 2000₽. Звоните!</td>\n      <td>24 часа. МРТ в день обращения. Консультация вр...</td>\n      <td>https://awesome-site.ru/?utm_source=yandex&amp;utm...</td>\n      <td>2</td>\n      <td>9cc0c5f6ca</td>\n      <td>125.000</td>\n    </tr>\n    <tr>\n      <th>4</th>\n      <td>мрт сао</td>\n      <td>\"мрт цао\"</td>\n      <td>5.0</td>\n      <td>2101704999</td>\n      <td>МРТ в ЦАО от 2000₽. Звоните!</td>\n      <td>24 часа. МРТ в день обращения. Консультация вр...</td>\n      <td>https://awesome-site.ru/?utm_source=yandex&amp;utm...</td>\n      <td>2</td>\n      <td>9cc0c5f6ca</td>\n      <td>125.000</td>\n    </tr>\n  </tbody>\n</table>\n</div>"
     },
     "execution_count": 89,
     "metadata": {},
     "output_type": "execute_result"
    }
   ],
   "source": [
    "stats['power_up'] = stats.apply(power_up, n=3, axis=1)\n",
    "stats.head()"
   ]
  },
  {
   "cell_type": "markdown",
   "metadata": {},
   "source": [
    "### Упражнение\n",
    "В наших данных есть много объявлений с услугой МРТ (в столбце group есть слово 'мрт') круглосуточно (в тексте объявления text есть '24 часа'). Отфильтруйте строки, в которых НЕ упоминается МРТ, но прием идет круглосуточно. Сколько таких строк в датасете?"
   ]
  },
  {
   "cell_type": "code",
   "execution_count": 45,
   "metadata": {
    "ExecuteTime": {
     "start_time": "2023-03-05T21:57:34.561283Z",
     "end_time": "2023-03-05T21:57:34.694145Z"
    }
   },
   "outputs": [
    {
     "data": {
      "text/plain": "True    39\nName: counter, dtype: int64"
     },
     "execution_count": 45,
     "metadata": {},
     "output_type": "execute_result"
    }
   ],
   "source": [
    "import pandas as pd\n",
    "inform_init = pd.read_excel('ad_campaigns.xlsx')\n",
    "inform_init.columns = ['group', 'phrase', 'effect', 'ad_id', 'title', 'text', 'link']\n",
    "\n",
    "def detect(row):\n",
    "    fil = row.group.split(' ')\n",
    "    if 'мрт' not in fil  and 'МРТ' not in fil and \"цмрт\" not in fil :\n",
    "        fil_add = row.text.split('.')\n",
    "        if '24 часа' in fil_add:\n",
    "            return True\n",
    "        return False\n",
    "    # if \"мрт\" not in row.group and \"24 часа\" in row.text:\n",
    "    #     return True\n",
    "    # return False\n",
    "inform_init['counter'] = inform_init.apply(detect, axis=1)\n",
    "inform_init_add = inform_init['counter'].value_counts()\n",
    "inform_init_add\n"
   ]
  },
  {
   "cell_type": "code",
   "execution_count": null,
   "metadata": {},
   "outputs": [],
   "source": []
  },
  {
   "cell_type": "code",
   "execution_count": null,
   "metadata": {},
   "outputs": [],
   "source": []
  },
  {
   "cell_type": "markdown",
   "metadata": {},
   "source": [
    "# Группировки"
   ]
  },
  {
   "cell_type": "code",
   "execution_count": 14,
   "metadata": {
    "scrolled": true,
    "ExecuteTime": {
     "start_time": "2023-03-05T21:28:29.634807Z",
     "end_time": "2023-03-05T21:28:29.639356Z"
    }
   },
   "outputs": [
    {
     "data": {
      "text/plain": "   order_id country     category  amount\n0         1  Россия  Электроника     100\n1         2   Китай         Авто      80\n2         3   Китай  Электроника      90\n3         4  Россия         Авто     140\n4         5  Россия         Авто      90",
      "text/html": "<div>\n<style scoped>\n    .dataframe tbody tr th:only-of-type {\n        vertical-align: middle;\n    }\n\n    .dataframe tbody tr th {\n        vertical-align: top;\n    }\n\n    .dataframe thead th {\n        text-align: right;\n    }\n</style>\n<table border=\"1\" class=\"dataframe\">\n  <thead>\n    <tr style=\"text-align: right;\">\n      <th></th>\n      <th>order_id</th>\n      <th>country</th>\n      <th>category</th>\n      <th>amount</th>\n    </tr>\n  </thead>\n  <tbody>\n    <tr>\n      <th>0</th>\n      <td>1</td>\n      <td>Россия</td>\n      <td>Электроника</td>\n      <td>100</td>\n    </tr>\n    <tr>\n      <th>1</th>\n      <td>2</td>\n      <td>Китай</td>\n      <td>Авто</td>\n      <td>80</td>\n    </tr>\n    <tr>\n      <th>2</th>\n      <td>3</td>\n      <td>Китай</td>\n      <td>Электроника</td>\n      <td>90</td>\n    </tr>\n    <tr>\n      <th>3</th>\n      <td>4</td>\n      <td>Россия</td>\n      <td>Авто</td>\n      <td>140</td>\n    </tr>\n    <tr>\n      <th>4</th>\n      <td>5</td>\n      <td>Россия</td>\n      <td>Авто</td>\n      <td>90</td>\n    </tr>\n  </tbody>\n</table>\n</div>"
     },
     "execution_count": 14,
     "metadata": {},
     "output_type": "execute_result"
    }
   ],
   "source": [
    "df = pd.DataFrame({'order_id': [1, 2, 3, 4, 5], 'country': ['Россия', 'Китай', 'Китай', 'Россия', 'Россия'], \n",
    "                   'category': ['Электроника', 'Авто', 'Электроника', 'Авто', 'Авто'], \n",
    "                   'amount': [100, 80, 90, 140, 90]})\n",
    "df"
   ]
  },
  {
   "cell_type": "markdown",
   "metadata": {},
   "source": [
    "### Упражнение\n",
    "Создайте датафрейм df_russia, в котором оставьте заказы из России. И аналогично df_china (заказы из Китая)."
   ]
  },
  {
   "cell_type": "code",
   "execution_count": 15,
   "metadata": {
    "ExecuteTime": {
     "start_time": "2023-03-05T21:35:00.817232Z",
     "end_time": "2023-03-05T21:35:00.825024Z"
    }
   },
   "outputs": [
    {
     "data": {
      "text/plain": "   order_id      made           category  amount\n0         1    Италия        Электроника      90\n1         2    Япония               Авто     180\n2         3       США      Бытовая химия      20\n3         4    Россия     Детские товары      40\n4         5  Германия  Игрушки для детей      60",
      "text/html": "<div>\n<style scoped>\n    .dataframe tbody tr th:only-of-type {\n        vertical-align: middle;\n    }\n\n    .dataframe tbody tr th {\n        vertical-align: top;\n    }\n\n    .dataframe thead th {\n        text-align: right;\n    }\n</style>\n<table border=\"1\" class=\"dataframe\">\n  <thead>\n    <tr style=\"text-align: right;\">\n      <th></th>\n      <th>order_id</th>\n      <th>made</th>\n      <th>category</th>\n      <th>amount</th>\n    </tr>\n  </thead>\n  <tbody>\n    <tr>\n      <th>0</th>\n      <td>1</td>\n      <td>Италия</td>\n      <td>Электроника</td>\n      <td>90</td>\n    </tr>\n    <tr>\n      <th>1</th>\n      <td>2</td>\n      <td>Япония</td>\n      <td>Авто</td>\n      <td>180</td>\n    </tr>\n    <tr>\n      <th>2</th>\n      <td>3</td>\n      <td>США</td>\n      <td>Бытовая химия</td>\n      <td>20</td>\n    </tr>\n    <tr>\n      <th>3</th>\n      <td>4</td>\n      <td>Россия</td>\n      <td>Детские товары</td>\n      <td>40</td>\n    </tr>\n    <tr>\n      <th>4</th>\n      <td>5</td>\n      <td>Германия</td>\n      <td>Игрушки для детей</td>\n      <td>60</td>\n    </tr>\n  </tbody>\n</table>\n</div>"
     },
     "execution_count": 15,
     "metadata": {},
     "output_type": "execute_result"
    }
   ],
   "source": [
    "\n",
    "df_russia = pd.DataFrame({'order_id': [1, 2, 3, 4, 5], 'made': ['Италия', 'Япония', 'США', 'Россия', 'Германия'],\n",
    "                   'category': ['Электроника', 'Авто', 'Бытовая химия', 'Детские товары', 'Игрушки для детей'],\n",
    "                   'amount': [90, 180, 20, 40, 60]})\n",
    "df_russia"
   ]
  },
  {
   "cell_type": "code",
   "execution_count": 16,
   "metadata": {
    "ExecuteTime": {
     "start_time": "2023-03-05T21:36:35.987285Z",
     "end_time": "2023-03-05T21:36:36.003030Z"
    }
   },
   "outputs": [
    {
     "data": {
      "text/plain": "   order_id   made           category  amount\n0         1  Китай        Электроника      40\n1         2  Китай               Авто      90\n2         3  Китай      Бытовая химия      10\n3         4  Китай     Детские товары      20\n4         5  Китай  Игрушки для детей      30",
      "text/html": "<div>\n<style scoped>\n    .dataframe tbody tr th:only-of-type {\n        vertical-align: middle;\n    }\n\n    .dataframe tbody tr th {\n        vertical-align: top;\n    }\n\n    .dataframe thead th {\n        text-align: right;\n    }\n</style>\n<table border=\"1\" class=\"dataframe\">\n  <thead>\n    <tr style=\"text-align: right;\">\n      <th></th>\n      <th>order_id</th>\n      <th>made</th>\n      <th>category</th>\n      <th>amount</th>\n    </tr>\n  </thead>\n  <tbody>\n    <tr>\n      <th>0</th>\n      <td>1</td>\n      <td>Китай</td>\n      <td>Электроника</td>\n      <td>40</td>\n    </tr>\n    <tr>\n      <th>1</th>\n      <td>2</td>\n      <td>Китай</td>\n      <td>Авто</td>\n      <td>90</td>\n    </tr>\n    <tr>\n      <th>2</th>\n      <td>3</td>\n      <td>Китай</td>\n      <td>Бытовая химия</td>\n      <td>10</td>\n    </tr>\n    <tr>\n      <th>3</th>\n      <td>4</td>\n      <td>Китай</td>\n      <td>Детские товары</td>\n      <td>20</td>\n    </tr>\n    <tr>\n      <th>4</th>\n      <td>5</td>\n      <td>Китай</td>\n      <td>Игрушки для детей</td>\n      <td>30</td>\n    </tr>\n  </tbody>\n</table>\n</div>"
     },
     "execution_count": 16,
     "metadata": {},
     "output_type": "execute_result"
    }
   ],
   "source": [
    "df_china = pd.DataFrame({'order_id': [1, 2, 3, 4, 5], 'made': ['Китай', 'Китай', 'Китай', 'Китай', 'Китай'],\n",
    "                   'category': ['Электроника', 'Авто', 'Бытовая химия', 'Детские товары', 'Игрушки для детей'],\n",
    "                   'amount': [40, 90, 10, 20, 30]})\n",
    "df_china"
   ]
  },
  {
   "cell_type": "code",
   "execution_count": 26,
   "metadata": {
    "ExecuteTime": {
     "start_time": "2023-03-05T21:48:32.707534Z",
     "end_time": "2023-03-05T21:48:32.715778Z"
    }
   },
   "outputs": [
    {
     "data": {
      "text/plain": "10"
     },
     "execution_count": 26,
     "metadata": {},
     "output_type": "execute_result"
    }
   ],
   "source": [
    "df_china.amount.sum()\n",
    "df_china.amount.max()\n",
    "df_china.amount.min()"
   ]
  },
  {
   "cell_type": "markdown",
   "metadata": {},
   "source": [
    "### Упражнение\n",
    "Посчитайте для df_russia и df_china:\n",
    "- среднюю стоимость заказа\n",
    "- разницу между максимальной и минимальной стоимостью заказа"
   ]
  },
  {
   "cell_type": "code",
   "execution_count": 30,
   "metadata": {
    "ExecuteTime": {
     "start_time": "2023-03-05T21:37:20.893854Z",
     "end_time": "2023-03-05T21:37:20.900226Z"
    }
   },
   "outputs": [
    {
     "ename": "AssertionError",
     "evalue": "",
     "output_type": "error",
     "traceback": [
      "\u001B[1;31m---------------------------------------------------------------------------\u001B[0m",
      "\u001B[1;31mAssertionError\u001B[0m                            Traceback (most recent call last)",
      "Cell \u001B[1;32mIn[30], line 4\u001B[0m\n\u001B[0;32m      1\u001B[0m \u001B[38;5;28;01mdef\u001B[39;00m \u001B[38;5;21mstatistic\u001B[39m(data_f):\n\u001B[0;32m      2\u001B[0m     \u001B[38;5;66;03m# print(f\"Midle {data_f.amount.sum() / len(data_f)}  and differense {data_f.amount.max() - data_f.amount.min()}\")\u001B[39;00m\n\u001B[0;32m      3\u001B[0m     \u001B[38;5;28;01mreturn\u001B[39;00m data_f\u001B[38;5;241m.\u001B[39mamount\u001B[38;5;241m.\u001B[39msum() \u001B[38;5;241m/\u001B[39m \u001B[38;5;28mlen\u001B[39m(data_f), data_f\u001B[38;5;241m.\u001B[39mamount\u001B[38;5;241m.\u001B[39mmax() \u001B[38;5;241m-\u001B[39m data_f\u001B[38;5;241m.\u001B[39mamount\u001B[38;5;241m.\u001B[39mmin()\n\u001B[1;32m----> 4\u001B[0m df_china[\u001B[38;5;124m'\u001B[39m\u001B[38;5;124mstat\u001B[39m\u001B[38;5;124m'\u001B[39m] \u001B[38;5;241m=\u001B[39m \u001B[43mdf_china\u001B[49m\u001B[38;5;241;43m.\u001B[39;49m\u001B[43mapply\u001B[49m\u001B[43m(\u001B[49m\u001B[43mstatistic\u001B[49m\u001B[43m(\u001B[49m\u001B[43mdf_china\u001B[49m\u001B[43m)\u001B[49m\u001B[43m,\u001B[49m\u001B[43m \u001B[49m\u001B[43maxis\u001B[49m\u001B[38;5;241;43m=\u001B[39;49m\u001B[38;5;241;43m1\u001B[39;49m\u001B[43m)\u001B[49m\n\u001B[0;32m      5\u001B[0m df_china\n",
      "File \u001B[1;32m~\\AppData\\Local\\Programs\\Python\\Python311\\Lib\\site-packages\\pandas\\core\\frame.py:9568\u001B[0m, in \u001B[0;36mDataFrame.apply\u001B[1;34m(self, func, axis, raw, result_type, args, **kwargs)\u001B[0m\n\u001B[0;32m   9557\u001B[0m \u001B[38;5;28;01mfrom\u001B[39;00m \u001B[38;5;21;01mpandas\u001B[39;00m\u001B[38;5;21;01m.\u001B[39;00m\u001B[38;5;21;01mcore\u001B[39;00m\u001B[38;5;21;01m.\u001B[39;00m\u001B[38;5;21;01mapply\u001B[39;00m \u001B[38;5;28;01mimport\u001B[39;00m frame_apply\n\u001B[0;32m   9559\u001B[0m op \u001B[38;5;241m=\u001B[39m frame_apply(\n\u001B[0;32m   9560\u001B[0m     \u001B[38;5;28mself\u001B[39m,\n\u001B[0;32m   9561\u001B[0m     func\u001B[38;5;241m=\u001B[39mfunc,\n\u001B[1;32m   (...)\u001B[0m\n\u001B[0;32m   9566\u001B[0m     kwargs\u001B[38;5;241m=\u001B[39mkwargs,\n\u001B[0;32m   9567\u001B[0m )\n\u001B[1;32m-> 9568\u001B[0m \u001B[38;5;28;01mreturn\u001B[39;00m \u001B[43mop\u001B[49m\u001B[38;5;241;43m.\u001B[39;49m\u001B[43mapply\u001B[49m\u001B[43m(\u001B[49m\u001B[43m)\u001B[49m\u001B[38;5;241m.\u001B[39m__finalize__(\u001B[38;5;28mself\u001B[39m, method\u001B[38;5;241m=\u001B[39m\u001B[38;5;124m\"\u001B[39m\u001B[38;5;124mapply\u001B[39m\u001B[38;5;124m\"\u001B[39m)\n",
      "File \u001B[1;32m~\\AppData\\Local\\Programs\\Python\\Python311\\Lib\\site-packages\\pandas\\core\\apply.py:735\u001B[0m, in \u001B[0;36mFrameApply.apply\u001B[1;34m(self)\u001B[0m\n\u001B[0;32m    733\u001B[0m \u001B[38;5;66;03m# dispatch to agg\u001B[39;00m\n\u001B[0;32m    734\u001B[0m \u001B[38;5;28;01mif\u001B[39;00m is_list_like(\u001B[38;5;28mself\u001B[39m\u001B[38;5;241m.\u001B[39mf):\n\u001B[1;32m--> 735\u001B[0m     \u001B[38;5;28;01mreturn\u001B[39;00m \u001B[38;5;28;43mself\u001B[39;49m\u001B[38;5;241;43m.\u001B[39;49m\u001B[43mapply_multiple\u001B[49m\u001B[43m(\u001B[49m\u001B[43m)\u001B[49m\n\u001B[0;32m    737\u001B[0m \u001B[38;5;66;03m# all empty\u001B[39;00m\n\u001B[0;32m    738\u001B[0m \u001B[38;5;28;01mif\u001B[39;00m \u001B[38;5;28mlen\u001B[39m(\u001B[38;5;28mself\u001B[39m\u001B[38;5;241m.\u001B[39mcolumns) \u001B[38;5;241m==\u001B[39m \u001B[38;5;241m0\u001B[39m \u001B[38;5;129;01mand\u001B[39;00m \u001B[38;5;28mlen\u001B[39m(\u001B[38;5;28mself\u001B[39m\u001B[38;5;241m.\u001B[39mindex) \u001B[38;5;241m==\u001B[39m \u001B[38;5;241m0\u001B[39m:\n",
      "File \u001B[1;32m~\\AppData\\Local\\Programs\\Python\\Python311\\Lib\\site-packages\\pandas\\core\\apply.py:591\u001B[0m, in \u001B[0;36mApply.apply_multiple\u001B[1;34m(self)\u001B[0m\n\u001B[0;32m    582\u001B[0m \u001B[38;5;28;01mdef\u001B[39;00m \u001B[38;5;21mapply_multiple\u001B[39m(\u001B[38;5;28mself\u001B[39m) \u001B[38;5;241m-\u001B[39m\u001B[38;5;241m>\u001B[39m DataFrame \u001B[38;5;241m|\u001B[39m Series:\n\u001B[0;32m    583\u001B[0m \u001B[38;5;250m    \u001B[39m\u001B[38;5;124;03m\"\"\"\u001B[39;00m\n\u001B[0;32m    584\u001B[0m \u001B[38;5;124;03m    Compute apply in case of a list-like or dict-like.\u001B[39;00m\n\u001B[0;32m    585\u001B[0m \n\u001B[1;32m   (...)\u001B[0m\n\u001B[0;32m    589\u001B[0m \u001B[38;5;124;03m        Result when self.f is a list-like or dict-like, None otherwise.\u001B[39;00m\n\u001B[0;32m    590\u001B[0m \u001B[38;5;124;03m    \"\"\"\u001B[39;00m\n\u001B[1;32m--> 591\u001B[0m     \u001B[38;5;28;01mreturn\u001B[39;00m \u001B[38;5;28;43mself\u001B[39;49m\u001B[38;5;241;43m.\u001B[39;49m\u001B[43mobj\u001B[49m\u001B[38;5;241;43m.\u001B[39;49m\u001B[43maggregate\u001B[49m\u001B[43m(\u001B[49m\u001B[38;5;28;43mself\u001B[39;49m\u001B[38;5;241;43m.\u001B[39;49m\u001B[43mf\u001B[49m\u001B[43m,\u001B[49m\u001B[43m \u001B[49m\u001B[38;5;28;43mself\u001B[39;49m\u001B[38;5;241;43m.\u001B[39;49m\u001B[43maxis\u001B[49m\u001B[43m,\u001B[49m\u001B[43m \u001B[49m\u001B[38;5;241;43m*\u001B[39;49m\u001B[38;5;28;43mself\u001B[39;49m\u001B[38;5;241;43m.\u001B[39;49m\u001B[43margs\u001B[49m\u001B[43m,\u001B[49m\u001B[43m \u001B[49m\u001B[38;5;241;43m*\u001B[39;49m\u001B[38;5;241;43m*\u001B[39;49m\u001B[38;5;28;43mself\u001B[39;49m\u001B[38;5;241;43m.\u001B[39;49m\u001B[43mkwargs\u001B[49m\u001B[43m)\u001B[49m\n",
      "File \u001B[1;32m~\\AppData\\Local\\Programs\\Python\\Python311\\Lib\\site-packages\\pandas\\core\\frame.py:9342\u001B[0m, in \u001B[0;36mDataFrame.aggregate\u001B[1;34m(self, func, axis, *args, **kwargs)\u001B[0m\n\u001B[0;32m   9339\u001B[0m relabeling, func, columns, order \u001B[38;5;241m=\u001B[39m reconstruct_func(func, \u001B[38;5;241m*\u001B[39m\u001B[38;5;241m*\u001B[39mkwargs)\n\u001B[0;32m   9341\u001B[0m op \u001B[38;5;241m=\u001B[39m frame_apply(\u001B[38;5;28mself\u001B[39m, func\u001B[38;5;241m=\u001B[39mfunc, axis\u001B[38;5;241m=\u001B[39maxis, args\u001B[38;5;241m=\u001B[39margs, kwargs\u001B[38;5;241m=\u001B[39mkwargs)\n\u001B[1;32m-> 9342\u001B[0m result \u001B[38;5;241m=\u001B[39m \u001B[43mop\u001B[49m\u001B[38;5;241;43m.\u001B[39;49m\u001B[43magg\u001B[49m\u001B[43m(\u001B[49m\u001B[43m)\u001B[49m\n\u001B[0;32m   9344\u001B[0m \u001B[38;5;28;01mif\u001B[39;00m relabeling:\n\u001B[0;32m   9345\u001B[0m     \u001B[38;5;66;03m# This is to keep the order to columns occurrence unchanged, and also\u001B[39;00m\n\u001B[0;32m   9346\u001B[0m     \u001B[38;5;66;03m# keep the order of new columns occurrence unchanged\u001B[39;00m\n\u001B[0;32m   9347\u001B[0m \n\u001B[0;32m   9348\u001B[0m     \u001B[38;5;66;03m# For the return values of reconstruct_func, if relabeling is\u001B[39;00m\n\u001B[0;32m   9349\u001B[0m     \u001B[38;5;66;03m# False, columns and order will be None.\u001B[39;00m\n\u001B[0;32m   9350\u001B[0m     \u001B[38;5;28;01massert\u001B[39;00m columns \u001B[38;5;129;01mis\u001B[39;00m \u001B[38;5;129;01mnot\u001B[39;00m \u001B[38;5;28;01mNone\u001B[39;00m\n",
      "File \u001B[1;32m~\\AppData\\Local\\Programs\\Python\\Python311\\Lib\\site-packages\\pandas\\core\\apply.py:776\u001B[0m, in \u001B[0;36mFrameApply.agg\u001B[1;34m(self)\u001B[0m\n\u001B[0;32m    774\u001B[0m result \u001B[38;5;241m=\u001B[39m \u001B[38;5;28;01mNone\u001B[39;00m\n\u001B[0;32m    775\u001B[0m \u001B[38;5;28;01mtry\u001B[39;00m:\n\u001B[1;32m--> 776\u001B[0m     result \u001B[38;5;241m=\u001B[39m \u001B[38;5;28;43msuper\u001B[39;49m\u001B[43m(\u001B[49m\u001B[43m)\u001B[49m\u001B[38;5;241;43m.\u001B[39;49m\u001B[43magg\u001B[49m\u001B[43m(\u001B[49m\u001B[43m)\u001B[49m\n\u001B[0;32m    777\u001B[0m \u001B[38;5;28;01mexcept\u001B[39;00m \u001B[38;5;167;01mTypeError\u001B[39;00m \u001B[38;5;28;01mas\u001B[39;00m err:\n\u001B[0;32m    778\u001B[0m     exc \u001B[38;5;241m=\u001B[39m \u001B[38;5;167;01mTypeError\u001B[39;00m(\n\u001B[0;32m    779\u001B[0m         \u001B[38;5;124m\"\u001B[39m\u001B[38;5;124mDataFrame constructor called with \u001B[39m\u001B[38;5;124m\"\u001B[39m\n\u001B[0;32m    780\u001B[0m         \u001B[38;5;124mf\u001B[39m\u001B[38;5;124m\"\u001B[39m\u001B[38;5;124mincompatible data and dtype: \u001B[39m\u001B[38;5;132;01m{\u001B[39;00merr\u001B[38;5;132;01m}\u001B[39;00m\u001B[38;5;124m\"\u001B[39m\n\u001B[0;32m    781\u001B[0m     )\n",
      "File \u001B[1;32m~\\AppData\\Local\\Programs\\Python\\Python311\\Lib\\site-packages\\pandas\\core\\apply.py:175\u001B[0m, in \u001B[0;36mApply.agg\u001B[1;34m(self)\u001B[0m\n\u001B[0;32m    172\u001B[0m     \u001B[38;5;28;01mreturn\u001B[39;00m \u001B[38;5;28mself\u001B[39m\u001B[38;5;241m.\u001B[39magg_dict_like()\n\u001B[0;32m    173\u001B[0m \u001B[38;5;28;01melif\u001B[39;00m is_list_like(arg):\n\u001B[0;32m    174\u001B[0m     \u001B[38;5;66;03m# we require a list, but not a 'str'\u001B[39;00m\n\u001B[1;32m--> 175\u001B[0m     \u001B[38;5;28;01mreturn\u001B[39;00m \u001B[38;5;28;43mself\u001B[39;49m\u001B[38;5;241;43m.\u001B[39;49m\u001B[43magg_list_like\u001B[49m\u001B[43m(\u001B[49m\u001B[43m)\u001B[49m\n\u001B[0;32m    177\u001B[0m \u001B[38;5;28;01mif\u001B[39;00m callable(arg):\n\u001B[0;32m    178\u001B[0m     f \u001B[38;5;241m=\u001B[39m com\u001B[38;5;241m.\u001B[39mget_cython_func(arg)\n",
      "File \u001B[1;32m~\\AppData\\Local\\Programs\\Python\\Python311\\Lib\\site-packages\\pandas\\core\\apply.py:401\u001B[0m, in \u001B[0;36mApply.agg_list_like\u001B[1;34m(self)\u001B[0m\n\u001B[0;32m    394\u001B[0m \u001B[38;5;28;01mtry\u001B[39;00m:\n\u001B[0;32m    395\u001B[0m     \u001B[38;5;66;03m# Capture and suppress any warnings emitted by us in the call\u001B[39;00m\n\u001B[0;32m    396\u001B[0m     \u001B[38;5;66;03m# to agg below, but pass through any warnings that were\u001B[39;00m\n\u001B[0;32m    397\u001B[0m     \u001B[38;5;66;03m# generated otherwise.\u001B[39;00m\n\u001B[0;32m    398\u001B[0m     \u001B[38;5;66;03m# This is necessary because of https://bugs.python.org/issue29672\u001B[39;00m\n\u001B[0;32m    399\u001B[0m     \u001B[38;5;66;03m# See GH #43741 for more details\u001B[39;00m\n\u001B[0;32m    400\u001B[0m     \u001B[38;5;28;01mwith\u001B[39;00m warnings\u001B[38;5;241m.\u001B[39mcatch_warnings(record\u001B[38;5;241m=\u001B[39m\u001B[38;5;28;01mTrue\u001B[39;00m) \u001B[38;5;28;01mas\u001B[39;00m record:\n\u001B[1;32m--> 401\u001B[0m         new_res \u001B[38;5;241m=\u001B[39m \u001B[43mcolg\u001B[49m\u001B[38;5;241;43m.\u001B[39;49m\u001B[43maggregate\u001B[49m\u001B[43m(\u001B[49m\u001B[43marg\u001B[49m\u001B[43m)\u001B[49m\n\u001B[0;32m    402\u001B[0m     \u001B[38;5;28;01mif\u001B[39;00m \u001B[38;5;28mlen\u001B[39m(record) \u001B[38;5;241m>\u001B[39m \u001B[38;5;241m0\u001B[39m:\n\u001B[0;32m    403\u001B[0m         match \u001B[38;5;241m=\u001B[39m re\u001B[38;5;241m.\u001B[39mcompile(depr_nuisance_columns_msg\u001B[38;5;241m.\u001B[39mformat(\u001B[38;5;124m\"\u001B[39m\u001B[38;5;124m.*\u001B[39m\u001B[38;5;124m\"\u001B[39m))\n",
      "File \u001B[1;32m~\\AppData\\Local\\Programs\\Python\\Python311\\Lib\\site-packages\\pandas\\core\\series.py:4605\u001B[0m, in \u001B[0;36mSeries.aggregate\u001B[1;34m(self, func, axis, *args, **kwargs)\u001B[0m\n\u001B[0;32m   4602\u001B[0m     func \u001B[38;5;241m=\u001B[39m \u001B[38;5;28mdict\u001B[39m(kwargs\u001B[38;5;241m.\u001B[39mitems())\n\u001B[0;32m   4604\u001B[0m op \u001B[38;5;241m=\u001B[39m SeriesApply(\u001B[38;5;28mself\u001B[39m, func, convert_dtype\u001B[38;5;241m=\u001B[39m\u001B[38;5;28;01mFalse\u001B[39;00m, args\u001B[38;5;241m=\u001B[39margs, kwargs\u001B[38;5;241m=\u001B[39mkwargs)\n\u001B[1;32m-> 4605\u001B[0m result \u001B[38;5;241m=\u001B[39m \u001B[43mop\u001B[49m\u001B[38;5;241;43m.\u001B[39;49m\u001B[43magg\u001B[49m\u001B[43m(\u001B[49m\u001B[43m)\u001B[49m\n\u001B[0;32m   4606\u001B[0m \u001B[38;5;28;01mreturn\u001B[39;00m result\n",
      "File \u001B[1;32m~\\AppData\\Local\\Programs\\Python\\Python311\\Lib\\site-packages\\pandas\\core\\apply.py:1126\u001B[0m, in \u001B[0;36mSeriesApply.agg\u001B[1;34m(self)\u001B[0m\n\u001B[0;32m   1125\u001B[0m \u001B[38;5;28;01mdef\u001B[39;00m \u001B[38;5;21magg\u001B[39m(\u001B[38;5;28mself\u001B[39m):\n\u001B[1;32m-> 1126\u001B[0m     result \u001B[38;5;241m=\u001B[39m \u001B[38;5;28;43msuper\u001B[39;49m\u001B[43m(\u001B[49m\u001B[43m)\u001B[49m\u001B[38;5;241;43m.\u001B[39;49m\u001B[43magg\u001B[49m\u001B[43m(\u001B[49m\u001B[43m)\u001B[49m\n\u001B[0;32m   1127\u001B[0m     \u001B[38;5;28;01mif\u001B[39;00m result \u001B[38;5;129;01mis\u001B[39;00m \u001B[38;5;28;01mNone\u001B[39;00m:\n\u001B[0;32m   1128\u001B[0m         f \u001B[38;5;241m=\u001B[39m \u001B[38;5;28mself\u001B[39m\u001B[38;5;241m.\u001B[39mf\n",
      "File \u001B[1;32m~\\AppData\\Local\\Programs\\Python\\Python311\\Lib\\site-packages\\pandas\\core\\apply.py:175\u001B[0m, in \u001B[0;36mApply.agg\u001B[1;34m(self)\u001B[0m\n\u001B[0;32m    172\u001B[0m     \u001B[38;5;28;01mreturn\u001B[39;00m \u001B[38;5;28mself\u001B[39m\u001B[38;5;241m.\u001B[39magg_dict_like()\n\u001B[0;32m    173\u001B[0m \u001B[38;5;28;01melif\u001B[39;00m is_list_like(arg):\n\u001B[0;32m    174\u001B[0m     \u001B[38;5;66;03m# we require a list, but not a 'str'\u001B[39;00m\n\u001B[1;32m--> 175\u001B[0m     \u001B[38;5;28;01mreturn\u001B[39;00m \u001B[38;5;28;43mself\u001B[39;49m\u001B[38;5;241;43m.\u001B[39;49m\u001B[43magg_list_like\u001B[49m\u001B[43m(\u001B[49m\u001B[43m)\u001B[49m\n\u001B[0;32m    177\u001B[0m \u001B[38;5;28;01mif\u001B[39;00m callable(arg):\n\u001B[0;32m    178\u001B[0m     f \u001B[38;5;241m=\u001B[39m com\u001B[38;5;241m.\u001B[39mget_cython_func(arg)\n",
      "File \u001B[1;32m~\\AppData\\Local\\Programs\\Python\\Python311\\Lib\\site-packages\\pandas\\core\\apply.py:378\u001B[0m, in \u001B[0;36mApply.agg_list_like\u001B[1;34m(self)\u001B[0m\n\u001B[0;32m    376\u001B[0m colg \u001B[38;5;241m=\u001B[39m obj\u001B[38;5;241m.\u001B[39m_gotitem(selected_obj\u001B[38;5;241m.\u001B[39mname, ndim\u001B[38;5;241m=\u001B[39m\u001B[38;5;241m1\u001B[39m, subset\u001B[38;5;241m=\u001B[39mselected_obj)\n\u001B[0;32m    377\u001B[0m \u001B[38;5;28;01mtry\u001B[39;00m:\n\u001B[1;32m--> 378\u001B[0m     new_res \u001B[38;5;241m=\u001B[39m \u001B[43mcolg\u001B[49m\u001B[38;5;241;43m.\u001B[39;49m\u001B[43maggregate\u001B[49m\u001B[43m(\u001B[49m\u001B[43ma\u001B[49m\u001B[43m)\u001B[49m\n\u001B[0;32m    380\u001B[0m \u001B[38;5;28;01mexcept\u001B[39;00m \u001B[38;5;167;01mTypeError\u001B[39;00m:\n\u001B[0;32m    381\u001B[0m     failed_names\u001B[38;5;241m.\u001B[39mappend(com\u001B[38;5;241m.\u001B[39mget_callable_name(a) \u001B[38;5;129;01mor\u001B[39;00m a)\n",
      "File \u001B[1;32m~\\AppData\\Local\\Programs\\Python\\Python311\\Lib\\site-packages\\pandas\\core\\series.py:4605\u001B[0m, in \u001B[0;36mSeries.aggregate\u001B[1;34m(self, func, axis, *args, **kwargs)\u001B[0m\n\u001B[0;32m   4602\u001B[0m     func \u001B[38;5;241m=\u001B[39m \u001B[38;5;28mdict\u001B[39m(kwargs\u001B[38;5;241m.\u001B[39mitems())\n\u001B[0;32m   4604\u001B[0m op \u001B[38;5;241m=\u001B[39m SeriesApply(\u001B[38;5;28mself\u001B[39m, func, convert_dtype\u001B[38;5;241m=\u001B[39m\u001B[38;5;28;01mFalse\u001B[39;00m, args\u001B[38;5;241m=\u001B[39margs, kwargs\u001B[38;5;241m=\u001B[39mkwargs)\n\u001B[1;32m-> 4605\u001B[0m result \u001B[38;5;241m=\u001B[39m \u001B[43mop\u001B[49m\u001B[38;5;241;43m.\u001B[39;49m\u001B[43magg\u001B[49m\u001B[43m(\u001B[49m\u001B[43m)\u001B[49m\n\u001B[0;32m   4606\u001B[0m \u001B[38;5;28;01mreturn\u001B[39;00m result\n",
      "File \u001B[1;32m~\\AppData\\Local\\Programs\\Python\\Python311\\Lib\\site-packages\\pandas\\core\\apply.py:1132\u001B[0m, in \u001B[0;36mSeriesApply.agg\u001B[1;34m(self)\u001B[0m\n\u001B[0;32m   1129\u001B[0m kwargs \u001B[38;5;241m=\u001B[39m \u001B[38;5;28mself\u001B[39m\u001B[38;5;241m.\u001B[39mkwargs\n\u001B[0;32m   1131\u001B[0m \u001B[38;5;66;03m# string, list-like, and dict-like are entirely handled in super\u001B[39;00m\n\u001B[1;32m-> 1132\u001B[0m \u001B[38;5;28;01massert\u001B[39;00m callable(f)\n\u001B[0;32m   1134\u001B[0m \u001B[38;5;66;03m# we can be called from an inner function which\u001B[39;00m\n\u001B[0;32m   1135\u001B[0m \u001B[38;5;66;03m# passes this meta-data\u001B[39;00m\n\u001B[0;32m   1136\u001B[0m kwargs\u001B[38;5;241m.\u001B[39mpop(\u001B[38;5;124m\"\u001B[39m\u001B[38;5;124m_level\u001B[39m\u001B[38;5;124m\"\u001B[39m, \u001B[38;5;28;01mNone\u001B[39;00m)\n",
      "\u001B[1;31mAssertionError\u001B[0m: "
     ]
    }
   ],
   "source": [
    "def statistic(data_f):\n",
    "    # print(f\"Midle {data_f.amount.sum() / len(data_f)}  and differense {data_f.amount.max() - data_f.amount.min()}\")\n",
    "    return data_f.amount.sum() / len(data_f), data_f.amount.max() - data_f.amount.min()\n",
    "df_china['stat'] = df_china.apply(statistic(df_china), axis=1)\n",
    "df_china"
   ]
  },
  {
   "cell_type": "code",
   "execution_count": null,
   "metadata": {},
   "outputs": [],
   "source": []
  },
  {
   "cell_type": "code",
   "execution_count": null,
   "metadata": {},
   "outputs": [],
   "source": []
  },
  {
   "cell_type": "markdown",
   "metadata": {},
   "source": [
    "Объединим процесс разбиения на датафреймы"
   ]
  },
  {
   "cell_type": "code",
   "execution_count": null,
   "metadata": {},
   "outputs": [],
   "source": [
    "def groupby_function(data):\n",
    "    return data.amount.max() - data.amount.min()"
   ]
  },
  {
   "cell_type": "code",
   "execution_count": null,
   "metadata": {
    "scrolled": true
   },
   "outputs": [],
   "source": [
    "df.groupby('country').apply(groupby_function)"
   ]
  },
  {
   "cell_type": "markdown",
   "metadata": {},
   "source": [
    "Вернемся к статистике рекламных кампаний"
   ]
  },
  {
   "cell_type": "code",
   "execution_count": null,
   "metadata": {},
   "outputs": [],
   "source": [
    "# раньше использовали value_counts\n",
    "\n",
    "stats['campaign'].value_counts().head()"
   ]
  },
  {
   "cell_type": "code",
   "execution_count": null,
   "metadata": {
    "scrolled": true
   },
   "outputs": [],
   "source": [
    "# более универсальный способ\n",
    "\n",
    "stats.groupby('campaign').count().head()"
   ]
  },
  {
   "cell_type": "code",
   "execution_count": null,
   "metadata": {},
   "outputs": [],
   "source": [
    "stats.groupby('campaign').count()[['group', 'effect']].head()"
   ]
  },
  {
   "cell_type": "markdown",
   "metadata": {},
   "source": [
    "### Как вернуть столбец из индекса - метод reset_index()"
   ]
  },
  {
   "cell_type": "code",
   "execution_count": null,
   "metadata": {
    "scrolled": true
   },
   "outputs": [],
   "source": [
    "stats.groupby('campaign').count().reset_index().head()"
   ]
  },
  {
   "cell_type": "markdown",
   "metadata": {},
   "source": [
    "### К группировке можно применять разные функции такие образом:"
   ]
  },
  {
   "cell_type": "code",
   "execution_count": null,
   "metadata": {},
   "outputs": [],
   "source": [
    "obj = stats.groupby('campaign')"
   ]
  },
  {
   "cell_type": "code",
   "execution_count": null,
   "metadata": {},
   "outputs": [],
   "source": [
    "obj.max().head()"
   ]
  },
  {
   "cell_type": "code",
   "execution_count": null,
   "metadata": {
    "scrolled": true
   },
   "outputs": [],
   "source": [
    "obj.mean().head()"
   ]
  },
  {
   "cell_type": "markdown",
   "metadata": {},
   "source": [
    "### Упражнение\n",
    "Для каждой кампании campaign найдите минимальное значение столбца effect и постройте рейтинг кампаний по этим значениям, начиная с самого низкого."
   ]
  },
  {
   "cell_type": "code",
   "execution_count": null,
   "metadata": {},
   "outputs": [],
   "source": []
  },
  {
   "cell_type": "code",
   "execution_count": null,
   "metadata": {},
   "outputs": [],
   "source": []
  },
  {
   "cell_type": "code",
   "execution_count": null,
   "metadata": {},
   "outputs": [],
   "source": []
  },
  {
   "cell_type": "markdown",
   "metadata": {},
   "source": [
    "### Несколько функций в группировках"
   ]
  },
  {
   "cell_type": "code",
   "execution_count": null,
   "metadata": {},
   "outputs": [],
   "source": [
    "# задаем несколько функций сразу\n",
    "\n",
    "stats.groupby('campaign').agg(['min', 'max'])['effect'].head()"
   ]
  },
  {
   "cell_type": "code",
   "execution_count": null,
   "metadata": {},
   "outputs": [],
   "source": [
    "# разные метрики для разных столбцов\n",
    "\n",
    "results = stats.groupby('campaign').agg({'effect': ['min', 'max'], 'power_up': 'mean'})\n",
    "results.head()"
   ]
  },
  {
   "cell_type": "markdown",
   "metadata": {},
   "source": [
    "### Как обращаться к вложенным столбцам"
   ]
  },
  {
   "cell_type": "code",
   "execution_count": null,
   "metadata": {},
   "outputs": [],
   "source": [
    "results['effect']['max'].head()"
   ]
  },
  {
   "cell_type": "code",
   "execution_count": null,
   "metadata": {},
   "outputs": [],
   "source": [
    "# или даже так\n",
    "stats.groupby('campaign').agg({'effect': ['min', 'max'], 'power_up': 'mean'})['effect']['max'].head()"
   ]
  },
  {
   "cell_type": "code",
   "execution_count": null,
   "metadata": {},
   "outputs": [],
   "source": [
    "# группировка по нескольким столбцам\n",
    "\n",
    "stats.groupby(['group', 'campaign']).count().head()"
   ]
  },
  {
   "cell_type": "code",
   "execution_count": null,
   "metadata": {},
   "outputs": [],
   "source": [
    "# максимальное число объявлений в одной группе\n",
    "\n",
    "stats.groupby(['group', 'campaign']).count().sort_values('phrase', ascending=False).head()"
   ]
  },
  {
   "cell_type": "markdown",
   "metadata": {},
   "source": [
    "### Упражнение\n",
    "Какая кампания имеет наименьшую сумму по столбцу effect? "
   ]
  },
  {
   "cell_type": "code",
   "execution_count": null,
   "metadata": {},
   "outputs": [],
   "source": []
  },
  {
   "cell_type": "code",
   "execution_count": null,
   "metadata": {},
   "outputs": [],
   "source": []
  },
  {
   "cell_type": "code",
   "execution_count": null,
   "metadata": {},
   "outputs": [],
   "source": []
  }
 ],
 "metadata": {
  "kernelspec": {
   "display_name": "Python 3",
   "language": "python",
   "name": "python3"
  },
  "language_info": {
   "codemirror_mode": {
    "name": "ipython",
    "version": 3
   },
   "file_extension": ".py",
   "mimetype": "text/x-python",
   "name": "python",
   "nbconvert_exporter": "python",
   "pygments_lexer": "ipython3",
   "version": "3.6.4"
  }
 },
 "nbformat": 4,
 "nbformat_minor": 2
}
